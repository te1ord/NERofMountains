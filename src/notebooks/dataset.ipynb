{
 "cells": [
  {
   "cell_type": "markdown",
   "metadata": {},
   "source": [
    "## LLM generated data"
   ]
  },
  {
   "cell_type": "code",
   "execution_count": 50,
   "metadata": {},
   "outputs": [],
   "source": [
    "import json\n",
    "import re\n",
    "import sys\n",
    "import os\n",
    "\n",
    "\n",
    "current_directory = os.getcwd()\n",
    "parent_directory = os.path.abspath(os.path.join(current_directory, '..'))\n",
    "sys.path.append(parent_directory)\n",
    "\n",
    "from utils.constants import init_datagen_config "
   ]
  },
  {
   "cell_type": "code",
   "execution_count": 51,
   "metadata": {},
   "outputs": [
    {
     "data": {
      "text/plain": [
       "{'MOUNTAINS_NAMES_PATH': '../dataset/synthetic/Mountain.csv',\n",
       " 'SAVE_DATASET_PATH': '../dataset/synthetic/mountains_only_synthetic.txt',\n",
       " 'SAVE_PROCESSED_PATH': '../../dataset/synthetic/synthetic_processed.json',\n",
       " 'GENERATOR_MODEL': 'meta/llama-3.1-405b-instruct',\n",
       " 'MIN_SAMPLES': 0,\n",
       " 'MAX_SAMPLES': 3,\n",
       " 'TEMPERATURE': 0.9,\n",
       " 'WNUT_DATA_PATH': '../../dataset/wnut16/wnut 16.txt.conll',\n",
       " 'PROCESSED_WNUT_PATH': '../../dataset/wnut16/wnut_processed.csv',\n",
       " 'FEW-NERD_BALANCED_TRAIN_PATH': '../../dataset/few-nerd/train',\n",
       " 'FEW-NERD_BALANCED_VAL_PATH': '../../dataset/few-nerd/val',\n",
       " 'FEW-NERD_BALANCED_TEST_PATH': '../../dataset/few-nerd/test',\n",
       " 'FINAL_DATASET_PATH': '../../dataset/resulting_dataset'}"
      ]
     },
     "execution_count": 51,
     "metadata": {},
     "output_type": "execute_result"
    }
   ],
   "source": [
    "DATAGEN_CONFIG = init_datagen_config('../configs/datagen.yaml')\n",
    "DATAGEN_CONFIG"
   ]
  },
  {
   "cell_type": "code",
   "execution_count": 52,
   "metadata": {},
   "outputs": [],
   "source": [
    "import json\n",
    "import os\n",
    "import re\n",
    "\n",
    "# Load your dataset\n",
    "with open(os.path.join(\"..\", DATAGEN_CONFIG['SAVE_DATASET_PATH']), 'r') as f:\n",
    "    dataset = json.load(f)\n",
    "\n",
    "def preprocess_for_ner(dataset):\n",
    "    ner_data = []\n",
    "\n",
    "    for entry in dataset:\n",
    "        mountain_name = entry[\"mountain\"]  \n",
    "        sentences = entry[\"sentences\"]\n",
    "\n",
    "        for sentence in sentences:\n",
    "            tokens = re.findall(r'\\w+|[^\\w\\s]', sentence, re.UNICODE)\n",
    "            labels = [0] * len(tokens)  # Start with all '0' (Outside)\n",
    "\n",
    "            # Regex to find mountain names and label them\n",
    "            mountain_regex = re.escape(mountain_name)\n",
    "            for match in re.finditer(mountain_regex, sentence):\n",
    "                start, end = match.span()\n",
    "\n",
    "                start_word = len(re.findall(r'\\w+|[^\\w\\s]', sentence[:start], re.UNICODE))\n",
    "                end_word = len(re.findall(r'\\w+|[^\\w\\s]', sentence[:end], re.UNICODE))\n",
    "\n",
    "                # Update labels using the few-nerd convention\n",
    "                labels[start_word] = 1  # B-Mountain\n",
    "                for i in range(start_word + 1, end_word):\n",
    "                    labels[i] = 2  # I-Mountain\n",
    "\n",
    "            ner_data.append({\n",
    "                \"sentence\": sentence,\n",
    "                \"tokens\": tokens,\n",
    "                \"labels\": labels\n",
    "            })\n",
    "\n",
    "    return ner_data"
   ]
  },
  {
   "cell_type": "code",
   "execution_count": 53,
   "metadata": {},
   "outputs": [
    {
     "name": "stdout",
     "output_type": "stream",
     "text": [
      "{'sentence': 'Mount Everest, the highest peak in the world, was formed approximately 60 million years ago when India collided with Eurasia.', 'tokens': ['Mount', 'Everest', ',', 'the', 'highest', 'peak', 'in', 'the', 'world', ',', 'was', 'formed', 'approximately', '60', 'million', 'years', 'ago', 'when', 'India', 'collided', 'with', 'Eurasia', '.'], 'labels': [1, 2, 0, 0, 0, 0, 0, 0, 0, 0, 0, 0, 0, 0, 0, 0, 0, 0, 0, 0, 0, 0, 0]}\n",
      "{'sentence': 'Climbing K2, the second-highest peak in the world, is a formidable challenge for even the most seasoned mountaineers, requiring meticulous planning and physical endurance.', 'tokens': ['Climbing', 'K2', ',', 'the', 'second', '-', 'highest', 'peak', 'in', 'the', 'world', ',', 'is', 'a', 'formidable', 'challenge', 'for', 'even', 'the', 'most', 'seasoned', 'mountaineers', ',', 'requiring', 'meticulous', 'planning', 'and', 'physical', 'endurance', '.'], 'labels': [0, 1, 0, 0, 0, 0, 0, 0, 0, 0, 0, 0, 0, 0, 0, 0, 0, 0, 0, 0, 0, 0, 0, 0, 0, 0, 0, 0, 0, 0]}\n",
      "{'sentence': \"Located on the Pakistan-China border, K2's snow-capped peak stands out starkly against the rugged landscape of the Karakoram range.\", 'tokens': ['Located', 'on', 'the', 'Pakistan', '-', 'China', 'border', ',', 'K2', \"'\", 's', 'snow', '-', 'capped', 'peak', 'stands', 'out', 'starkly', 'against', 'the', 'rugged', 'landscape', 'of', 'the', 'Karakoram', 'range', '.'], 'labels': [0, 0, 0, 0, 0, 0, 0, 0, 1, 0, 0, 0, 0, 0, 0, 0, 0, 0, 0, 0, 0, 0, 0, 0, 0, 0, 0]}\n",
      "{'sentence': 'Despite several attempts, I have yet to successfully summit K2, but the allure of its majestic beauty and the promise of adventure keep drawing me back to this mighty mountain.', 'tokens': ['Despite', 'several', 'attempts', ',', 'I', 'have', 'yet', 'to', 'successfully', 'summit', 'K2', ',', 'but', 'the', 'allure', 'of', 'its', 'majestic', 'beauty', 'and', 'the', 'promise', 'of', 'adventure', 'keep', 'drawing', 'me', 'back', 'to', 'this', 'mighty', 'mountain', '.'], 'labels': [0, 0, 0, 0, 0, 0, 0, 0, 0, 0, 1, 0, 0, 0, 0, 0, 0, 0, 0, 0, 0, 0, 0, 0, 0, 0, 0, 0, 0, 0, 0, 0, 0]}\n",
      "{'sentence': 'As I stood at the base of Makalu, the fifth-highest mountain in the world, I felt an overwhelming sense of awe at the towering giant that loomed above me, its snow-capped peak glistening in the sunlight.', 'tokens': ['As', 'I', 'stood', 'at', 'the', 'base', 'of', 'Makalu', ',', 'the', 'fifth', '-', 'highest', 'mountain', 'in', 'the', 'world', ',', 'I', 'felt', 'an', 'overwhelming', 'sense', 'of', 'awe', 'at', 'the', 'towering', 'giant', 'that', 'loomed', 'above', 'me', ',', 'its', 'snow', '-', 'capped', 'peak', 'glistening', 'in', 'the', 'sunlight', '.'], 'labels': [0, 0, 0, 0, 0, 0, 0, 1, 0, 0, 0, 0, 0, 0, 0, 0, 0, 0, 0, 0, 0, 0, 0, 0, 0, 0, 0, 0, 0, 0, 0, 0, 0, 0, 0, 0, 0, 0, 0, 0, 0, 0, 0, 0]}\n",
      "{'sentence': 'The government of Nepal has recently announced plans to improve the trekking infrastructure around Makalu, in an effort to boost tourism and economic development in the region, which is expected to bring in much-needed revenue and jobs for local communities.', 'tokens': ['The', 'government', 'of', 'Nepal', 'has', 'recently', 'announced', 'plans', 'to', 'improve', 'the', 'trekking', 'infrastructure', 'around', 'Makalu', ',', 'in', 'an', 'effort', 'to', 'boost', 'tourism', 'and', 'economic', 'development', 'in', 'the', 'region', ',', 'which', 'is', 'expected', 'to', 'bring', 'in', 'much', '-', 'needed', 'revenue', 'and', 'jobs', 'for', 'local', 'communities', '.'], 'labels': [0, 0, 0, 0, 0, 0, 0, 0, 0, 0, 0, 0, 0, 0, 1, 0, 0, 0, 0, 0, 0, 0, 0, 0, 0, 0, 0, 0, 0, 0, 0, 0, 0, 0, 0, 0, 0, 0, 0, 0, 0, 0, 0, 0, 0]}\n",
      "{'sentence': 'Dhaulagiri, the seventh highest mountain in the world, is a formidable challenge for even the most experienced climbers. The snow-capped peak of Dhaulagiri was a breathtaking sight as we hiked through the foothills of the Himalayas.', 'tokens': ['Dhaulagiri', ',', 'the', 'seventh', 'highest', 'mountain', 'in', 'the', 'world', ',', 'is', 'a', 'formidable', 'challenge', 'for', 'even', 'the', 'most', 'experienced', 'climbers', '.', 'The', 'snow', '-', 'capped', 'peak', 'of', 'Dhaulagiri', 'was', 'a', 'breathtaking', 'sight', 'as', 'we', 'hiked', 'through', 'the', 'foothills', 'of', 'the', 'Himalayas', '.'], 'labels': [1, 0, 0, 0, 0, 0, 0, 0, 0, 0, 0, 0, 0, 0, 0, 0, 0, 0, 0, 0, 0, 0, 0, 0, 0, 0, 0, 1, 0, 0, 0, 0, 0, 0, 0, 0, 0, 0, 0, 0, 0, 0]}\n",
      "{'sentence': 'Manaslu, the eighth highest mountain in the world, stands tall at 8,163 meters above sea level.', 'tokens': ['Manaslu', ',', 'the', 'eighth', 'highest', 'mountain', 'in', 'the', 'world', ',', 'stands', 'tall', 'at', '8', ',', '163', 'meters', 'above', 'sea', 'level', '.'], 'labels': [1, 0, 0, 0, 0, 0, 0, 0, 0, 0, 0, 0, 0, 0, 0, 0, 0, 0, 0, 0, 0]}\n",
      "{'sentence': 'The trek to Manaslu Base Camp is a remote and less crowded alternative to the more popular Everest Base Camp trek.', 'tokens': ['The', 'trek', 'to', 'Manaslu', 'Base', 'Camp', 'is', 'a', 'remote', 'and', 'less', 'crowded', 'alternative', 'to', 'the', 'more', 'popular', 'Everest', 'Base', 'Camp', 'trek', '.'], 'labels': [0, 0, 0, 1, 0, 0, 0, 0, 0, 0, 0, 0, 0, 0, 0, 0, 0, 0, 0, 0, 0, 0]}\n",
      "{'sentence': 'A recent avalanche on Manaslu resulted in the cancellation of several climbing expeditions and raised concerns about the safety of climbers on the mountain.', 'tokens': ['A', 'recent', 'avalanche', 'on', 'Manaslu', 'resulted', 'in', 'the', 'cancellation', 'of', 'several', 'climbing', 'expeditions', 'and', 'raised', 'concerns', 'about', 'the', 'safety', 'of', 'climbers', 'on', 'the', 'mountain', '.'], 'labels': [0, 0, 0, 0, 1, 0, 0, 0, 0, 0, 0, 0, 0, 0, 0, 0, 0, 0, 0, 0, 0, 0, 0, 0, 0]}\n",
      "{'sentence': \"As I stood at the base of Nanga Parbat, the ninth highest mountain in the world, I couldn't help but feel a mix of awe and trepidation at the daunting task of climbing it.\", 'tokens': ['As', 'I', 'stood', 'at', 'the', 'base', 'of', 'Nanga', 'Parbat', ',', 'the', 'ninth', 'highest', 'mountain', 'in', 'the', 'world', ',', 'I', 'couldn', \"'\", 't', 'help', 'but', 'feel', 'a', 'mix', 'of', 'awe', 'and', 'trepidation', 'at', 'the', 'daunting', 'task', 'of', 'climbing', 'it', '.'], 'labels': [0, 0, 0, 0, 0, 0, 0, 1, 2, 0, 0, 0, 0, 0, 0, 0, 0, 0, 0, 0, 0, 0, 0, 0, 0, 0, 0, 0, 0, 0, 0, 0, 0, 0, 0, 0, 0, 0, 0]}\n",
      "{'sentence': 'As I stood at the base of Annapurna, the snow-capped peak towering above me, I felt an overwhelming sense of awe and wonder at the natural beauty of this Himalayan giant.', 'tokens': ['As', 'I', 'stood', 'at', 'the', 'base', 'of', 'Annapurna', ',', 'the', 'snow', '-', 'capped', 'peak', 'towering', 'above', 'me', ',', 'I', 'felt', 'an', 'overwhelming', 'sense', 'of', 'awe', 'and', 'wonder', 'at', 'the', 'natural', 'beauty', 'of', 'this', 'Himalayan', 'giant', '.'], 'labels': [0, 0, 0, 0, 0, 0, 0, 1, 0, 0, 0, 0, 0, 0, 0, 0, 0, 0, 0, 0, 0, 0, 0, 0, 0, 0, 0, 0, 0, 0, 0, 0, 0, 0, 0, 0]}\n",
      "{'sentence': \"According to recent news reports, a team of scientists has been conducting a study on the effects of climate change on the glaciers of Annapurna, and their findings suggest that the mountain's ice cover is shrinking at an alarming rate.\", 'tokens': ['According', 'to', 'recent', 'news', 'reports', ',', 'a', 'team', 'of', 'scientists', 'has', 'been', 'conducting', 'a', 'study', 'on', 'the', 'effects', 'of', 'climate', 'change', 'on', 'the', 'glaciers', 'of', 'Annapurna', ',', 'and', 'their', 'findings', 'suggest', 'that', 'the', 'mountain', \"'\", 's', 'ice', 'cover', 'is', 'shrinking', 'at', 'an', 'alarming', 'rate', '.'], 'labels': [0, 0, 0, 0, 0, 0, 0, 0, 0, 0, 0, 0, 0, 0, 0, 0, 0, 0, 0, 0, 0, 0, 0, 0, 0, 1, 0, 0, 0, 0, 0, 0, 0, 0, 0, 0, 0, 0, 0, 0, 0, 0, 0, 0, 0]}\n",
      "{'sentence': 'After months of preparation, I finally stood at the summit of Broad Peak, feeling an overwhelming sense of accomplishment as I gazed out at the breathtaking Karakoram landscape.', 'tokens': ['After', 'months', 'of', 'preparation', ',', 'I', 'finally', 'stood', 'at', 'the', 'summit', 'of', 'Broad', 'Peak', ',', 'feeling', 'an', 'overwhelming', 'sense', 'of', 'accomplishment', 'as', 'I', 'gazed', 'out', 'at', 'the', 'breathtaking', 'Karakoram', 'landscape', '.'], 'labels': [0, 0, 0, 0, 0, 0, 0, 0, 0, 0, 0, 0, 1, 2, 0, 0, 0, 0, 0, 0, 0, 0, 0, 0, 0, 0, 0, 0, 0, 0, 0]}\n",
      "{'sentence': 'Geologists have long been fascinated by the unique rock formations found on Broad Peak, which provide valuable insights into the tectonic history of the region.', 'tokens': ['Geologists', 'have', 'long', 'been', 'fascinated', 'by', 'the', 'unique', 'rock', 'formations', 'found', 'on', 'Broad', 'Peak', ',', 'which', 'provide', 'valuable', 'insights', 'into', 'the', 'tectonic', 'history', 'of', 'the', 'region', '.'], 'labels': [0, 0, 0, 0, 0, 0, 0, 0, 0, 0, 0, 0, 1, 2, 0, 0, 0, 0, 0, 0, 0, 0, 0, 0, 0, 0, 0]}\n",
      "{'sentence': 'The death of a climber on Broad Peak this summer has raised concerns about the risks and responsibilities associated with high-altitude mountaineering, sparking a heated debate among enthusiasts and experts alike.', 'tokens': ['The', 'death', 'of', 'a', 'climber', 'on', 'Broad', 'Peak', 'this', 'summer', 'has', 'raised', 'concerns', 'about', 'the', 'risks', 'and', 'responsibilities', 'associated', 'with', 'high', '-', 'altitude', 'mountaineering', ',', 'sparking', 'a', 'heated', 'debate', 'among', 'enthusiasts', 'and', 'experts', 'alike', '.'], 'labels': [0, 0, 0, 0, 0, 0, 1, 2, 0, 0, 0, 0, 0, 0, 0, 0, 0, 0, 0, 0, 0, 0, 0, 0, 0, 0, 0, 0, 0, 0, 0, 0, 0, 0, 0]}\n",
      "{'sentence': 'Gasherbrum II, also known as K4, poses a significant challenge to even the most experienced mountaineers due to its remote location and unpredictable weather conditions.', 'tokens': ['Gasherbrum', 'II', ',', 'also', 'known', 'as', 'K4', ',', 'poses', 'a', 'significant', 'challenge', 'to', 'even', 'the', 'most', 'experienced', 'mountaineers', 'due', 'to', 'its', 'remote', 'location', 'and', 'unpredictable', 'weather', 'conditions', '.'], 'labels': [0, 0, 0, 0, 0, 0, 0, 0, 0, 0, 0, 0, 0, 0, 0, 0, 0, 0, 0, 0, 0, 0, 0, 0, 0, 0, 0, 0]}\n",
      "{'sentence': 'Gyachung Kang, located in the Himalayas, offers breathtaking views and challenging trails for seasoned trekkers looking to push their limits.', 'tokens': ['Gyachung', 'Kang', ',', 'located', 'in', 'the', 'Himalayas', ',', 'offers', 'breathtaking', 'views', 'and', 'challenging', 'trails', 'for', 'seasoned', 'trekkers', 'looking', 'to', 'push', 'their', 'limits', '.'], 'labels': [1, 2, 0, 0, 0, 0, 0, 0, 0, 0, 0, 0, 0, 0, 0, 0, 0, 0, 0, 0, 0, 0, 0]}\n",
      "{'sentence': 'The unique rock formations of Gyachung Kang have drawn geologists from around the world to study its fascinating geological history.', 'tokens': ['The', 'unique', 'rock', 'formations', 'of', 'Gyachung', 'Kang', 'have', 'drawn', 'geologists', 'from', 'around', 'the', 'world', 'to', 'study', 'its', 'fascinating', 'geological', 'history', '.'], 'labels': [0, 0, 0, 0, 0, 1, 2, 0, 0, 0, 0, 0, 0, 0, 0, 0, 0, 0, 0, 0, 0]}\n",
      "{'sentence': 'Last year, two climbers from Nepal successfully summited Gyachung Kang, setting a new national record for the fastest ascent of the mountain.', 'tokens': ['Last', 'year', ',', 'two', 'climbers', 'from', 'Nepal', 'successfully', 'summited', 'Gyachung', 'Kang', ',', 'setting', 'a', 'new', 'national', 'record', 'for', 'the', 'fastest', 'ascent', 'of', 'the', 'mountain', '.'], 'labels': [0, 0, 0, 0, 0, 0, 0, 0, 0, 1, 2, 0, 0, 0, 0, 0, 0, 0, 0, 0, 0, 0, 0, 0, 0]}\n",
      "{'sentence': 'As I stood at the base of Annapurna II, I felt a mix of awe and trepidation gazing up at the towering peak that seemed to touch the sky. Annapurna II, located in the Himalayas, is known for its unpredictable weather patterns, making it a formidable challenge for even the most experienced climbers.', 'tokens': ['As', 'I', 'stood', 'at', 'the', 'base', 'of', 'Annapurna', 'II', ',', 'I', 'felt', 'a', 'mix', 'of', 'awe', 'and', 'trepidation', 'gazing', 'up', 'at', 'the', 'towering', 'peak', 'that', 'seemed', 'to', 'touch', 'the', 'sky', '.', 'Annapurna', 'II', ',', 'located', 'in', 'the', 'Himalayas', ',', 'is', 'known', 'for', 'its', 'unpredictable', 'weather', 'patterns', ',', 'making', 'it', 'a', 'formidable', 'challenge', 'for', 'even', 'the', 'most', 'experienced', 'climbers', '.'], 'labels': [0, 0, 0, 0, 0, 0, 0, 1, 2, 0, 0, 0, 0, 0, 0, 0, 0, 0, 0, 0, 0, 0, 0, 0, 0, 0, 0, 0, 0, 0, 0, 1, 2, 0, 0, 0, 0, 0, 0, 0, 0, 0, 0, 0, 0, 0, 0, 0, 0, 0, 0, 0, 0, 0, 0, 0, 0, 0, 0]}\n",
      "{'sentence': 'After months of planning, I finally stood at the summit of Distaghil Sar, the highest peak in the Rakaposhi-Haramosh range, and felt an overwhelming sense of accomplishment.', 'tokens': ['After', 'months', 'of', 'planning', ',', 'I', 'finally', 'stood', 'at', 'the', 'summit', 'of', 'Distaghil', 'Sar', ',', 'the', 'highest', 'peak', 'in', 'the', 'Rakaposhi', '-', 'Haramosh', 'range', ',', 'and', 'felt', 'an', 'overwhelming', 'sense', 'of', 'accomplishment', '.'], 'labels': [0, 0, 0, 0, 0, 0, 0, 0, 0, 0, 0, 0, 1, 2, 0, 0, 0, 0, 0, 0, 0, 0, 0, 0, 0, 0, 0, 0, 0, 0, 0, 0, 0]}\n",
      "{'sentence': \"The team of geologists spent years studying the unique rock formations on Distaghil Sar, which provided invaluable insights into the region's tectonic history.\", 'tokens': ['The', 'team', 'of', 'geologists', 'spent', 'years', 'studying', 'the', 'unique', 'rock', 'formations', 'on', 'Distaghil', 'Sar', ',', 'which', 'provided', 'invaluable', 'insights', 'into', 'the', 'region', \"'\", 's', 'tectonic', 'history', '.'], 'labels': [0, 0, 0, 0, 0, 0, 0, 0, 0, 0, 0, 0, 1, 2, 0, 0, 0, 0, 0, 0, 0, 0, 0, 0, 0, 0, 0]}\n",
      "{'sentence': 'A recent avalanche on Distaghil Sar has raised concerns among local authorities, who are now considering new safety measures to protect climbers and trekkers in the region.', 'tokens': ['A', 'recent', 'avalanche', 'on', 'Distaghil', 'Sar', 'has', 'raised', 'concerns', 'among', 'local', 'authorities', ',', 'who', 'are', 'now', 'considering', 'new', 'safety', 'measures', 'to', 'protect', 'climbers', 'and', 'trekkers', 'in', 'the', 'region', '.'], 'labels': [0, 0, 0, 0, 1, 2, 0, 0, 0, 0, 0, 0, 0, 0, 0, 0, 0, 0, 0, 0, 0, 0, 0, 0, 0, 0, 0, 0, 0]}\n",
      "{'sentence': 'Climbers attempting to conquer Nuptse, the 16,863-foot neighbor of Everest, must be prepared to face extreme weather conditions and challenging terrain.', 'tokens': ['Climbers', 'attempting', 'to', 'conquer', 'Nuptse', ',', 'the', '16', ',', '863', '-', 'foot', 'neighbor', 'of', 'Everest', ',', 'must', 'be', 'prepared', 'to', 'face', 'extreme', 'weather', 'conditions', 'and', 'challenging', 'terrain', '.'], 'labels': [0, 0, 0, 0, 1, 0, 0, 0, 0, 0, 0, 0, 0, 0, 0, 0, 0, 0, 0, 0, 0, 0, 0, 0, 0, 0, 0, 0]}\n",
      "{'sentence': 'Nuptse, the third-highest peak in the Himalayas, is known for its dramatic ridges and steep rock faces.', 'tokens': ['Nuptse', ',', 'the', 'third', '-', 'highest', 'peak', 'in', 'the', 'Himalayas', ',', 'is', 'known', 'for', 'its', 'dramatic', 'ridges', 'and', 'steep', 'rock', 'faces', '.'], 'labels': [1, 0, 0, 0, 0, 0, 0, 0, 0, 0, 0, 0, 0, 0, 0, 0, 0, 0, 0, 0, 0, 0]}\n",
      "{'sentence': 'In 2016, Swiss climber Ueli Steck died on Nuptse while training for a new route to the summit, a tragic reminder of the risks of high-altitude climbing.', 'tokens': ['In', '2016', ',', 'Swiss', 'climber', 'Ueli', 'Steck', 'died', 'on', 'Nuptse', 'while', 'training', 'for', 'a', 'new', 'route', 'to', 'the', 'summit', ',', 'a', 'tragic', 'reminder', 'of', 'the', 'risks', 'of', 'high', '-', 'altitude', 'climbing', '.'], 'labels': [0, 0, 0, 0, 0, 0, 0, 0, 0, 1, 0, 0, 0, 0, 0, 0, 0, 0, 0, 0, 0, 0, 0, 0, 0, 0, 0, 0, 0, 0, 0, 0]}\n",
      "{'sentence': \"As I stood at the base of Khunyang Chhish, I couldn't help but feel a sense of awe at the towering peak that loomed above me, its snow-capped summit glistening in the sunlight.\", 'tokens': ['As', 'I', 'stood', 'at', 'the', 'base', 'of', 'Khunyang', 'Chhish', ',', 'I', 'couldn', \"'\", 't', 'help', 'but', 'feel', 'a', 'sense', 'of', 'awe', 'at', 'the', 'towering', 'peak', 'that', 'loomed', 'above', 'me', ',', 'its', 'snow', '-', 'capped', 'summit', 'glistening', 'in', 'the', 'sunlight', '.'], 'labels': [0, 0, 0, 0, 0, 0, 0, 1, 2, 0, 0, 0, 0, 0, 0, 0, 0, 0, 0, 0, 0, 0, 0, 0, 0, 0, 0, 0, 0, 0, 0, 0, 0, 0, 0, 0, 0, 0, 0, 0]}\n",
      "{'sentence': 'Khunyang Chhish, located in the Karakoram range of Pakistan, is the 21st highest mountain in the world and a formidable challenge for even the most experienced climbers.', 'tokens': ['Khunyang', 'Chhish', ',', 'located', 'in', 'the', 'Karakoram', 'range', 'of', 'Pakistan', ',', 'is', 'the', '21st', 'highest', 'mountain', 'in', 'the', 'world', 'and', 'a', 'formidable', 'challenge', 'for', 'even', 'the', 'most', 'experienced', 'climbers', '.'], 'labels': [1, 2, 0, 0, 0, 0, 0, 0, 0, 0, 0, 0, 0, 0, 0, 0, 0, 0, 0, 0, 0, 0, 0, 0, 0, 0, 0, 0, 0, 0]}\n",
      "{'sentence': 'Nanda Devi, the highest peak in the Garhwal Himalayas, is a popular destination for adventure seekers and nature lovers alike.', 'tokens': ['Nanda', 'Devi', ',', 'the', 'highest', 'peak', 'in', 'the', 'Garhwal', 'Himalayas', ',', 'is', 'a', 'popular', 'destination', 'for', 'adventure', 'seekers', 'and', 'nature', 'lovers', 'alike', '.'], 'labels': [1, 2, 0, 0, 0, 0, 0, 0, 0, 0, 0, 0, 0, 0, 0, 0, 0, 0, 0, 0, 0, 0, 0]}\n",
      "{'sentence': 'The government has recently launched an initiative to reduce waste and promote eco-tourism in the Nanda Devi Biosphere Reserve.', 'tokens': ['The', 'government', 'has', 'recently', 'launched', 'an', 'initiative', 'to', 'reduce', 'waste', 'and', 'promote', 'eco', '-', 'tourism', 'in', 'the', 'Nanda', 'Devi', 'Biosphere', 'Reserve', '.'], 'labels': [0, 0, 0, 0, 0, 0, 0, 0, 0, 0, 0, 0, 0, 0, 0, 0, 0, 1, 2, 0, 0, 0]}\n",
      "{'sentence': 'My trek to Nanda Devi was an unforgettable experience, with breathtaking views of the snow-capped peaks and serene valleys below.', 'tokens': ['My', 'trek', 'to', 'Nanda', 'Devi', 'was', 'an', 'unforgettable', 'experience', ',', 'with', 'breathtaking', 'views', 'of', 'the', 'snow', '-', 'capped', 'peaks', 'and', 'serene', 'valleys', 'below', '.'], 'labels': [0, 0, 0, 1, 2, 0, 0, 0, 0, 0, 0, 0, 0, 0, 0, 0, 0, 0, 0, 0, 0, 0, 0, 0]}\n",
      "{'sentence': 'The trek to Chomo Lonzo was a grueling one, but the breathtaking views from the summit made it all worth it.', 'tokens': ['The', 'trek', 'to', 'Chomo', 'Lonzo', 'was', 'a', 'grueling', 'one', ',', 'but', 'the', 'breathtaking', 'views', 'from', 'the', 'summit', 'made', 'it', 'all', 'worth', 'it', '.'], 'labels': [0, 0, 0, 1, 2, 0, 0, 0, 0, 0, 0, 0, 0, 0, 0, 0, 0, 0, 0, 0, 0, 0, 0]}\n",
      "{'sentence': 'Chomo Lonzo, located in the remote region of Tibet, is known for its unique blend of rugged terrain and serene natural beauty.', 'tokens': ['Chomo', 'Lonzo', ',', 'located', 'in', 'the', 'remote', 'region', 'of', 'Tibet', ',', 'is', 'known', 'for', 'its', 'unique', 'blend', 'of', 'rugged', 'terrain', 'and', 'serene', 'natural', 'beauty', '.'], 'labels': [1, 2, 0, 0, 0, 0, 0, 0, 0, 0, 0, 0, 0, 0, 0, 0, 0, 0, 0, 0, 0, 0, 0, 0, 0]}\n",
      "{'sentence': \"A team of scientists recently published a study on the geological formation of Chomo Lonzo, shedding new light on the mountain's ancient history.\", 'tokens': ['A', 'team', 'of', 'scientists', 'recently', 'published', 'a', 'study', 'on', 'the', 'geological', 'formation', 'of', 'Chomo', 'Lonzo', ',', 'shedding', 'new', 'light', 'on', 'the', 'mountain', \"'\", 's', 'ancient', 'history', '.'], 'labels': [0, 0, 0, 0, 0, 0, 0, 0, 0, 0, 0, 0, 0, 1, 2, 0, 0, 0, 0, 0, 0, 0, 0, 0, 0, 0, 0]}\n",
      "{'sentence': \"As I stood at the base of Batura Sar, I felt a sense of awe wash over me at the sheer scale of the mountain's snow-capped peak.\", 'tokens': ['As', 'I', 'stood', 'at', 'the', 'base', 'of', 'Batura', 'Sar', ',', 'I', 'felt', 'a', 'sense', 'of', 'awe', 'wash', 'over', 'me', 'at', 'the', 'sheer', 'scale', 'of', 'the', 'mountain', \"'\", 's', 'snow', '-', 'capped', 'peak', '.'], 'labels': [0, 0, 0, 0, 0, 0, 0, 1, 2, 0, 0, 0, 0, 0, 0, 0, 0, 0, 0, 0, 0, 0, 0, 0, 0, 0, 0, 0, 0, 0, 0, 0, 0]}\n",
      "{'sentence': 'Batura Sar, located in the Karakoram range of Pakistan, is the 25th highest mountain in the world and is known for its challenging climb and stunning views.', 'tokens': ['Batura', 'Sar', ',', 'located', 'in', 'the', 'Karakoram', 'range', 'of', 'Pakistan', ',', 'is', 'the', '25th', 'highest', 'mountain', 'in', 'the', 'world', 'and', 'is', 'known', 'for', 'its', 'challenging', 'climb', 'and', 'stunning', 'views', '.'], 'labels': [1, 2, 0, 0, 0, 0, 0, 0, 0, 0, 0, 0, 0, 0, 0, 0, 0, 0, 0, 0, 0, 0, 0, 0, 0, 0, 0, 0, 0, 0]}\n",
      "{'sentence': 'A team of experienced climbers recently attempted to summit Batura Sar, but were forced to turn back due to treacherous ice conditions and high winds.', 'tokens': ['A', 'team', 'of', 'experienced', 'climbers', 'recently', 'attempted', 'to', 'summit', 'Batura', 'Sar', ',', 'but', 'were', 'forced', 'to', 'turn', 'back', 'due', 'to', 'treacherous', 'ice', 'conditions', 'and', 'high', 'winds', '.'], 'labels': [0, 0, 0, 0, 0, 0, 0, 0, 0, 1, 2, 0, 0, 0, 0, 0, 0, 0, 0, 0, 0, 0, 0, 0, 0, 0, 0]}\n",
      "{'sentence': 'Kanjut Sar, located in the Karakoram range in Pakistan, is the 11th highest mountain in the world and a challenging climb for even the most experienced mountaineers. The breathtaking sunset view from the summit of Kanjut Sar left me speechless as I reflected on the incredible journey that brought me to the top of this majestic mountain.', 'tokens': ['Kanjut', 'Sar', ',', 'located', 'in', 'the', 'Karakoram', 'range', 'in', 'Pakistan', ',', 'is', 'the', '11th', 'highest', 'mountain', 'in', 'the', 'world', 'and', 'a', 'challenging', 'climb', 'for', 'even', 'the', 'most', 'experienced', 'mountaineers', '.', 'The', 'breathtaking', 'sunset', 'view', 'from', 'the', 'summit', 'of', 'Kanjut', 'Sar', 'left', 'me', 'speechless', 'as', 'I', 'reflected', 'on', 'the', 'incredible', 'journey', 'that', 'brought', 'me', 'to', 'the', 'top', 'of', 'this', 'majestic', 'mountain', '.'], 'labels': [1, 2, 0, 0, 0, 0, 0, 0, 0, 0, 0, 0, 0, 0, 0, 0, 0, 0, 0, 0, 0, 0, 0, 0, 0, 0, 0, 0, 0, 0, 0, 0, 0, 0, 0, 0, 0, 0, 1, 2, 0, 0, 0, 0, 0, 0, 0, 0, 0, 0, 0, 0, 0, 0, 0, 0, 0, 0, 0, 0, 0]}\n",
      "{'sentence': \"As I stood at the base of Batura II, I felt a mix of awe and trepidation, knowing the grueling climb that lay ahead. Batura II is part of the Batura Muztagh mountain range in the Karakoram, known for its stunning vistas and incredible biodiversity. A recent expedition to Batura II has sparked debate among geologists about the mountain's formation and the role of tectonic activity in the region.\", 'tokens': ['As', 'I', 'stood', 'at', 'the', 'base', 'of', 'Batura', 'II', ',', 'I', 'felt', 'a', 'mix', 'of', 'awe', 'and', 'trepidation', ',', 'knowing', 'the', 'grueling', 'climb', 'that', 'lay', 'ahead', '.', 'Batura', 'II', 'is', 'part', 'of', 'the', 'Batura', 'Muztagh', 'mountain', 'range', 'in', 'the', 'Karakoram', ',', 'known', 'for', 'its', 'stunning', 'vistas', 'and', 'incredible', 'biodiversity', '.', 'A', 'recent', 'expedition', 'to', 'Batura', 'II', 'has', 'sparked', 'debate', 'among', 'geologists', 'about', 'the', 'mountain', \"'\", 's', 'formation', 'and', 'the', 'role', 'of', 'tectonic', 'activity', 'in', 'the', 'region', '.'], 'labels': [0, 0, 0, 0, 0, 0, 0, 1, 2, 0, 0, 0, 0, 0, 0, 0, 0, 0, 0, 0, 0, 0, 0, 0, 0, 0, 0, 1, 2, 0, 0, 0, 0, 0, 0, 0, 0, 0, 0, 0, 0, 0, 0, 0, 0, 0, 0, 0, 0, 0, 0, 0, 0, 0, 1, 2, 0, 0, 0, 0, 0, 0, 0, 0, 0, 0, 0, 0, 0, 0, 0, 0, 0, 0, 0, 0, 0]}\n",
      "{'sentence': 'Kamet, the second-highest peak in the Indian Garhwal Himalayas, poses a thrilling challenge for seasoned trekkers and adventure seekers.', 'tokens': ['Kamet', ',', 'the', 'second', '-', 'highest', 'peak', 'in', 'the', 'Indian', 'Garhwal', 'Himalayas', ',', 'poses', 'a', 'thrilling', 'challenge', 'for', 'seasoned', 'trekkers', 'and', 'adventure', 'seekers', '.'], 'labels': [1, 0, 0, 0, 0, 0, 0, 0, 0, 0, 0, 0, 0, 0, 0, 0, 0, 0, 0, 0, 0, 0, 0, 0]}\n",
      "{'sentence': 'In a recent expedition, a team of scientists conducted extensive research on the alpine flora and fauna found on the slopes of Kamet, leading to the discovery of several previously undocumented species.', 'tokens': ['In', 'a', 'recent', 'expedition', ',', 'a', 'team', 'of', 'scientists', 'conducted', 'extensive', 'research', 'on', 'the', 'alpine', 'flora', 'and', 'fauna', 'found', 'on', 'the', 'slopes', 'of', 'Kamet', ',', 'leading', 'to', 'the', 'discovery', 'of', 'several', 'previously', 'undocumented', 'species', '.'], 'labels': [0, 0, 0, 0, 0, 0, 0, 0, 0, 0, 0, 0, 0, 0, 0, 0, 0, 0, 0, 0, 0, 0, 0, 1, 0, 0, 0, 0, 0, 0, 0, 0, 0, 0, 0]}\n",
      "{'sentence': 'As I stood at the base of Saltoro Kangri, the sheer scale of the mountain left me awestruck and humbled by the natural beauty of the Karakoram range.', 'tokens': ['As', 'I', 'stood', 'at', 'the', 'base', 'of', 'Saltoro', 'Kangri', ',', 'the', 'sheer', 'scale', 'of', 'the', 'mountain', 'left', 'me', 'awestruck', 'and', 'humbled', 'by', 'the', 'natural', 'beauty', 'of', 'the', 'Karakoram', 'range', '.'], 'labels': [0, 0, 0, 0, 0, 0, 0, 1, 2, 0, 0, 0, 0, 0, 0, 0, 0, 0, 0, 0, 0, 0, 0, 0, 0, 0, 0, 0, 0, 0]}\n",
      "{'sentence': 'Saltoro Kangri, located on the border between India and Pakistan, is the highest peak in the Saltoro Mountains and a popular destination for experienced mountaineers and adventure seekers.', 'tokens': ['Saltoro', 'Kangri', ',', 'located', 'on', 'the', 'border', 'between', 'India', 'and', 'Pakistan', ',', 'is', 'the', 'highest', 'peak', 'in', 'the', 'Saltoro', 'Mountains', 'and', 'a', 'popular', 'destination', 'for', 'experienced', 'mountaineers', 'and', 'adventure', 'seekers', '.'], 'labels': [1, 2, 0, 0, 0, 0, 0, 0, 0, 0, 0, 0, 0, 0, 0, 0, 0, 0, 0, 0, 0, 0, 0, 0, 0, 0, 0, 0, 0, 0, 0]}\n",
      "{'sentence': 'While trekking through the Himalayas, I caught a glimpse of the majestic Molamenqing mountain towering above the surrounding landscape.', 'tokens': ['While', 'trekking', 'through', 'the', 'Himalayas', ',', 'I', 'caught', 'a', 'glimpse', 'of', 'the', 'majestic', 'Molamenqing', 'mountain', 'towering', 'above', 'the', 'surrounding', 'landscape', '.'], 'labels': [0, 0, 0, 0, 0, 0, 0, 0, 0, 0, 0, 0, 0, 1, 0, 0, 0, 0, 0, 0, 0]}\n",
      "{'sentence': 'The trek to Gurla Mandhata was more challenging than expected due to the unseasonable snowstorm that blanketed the upper reaches of the mountain.', 'tokens': ['The', 'trek', 'to', 'Gurla', 'Mandhata', 'was', 'more', 'challenging', 'than', 'expected', 'due', 'to', 'the', 'unseasonable', 'snowstorm', 'that', 'blanketed', 'the', 'upper', 'reaches', 'of', 'the', 'mountain', '.'], 'labels': [0, 0, 0, 1, 2, 0, 0, 0, 0, 0, 0, 0, 0, 0, 0, 0, 0, 0, 0, 0, 0, 0, 0, 0]}\n",
      "{'sentence': \"The trek to Chogolisa base camp was the most unforgettable experience of my life, with breathtaking views of the majestic mountain's snow-capped peaks.\", 'tokens': ['The', 'trek', 'to', 'Chogolisa', 'base', 'camp', 'was', 'the', 'most', 'unforgettable', 'experience', 'of', 'my', 'life', ',', 'with', 'breathtaking', 'views', 'of', 'the', 'majestic', 'mountain', \"'\", 's', 'snow', '-', 'capped', 'peaks', '.'], 'labels': [0, 0, 0, 1, 0, 0, 0, 0, 0, 0, 0, 0, 0, 0, 0, 0, 0, 0, 0, 0, 0, 0, 0, 0, 0, 0, 0, 0, 0]}\n",
      "{'sentence': 'Chogolisa, located in the Karakoram range, is known for its challenging climbing routes and unpredictable weather conditions, making it one of the most formidable mountains in the world.', 'tokens': ['Chogolisa', ',', 'located', 'in', 'the', 'Karakoram', 'range', ',', 'is', 'known', 'for', 'its', 'challenging', 'climbing', 'routes', 'and', 'unpredictable', 'weather', 'conditions', ',', 'making', 'it', 'one', 'of', 'the', 'most', 'formidable', 'mountains', 'in', 'the', 'world', '.'], 'labels': [1, 0, 0, 0, 0, 0, 0, 0, 0, 0, 0, 0, 0, 0, 0, 0, 0, 0, 0, 0, 0, 0, 0, 0, 0, 0, 0, 0, 0, 0, 0, 0]}\n",
      "{'sentence': \"A recent expedition to Chogolisa has sparked controversy among environmentalists, who claim that the increased tourism is threatening the fragile ecosystem of the mountain's surrounding valleys.\", 'tokens': ['A', 'recent', 'expedition', 'to', 'Chogolisa', 'has', 'sparked', 'controversy', 'among', 'environmentalists', ',', 'who', 'claim', 'that', 'the', 'increased', 'tourism', 'is', 'threatening', 'the', 'fragile', 'ecosystem', 'of', 'the', 'mountain', \"'\", 's', 'surrounding', 'valleys', '.'], 'labels': [0, 0, 0, 0, 1, 0, 0, 0, 0, 0, 0, 0, 0, 0, 0, 0, 0, 0, 0, 0, 0, 0, 0, 0, 0, 0, 0, 0, 0, 0]}\n",
      "{'sentence': 'The trek to the summit of Kongur Tagh, the highest peak in the Kunlun Mountains of China, is known for its breathtaking scenery and extreme altitude challenges.', 'tokens': ['The', 'trek', 'to', 'the', 'summit', 'of', 'Kongur', 'Tagh', ',', 'the', 'highest', 'peak', 'in', 'the', 'Kunlun', 'Mountains', 'of', 'China', ',', 'is', 'known', 'for', 'its', 'breathtaking', 'scenery', 'and', 'extreme', 'altitude', 'challenges', '.'], 'labels': [0, 0, 0, 0, 0, 0, 1, 2, 0, 0, 0, 0, 0, 0, 0, 0, 0, 0, 0, 0, 0, 0, 0, 0, 0, 0, 0, 0, 0, 0]}\n",
      "{'sentence': 'Shispare, the majestic mountain in the Karakoram range, is a favorite among seasoned mountaineers due to its challenging terrain and breathtaking vistas.', 'tokens': ['Shispare', ',', 'the', 'majestic', 'mountain', 'in', 'the', 'Karakoram', 'range', ',', 'is', 'a', 'favorite', 'among', 'seasoned', 'mountaineers', 'due', 'to', 'its', 'challenging', 'terrain', 'and', 'breathtaking', 'vistas', '.'], 'labels': [1, 0, 0, 0, 0, 0, 0, 0, 0, 0, 0, 0, 0, 0, 0, 0, 0, 0, 0, 0, 0, 0, 0, 0, 0]}\n",
      "{'sentence': 'The Silberzacken mountain is a popular destination for adventure-seekers, offering breathtaking views and thrilling hiking trails that wind through dense forests and across rushing streams.', 'tokens': ['The', 'Silberzacken', 'mountain', 'is', 'a', 'popular', 'destination', 'for', 'adventure', '-', 'seekers', ',', 'offering', 'breathtaking', 'views', 'and', 'thrilling', 'hiking', 'trails', 'that', 'wind', 'through', 'dense', 'forests', 'and', 'across', 'rushing', 'streams', '.'], 'labels': [0, 1, 0, 0, 0, 0, 0, 0, 0, 0, 0, 0, 0, 0, 0, 0, 0, 0, 0, 0, 0, 0, 0, 0, 0, 0, 0, 0, 0]}\n",
      "{'sentence': \"The recent landslide on Silberzacken has blocked a major highway, causing widespread disruptions to local traffic and prompting concerns about the stability of the mountain's slope.\", 'tokens': ['The', 'recent', 'landslide', 'on', 'Silberzacken', 'has', 'blocked', 'a', 'major', 'highway', ',', 'causing', 'widespread', 'disruptions', 'to', 'local', 'traffic', 'and', 'prompting', 'concerns', 'about', 'the', 'stability', 'of', 'the', 'mountain', \"'\", 's', 'slope', '.'], 'labels': [0, 0, 0, 0, 1, 0, 0, 0, 0, 0, 0, 0, 0, 0, 0, 0, 0, 0, 0, 0, 0, 0, 0, 0, 0, 0, 0, 0, 0, 0]}\n",
      "{'sentence': 'As I stood atop Silberzacken, the early morning mist still clinging to the valley below, I felt a deep connection to the generations of my family who had called this rugged, beautiful landscape home.', 'tokens': ['As', 'I', 'stood', 'atop', 'Silberzacken', ',', 'the', 'early', 'morning', 'mist', 'still', 'clinging', 'to', 'the', 'valley', 'below', ',', 'I', 'felt', 'a', 'deep', 'connection', 'to', 'the', 'generations', 'of', 'my', 'family', 'who', 'had', 'called', 'this', 'rugged', ',', 'beautiful', 'landscape', 'home', '.'], 'labels': [0, 0, 0, 0, 1, 0, 0, 0, 0, 0, 0, 0, 0, 0, 0, 0, 0, 0, 0, 0, 0, 0, 0, 0, 0, 0, 0, 0, 0, 0, 0, 0, 0, 0, 0, 0, 0, 0]}\n",
      "{'sentence': 'Changtse, the lesser-known companion to the mighty Mount Everest, offers breathtaking views and fewer crowds for adventurous climbers willing to take on the challenge.', 'tokens': ['Changtse', ',', 'the', 'lesser', '-', 'known', 'companion', 'to', 'the', 'mighty', 'Mount', 'Everest', ',', 'offers', 'breathtaking', 'views', 'and', 'fewer', 'crowds', 'for', 'adventurous', 'climbers', 'willing', 'to', 'take', 'on', 'the', 'challenge', '.'], 'labels': [1, 0, 0, 0, 0, 0, 0, 0, 0, 0, 0, 0, 0, 0, 0, 0, 0, 0, 0, 0, 0, 0, 0, 0, 0, 0, 0, 0, 0]}\n",
      "{'sentence': 'The recent increase in climbing permits issued for Changtse has locals worried about the environmental impact of growing tourism in the region.', 'tokens': ['The', 'recent', 'increase', 'in', 'climbing', 'permits', 'issued', 'for', 'Changtse', 'has', 'locals', 'worried', 'about', 'the', 'environmental', 'impact', 'of', 'growing', 'tourism', 'in', 'the', 'region', '.'], 'labels': [0, 0, 0, 0, 0, 0, 0, 0, 1, 0, 0, 0, 0, 0, 0, 0, 0, 0, 0, 0, 0, 0, 0]}\n",
      "{'sentence': 'Given its proximity to Everest, the reflection of Changtse in the glacial lakes of the Tibetan Plateau creates a serene landscape that photographers and nature lovers alike flock to capture at dawn and dusk.', 'tokens': ['Given', 'its', 'proximity', 'to', 'Everest', ',', 'the', 'reflection', 'of', 'Changtse', 'in', 'the', 'glacial', 'lakes', 'of', 'the', 'Tibetan', 'Plateau', 'creates', 'a', 'serene', 'landscape', 'that', 'photographers', 'and', 'nature', 'lovers', 'alike', 'flock', 'to', 'capture', 'at', 'dawn', 'and', 'dusk', '.'], 'labels': [0, 0, 0, 0, 0, 0, 0, 0, 0, 1, 0, 0, 0, 0, 0, 0, 0, 0, 0, 0, 0, 0, 0, 0, 0, 0, 0, 0, 0, 0, 0, 0, 0, 0, 0, 0]}\n",
      "{'sentence': 'Gangkhar Puensum, the highest unclimbed mountain in the world, continues to beckon brave adventurers to attempt to conquer its untouched peak.', 'tokens': ['Gangkhar', 'Puensum', ',', 'the', 'highest', 'unclimbed', 'mountain', 'in', 'the', 'world', ',', 'continues', 'to', 'beckon', 'brave', 'adventurers', 'to', 'attempt', 'to', 'conquer', 'its', 'untouched', 'peak', '.'], 'labels': [1, 2, 0, 0, 0, 0, 0, 0, 0, 0, 0, 0, 0, 0, 0, 0, 0, 0, 0, 0, 0, 0, 0, 0]}\n",
      "{'sentence': 'Researchers have been studying the unique ecosystem of Gangkhar Puensum, discovering new species of plants and animals that exist nowhere else on Earth.', 'tokens': ['Researchers', 'have', 'been', 'studying', 'the', 'unique', 'ecosystem', 'of', 'Gangkhar', 'Puensum', ',', 'discovering', 'new', 'species', 'of', 'plants', 'and', 'animals', 'that', 'exist', 'nowhere', 'else', 'on', 'Earth', '.'], 'labels': [0, 0, 0, 0, 0, 0, 0, 0, 1, 2, 0, 0, 0, 0, 0, 0, 0, 0, 0, 0, 0, 0, 0, 0, 0]}\n",
      "{'sentence': 'In the stillness of dawn, the majestic silhouette of Gangkhar Puensum was etched against the horizon, a breathtaking sight that I will never forget from my trek through the Himalayas.', 'tokens': ['In', 'the', 'stillness', 'of', 'dawn', ',', 'the', 'majestic', 'silhouette', 'of', 'Gangkhar', 'Puensum', 'was', 'etched', 'against', 'the', 'horizon', ',', 'a', 'breathtaking', 'sight', 'that', 'I', 'will', 'never', 'forget', 'from', 'my', 'trek', 'through', 'the', 'Himalayas', '.'], 'labels': [0, 0, 0, 0, 0, 0, 0, 0, 0, 0, 1, 2, 0, 0, 0, 0, 0, 0, 0, 0, 0, 0, 0, 0, 0, 0, 0, 0, 0, 0, 0, 0, 0]}\n",
      "{'sentence': 'Gongga Shan, located in the Sichuan Province of China, is the highest peak in the Hengduan Mountains and is known for its challenging climbing routes. The remote location of Gongga Shan makes it difficult for rescue teams to access in emergency situations, highlighting the importance of being well-prepared for expeditions to the mountain. In 2019, a team of scientists conducted a study on the unique ecosystem of Gongga Shan, discovering several new species of plants and insects that are found nowhere else on Earth.', 'tokens': ['Gongga', 'Shan', ',', 'located', 'in', 'the', 'Sichuan', 'Province', 'of', 'China', ',', 'is', 'the', 'highest', 'peak', 'in', 'the', 'Hengduan', 'Mountains', 'and', 'is', 'known', 'for', 'its', 'challenging', 'climbing', 'routes', '.', 'The', 'remote', 'location', 'of', 'Gongga', 'Shan', 'makes', 'it', 'difficult', 'for', 'rescue', 'teams', 'to', 'access', 'in', 'emergency', 'situations', ',', 'highlighting', 'the', 'importance', 'of', 'being', 'well', '-', 'prepared', 'for', 'expeditions', 'to', 'the', 'mountain', '.', 'In', '2019', ',', 'a', 'team', 'of', 'scientists', 'conducted', 'a', 'study', 'on', 'the', 'unique', 'ecosystem', 'of', 'Gongga', 'Shan', ',', 'discovering', 'several', 'new', 'species', 'of', 'plants', 'and', 'insects', 'that', 'are', 'found', 'nowhere', 'else', 'on', 'Earth', '.'], 'labels': [1, 2, 0, 0, 0, 0, 0, 0, 0, 0, 0, 0, 0, 0, 0, 0, 0, 0, 0, 0, 0, 0, 0, 0, 0, 0, 0, 0, 0, 0, 0, 0, 1, 2, 0, 0, 0, 0, 0, 0, 0, 0, 0, 0, 0, 0, 0, 0, 0, 0, 0, 0, 0, 0, 0, 0, 0, 0, 0, 0, 0, 0, 0, 0, 0, 0, 0, 0, 0, 0, 0, 0, 0, 0, 0, 1, 2, 0, 0, 0, 0, 0, 0, 0, 0, 0, 0, 0, 0, 0, 0, 0, 0, 0]}\n",
      "{'sentence': 'Annapurna III, the third highest peak of the Annapurna range, was famously climbed for the first time in 1961 by an Indian expedition led by Capt. Mohan Singh Kohli.', 'tokens': ['Annapurna', 'III', ',', 'the', 'third', 'highest', 'peak', 'of', 'the', 'Annapurna', 'range', ',', 'was', 'famously', 'climbed', 'for', 'the', 'first', 'time', 'in', '1961', 'by', 'an', 'Indian', 'expedition', 'led', 'by', 'Capt', '.', 'Mohan', 'Singh', 'Kohli', '.'], 'labels': [1, 2, 0, 0, 0, 0, 0, 0, 0, 0, 0, 0, 0, 0, 0, 0, 0, 0, 0, 0, 0, 0, 0, 0, 0, 0, 0, 0, 0, 0, 0, 0, 0]}\n",
      "{'sentence': 'The trek to Kula Kangri was a grueling but awe-inspiring experience, with breathtaking vistas of the surrounding landscape at every turn.', 'tokens': ['The', 'trek', 'to', 'Kula', 'Kangri', 'was', 'a', 'grueling', 'but', 'awe', '-', 'inspiring', 'experience', ',', 'with', 'breathtaking', 'vistas', 'of', 'the', 'surrounding', 'landscape', 'at', 'every', 'turn', '.'], 'labels': [0, 0, 0, 1, 2, 0, 0, 0, 0, 0, 0, 0, 0, 0, 0, 0, 0, 0, 0, 0, 0, 0, 0, 0, 0]}\n",
      "{'sentence': 'According to recent geological surveys, Kula Kangri is not, as previously thought, the highest peak in Bhutan, but still offers an exciting challenge to mountaineers.', 'tokens': ['According', 'to', 'recent', 'geological', 'surveys', ',', 'Kula', 'Kangri', 'is', 'not', ',', 'as', 'previously', 'thought', ',', 'the', 'highest', 'peak', 'in', 'Bhutan', ',', 'but', 'still', 'offers', 'an', 'exciting', 'challenge', 'to', 'mountaineers', '.'], 'labels': [0, 0, 0, 0, 0, 0, 1, 2, 0, 0, 0, 0, 0, 0, 0, 0, 0, 0, 0, 0, 0, 0, 0, 0, 0, 0, 0, 0, 0, 0]}\n",
      "{'sentence': 'Following years of preparation, a team of climbers from Japan successfully summited Kula Kangri in 2019, setting a new record for the fastest ascent of the mountain.', 'tokens': ['Following', 'years', 'of', 'preparation', ',', 'a', 'team', 'of', 'climbers', 'from', 'Japan', 'successfully', 'summited', 'Kula', 'Kangri', 'in', '2019', ',', 'setting', 'a', 'new', 'record', 'for', 'the', 'fastest', 'ascent', 'of', 'the', 'mountain', '.'], 'labels': [0, 0, 0, 0, 0, 0, 0, 0, 0, 0, 0, 0, 0, 1, 2, 0, 0, 0, 0, 0, 0, 0, 0, 0, 0, 0, 0, 0, 0, 0]}\n",
      "{'sentence': \"As I stood at the base of Liankang Kangri, I couldn't help but feel a sense of awe at the towering peak that loomed above me, its snow-capped summit glistening in the early morning sun. The remote location of Liankang Kangri, a mountain nestled deep within the Himalayas, makes it a formidable challenge for even the most experienced climbers and trekkers.\", 'tokens': ['As', 'I', 'stood', 'at', 'the', 'base', 'of', 'Liankang', 'Kangri', ',', 'I', 'couldn', \"'\", 't', 'help', 'but', 'feel', 'a', 'sense', 'of', 'awe', 'at', 'the', 'towering', 'peak', 'that', 'loomed', 'above', 'me', ',', 'its', 'snow', '-', 'capped', 'summit', 'glistening', 'in', 'the', 'early', 'morning', 'sun', '.', 'The', 'remote', 'location', 'of', 'Liankang', 'Kangri', ',', 'a', 'mountain', 'nestled', 'deep', 'within', 'the', 'Himalayas', ',', 'makes', 'it', 'a', 'formidable', 'challenge', 'for', 'even', 'the', 'most', 'experienced', 'climbers', 'and', 'trekkers', '.'], 'labels': [0, 0, 0, 0, 0, 0, 0, 1, 2, 0, 0, 0, 0, 0, 0, 0, 0, 0, 0, 0, 0, 0, 0, 0, 0, 0, 0, 0, 0, 0, 0, 0, 0, 0, 0, 0, 0, 0, 0, 0, 0, 0, 0, 0, 0, 0, 1, 2, 0, 0, 0, 0, 0, 0, 0, 0, 0, 0, 0, 0, 0, 0, 0, 0, 0, 0, 0, 0, 0, 0, 0]}\n",
      "{'sentence': \"After weeks of planning, I finally stood at the summit of Yukshin Gardan Sar, its rugged terrain and serene beauty leaving me in awe of nature's majesty.\", 'tokens': ['After', 'weeks', 'of', 'planning', ',', 'I', 'finally', 'stood', 'at', 'the', 'summit', 'of', 'Yukshin', 'Gardan', 'Sar', ',', 'its', 'rugged', 'terrain', 'and', 'serene', 'beauty', 'leaving', 'me', 'in', 'awe', 'of', 'nature', \"'\", 's', 'majesty', '.'], 'labels': [0, 0, 0, 0, 0, 0, 0, 0, 0, 0, 0, 0, 1, 2, 2, 0, 0, 0, 0, 0, 0, 0, 0, 0, 0, 0, 0, 0, 0, 0, 0, 0]}\n",
      "{'sentence': 'Annapurna IV, the 10th highest mountain in the world, is a popular destination for adventure seekers who want to experience the thrill of high-altitude trekking.', 'tokens': ['Annapurna', 'IV', ',', 'the', '10th', 'highest', 'mountain', 'in', 'the', 'world', ',', 'is', 'a', 'popular', 'destination', 'for', 'adventure', 'seekers', 'who', 'want', 'to', 'experience', 'the', 'thrill', 'of', 'high', '-', 'altitude', 'trekking', '.'], 'labels': [1, 2, 0, 0, 0, 0, 0, 0, 0, 0, 0, 0, 0, 0, 0, 0, 0, 0, 0, 0, 0, 0, 0, 0, 0, 0, 0, 0, 0, 0]}\n",
      "{'sentence': 'The unique geology of Annapurna IV, which is characterized by its exposed snow and ice faces and sharp ridges, is what differentiates it from other mountains in the region.', 'tokens': ['The', 'unique', 'geology', 'of', 'Annapurna', 'IV', ',', 'which', 'is', 'characterized', 'by', 'its', 'exposed', 'snow', 'and', 'ice', 'faces', 'and', 'sharp', 'ridges', ',', 'is', 'what', 'differentiates', 'it', 'from', 'other', 'mountains', 'in', 'the', 'region', '.'], 'labels': [0, 0, 0, 0, 1, 2, 0, 0, 0, 0, 0, 0, 0, 0, 0, 0, 0, 0, 0, 0, 0, 0, 0, 0, 0, 0, 0, 0, 0, 0, 0, 0]}\n",
      "{'sentence': 'The team of climbers from the local expedition club was relieved to have successfully summited Annapurna IV last weekend, after weeks of preparation and acclimatization.', 'tokens': ['The', 'team', 'of', 'climbers', 'from', 'the', 'local', 'expedition', 'club', 'was', 'relieved', 'to', 'have', 'successfully', 'summited', 'Annapurna', 'IV', 'last', 'weekend', ',', 'after', 'weeks', 'of', 'preparation', 'and', 'acclimatization', '.'], 'labels': [0, 0, 0, 0, 0, 0, 0, 0, 0, 0, 0, 0, 0, 0, 0, 1, 2, 0, 0, 0, 0, 0, 0, 0, 0, 0, 0]}\n",
      "{'sentence': \"Saser Kangri II, the second-highest peak in the Saser Muztagh range, presents a daunting challenge to even the most experienced mountaineers due to its extreme weather conditions and steep terrain. The crew filming the documentary on the Himalayas had to undergo rigorous acclimatization before attempting to capture the breathtaking sunrise over Saser Kangri II's snow-capped peak. Following the successful ascent of Saser Kangri II, the team of climbers from France announced their plan to tackle the highest peak in the range, Saser Kangri I, in the upcoming season.\", 'tokens': ['Saser', 'Kangri', 'II', ',', 'the', 'second', '-', 'highest', 'peak', 'in', 'the', 'Saser', 'Muztagh', 'range', ',', 'presents', 'a', 'daunting', 'challenge', 'to', 'even', 'the', 'most', 'experienced', 'mountaineers', 'due', 'to', 'its', 'extreme', 'weather', 'conditions', 'and', 'steep', 'terrain', '.', 'The', 'crew', 'filming', 'the', 'documentary', 'on', 'the', 'Himalayas', 'had', 'to', 'undergo', 'rigorous', 'acclimatization', 'before', 'attempting', 'to', 'capture', 'the', 'breathtaking', 'sunrise', 'over', 'Saser', 'Kangri', 'II', \"'\", 's', 'snow', '-', 'capped', 'peak', '.', 'Following', 'the', 'successful', 'ascent', 'of', 'Saser', 'Kangri', 'II', ',', 'the', 'team', 'of', 'climbers', 'from', 'France', 'announced', 'their', 'plan', 'to', 'tackle', 'the', 'highest', 'peak', 'in', 'the', 'range', ',', 'Saser', 'Kangri', 'I', ',', 'in', 'the', 'upcoming', 'season', '.'], 'labels': [1, 2, 2, 0, 0, 0, 0, 0, 0, 0, 0, 0, 0, 0, 0, 0, 0, 0, 0, 0, 0, 0, 0, 0, 0, 0, 0, 0, 0, 0, 0, 0, 0, 0, 0, 0, 0, 0, 0, 0, 0, 0, 0, 0, 0, 0, 0, 0, 0, 0, 0, 0, 0, 0, 0, 0, 1, 2, 2, 0, 0, 0, 0, 0, 0, 0, 0, 0, 0, 0, 0, 1, 2, 2, 0, 0, 0, 0, 0, 0, 0, 0, 0, 0, 0, 0, 0, 0, 0, 0, 0, 0, 0, 0, 0, 0, 0, 0, 0, 0, 0, 0]}\n",
      "{'sentence': \"As I stood at the base of Mamostong Kangri, I couldn't help but feel a sense of awe and wonder at the majestic mountain's towering peak, its snow-capped summit glistening in the sunlight like a shard of splintered glass.\", 'tokens': ['As', 'I', 'stood', 'at', 'the', 'base', 'of', 'Mamostong', 'Kangri', ',', 'I', 'couldn', \"'\", 't', 'help', 'but', 'feel', 'a', 'sense', 'of', 'awe', 'and', 'wonder', 'at', 'the', 'majestic', 'mountain', \"'\", 's', 'towering', 'peak', ',', 'its', 'snow', '-', 'capped', 'summit', 'glistening', 'in', 'the', 'sunlight', 'like', 'a', 'shard', 'of', 'splintered', 'glass', '.'], 'labels': [0, 0, 0, 0, 0, 0, 0, 1, 2, 0, 0, 0, 0, 0, 0, 0, 0, 0, 0, 0, 0, 0, 0, 0, 0, 0, 0, 0, 0, 0, 0, 0, 0, 0, 0, 0, 0, 0, 0, 0, 0, 0, 0, 0, 0, 0, 0, 0]}\n",
      "{'sentence': 'The remote location of Mamostong Kangri, situated deep within the Karakoram range, makes it a formidable challenge for even the most experienced trekkers and mountaineers, who must navigate treacherous terrain and unpredictable weather conditions to reach the summit.', 'tokens': ['The', 'remote', 'location', 'of', 'Mamostong', 'Kangri', ',', 'situated', 'deep', 'within', 'the', 'Karakoram', 'range', ',', 'makes', 'it', 'a', 'formidable', 'challenge', 'for', 'even', 'the', 'most', 'experienced', 'trekkers', 'and', 'mountaineers', ',', 'who', 'must', 'navigate', 'treacherous', 'terrain', 'and', 'unpredictable', 'weather', 'conditions', 'to', 'reach', 'the', 'summit', '.'], 'labels': [0, 0, 0, 0, 1, 2, 0, 0, 0, 0, 0, 0, 0, 0, 0, 0, 0, 0, 0, 0, 0, 0, 0, 0, 0, 0, 0, 0, 0, 0, 0, 0, 0, 0, 0, 0, 0, 0, 0, 0, 0, 0]}\n",
      "{'sentence': 'As I stood at the base of Saser Kangri III, I felt a sense of awe wash over me at the sheer scale and beauty of the mountain.', 'tokens': ['As', 'I', 'stood', 'at', 'the', 'base', 'of', 'Saser', 'Kangri', 'III', ',', 'I', 'felt', 'a', 'sense', 'of', 'awe', 'wash', 'over', 'me', 'at', 'the', 'sheer', 'scale', 'and', 'beauty', 'of', 'the', 'mountain', '.'], 'labels': [0, 0, 0, 0, 0, 0, 0, 1, 2, 2, 0, 0, 0, 0, 0, 0, 0, 0, 0, 0, 0, 0, 0, 0, 0, 0, 0, 0, 0, 0]}\n",
      "{'sentence': 'The snow-capped peak of Noshaq glistened in the morning sunlight as we began our ascent, its towering presence both daunting and exhilarating.', 'tokens': ['The', 'snow', '-', 'capped', 'peak', 'of', 'Noshaq', 'glistened', 'in', 'the', 'morning', 'sunlight', 'as', 'we', 'began', 'our', 'ascent', ',', 'its', 'towering', 'presence', 'both', 'daunting', 'and', 'exhilarating', '.'], 'labels': [0, 0, 0, 0, 0, 0, 1, 0, 0, 0, 0, 0, 0, 0, 0, 0, 0, 0, 0, 0, 0, 0, 0, 0, 0, 0]}\n",
      "{'sentence': 'Noshaq, located in the Hindu Kush mountain range, is notable for being the highest peak in Afghanistan and the second-highest peak in the range.', 'tokens': ['Noshaq', ',', 'located', 'in', 'the', 'Hindu', 'Kush', 'mountain', 'range', ',', 'is', 'notable', 'for', 'being', 'the', 'highest', 'peak', 'in', 'Afghanistan', 'and', 'the', 'second', '-', 'highest', 'peak', 'in', 'the', 'range', '.'], 'labels': [1, 0, 0, 0, 0, 0, 0, 0, 0, 0, 0, 0, 0, 0, 0, 0, 0, 0, 0, 0, 0, 0, 0, 0, 0, 0, 0, 0, 0]}\n",
      "{'sentence': 'Recent seismic activity has raised concerns among geologists that Noshaq may be at increased risk of a major landslide, prompting local authorities to issue warnings to nearby communities.', 'tokens': ['Recent', 'seismic', 'activity', 'has', 'raised', 'concerns', 'among', 'geologists', 'that', 'Noshaq', 'may', 'be', 'at', 'increased', 'risk', 'of', 'a', 'major', 'landslide', ',', 'prompting', 'local', 'authorities', 'to', 'issue', 'warnings', 'to', 'nearby', 'communities', '.'], 'labels': [0, 0, 0, 0, 0, 0, 0, 0, 0, 1, 0, 0, 0, 0, 0, 0, 0, 0, 0, 0, 0, 0, 0, 0, 0, 0, 0, 0, 0, 0]}\n",
      "{'sentence': \"As I stood at the base of Passu Sar, I couldn't help but feel a sense of awe at the mountain's towering presence and the serene beauty of the surrounding valley.\", 'tokens': ['As', 'I', 'stood', 'at', 'the', 'base', 'of', 'Passu', 'Sar', ',', 'I', 'couldn', \"'\", 't', 'help', 'but', 'feel', 'a', 'sense', 'of', 'awe', 'at', 'the', 'mountain', \"'\", 's', 'towering', 'presence', 'and', 'the', 'serene', 'beauty', 'of', 'the', 'surrounding', 'valley', '.'], 'labels': [0, 0, 0, 0, 0, 0, 0, 1, 2, 0, 0, 0, 0, 0, 0, 0, 0, 0, 0, 0, 0, 0, 0, 0, 0, 0, 0, 0, 0, 0, 0, 0, 0, 0, 0, 0, 0]}\n",
      "{'sentence': 'As I stood at the summit of Jongsong Peak, I felt an overwhelming sense of accomplishment, gazing out at the breathtaking panorama below.', 'tokens': ['As', 'I', 'stood', 'at', 'the', 'summit', 'of', 'Jongsong', 'Peak', ',', 'I', 'felt', 'an', 'overwhelming', 'sense', 'of', 'accomplishment', ',', 'gazing', 'out', 'at', 'the', 'breathtaking', 'panorama', 'below', '.'], 'labels': [0, 0, 0, 0, 0, 0, 0, 1, 2, 0, 0, 0, 0, 0, 0, 0, 0, 0, 0, 0, 0, 0, 0, 0, 0, 0]}\n",
      "{'sentence': 'According to recent reports, the climbing route to Jongsong Peak has become increasingly challenging due to shifting ice formations and unpredictable weather conditions.', 'tokens': ['According', 'to', 'recent', 'reports', ',', 'the', 'climbing', 'route', 'to', 'Jongsong', 'Peak', 'has', 'become', 'increasingly', 'challenging', 'due', 'to', 'shifting', 'ice', 'formations', 'and', 'unpredictable', 'weather', 'conditions', '.'], 'labels': [0, 0, 0, 0, 0, 0, 0, 0, 0, 1, 2, 0, 0, 0, 0, 0, 0, 0, 0, 0, 0, 0, 0, 0, 0]}\n",
      "{'sentence': 'Malubiting, the highest peak in the Rakaposhi range, is a formidable challenge for climbers due to its unpredictable weather conditions and steep terrain.', 'tokens': ['Malubiting', ',', 'the', 'highest', 'peak', 'in', 'the', 'Rakaposhi', 'range', ',', 'is', 'a', 'formidable', 'challenge', 'for', 'climbers', 'due', 'to', 'its', 'unpredictable', 'weather', 'conditions', 'and', 'steep', 'terrain', '.'], 'labels': [1, 0, 0, 0, 0, 0, 0, 0, 0, 0, 0, 0, 0, 0, 0, 0, 0, 0, 0, 0, 0, 0, 0, 0, 0, 0]}\n",
      "{'sentence': 'The village of Shigar, nestled at the foot of Malubiting, offers breathtaking views of the surrounding landscape and serves as a tranquil retreat for weary travelers.', 'tokens': ['The', 'village', 'of', 'Shigar', ',', 'nestled', 'at', 'the', 'foot', 'of', 'Malubiting', ',', 'offers', 'breathtaking', 'views', 'of', 'the', 'surrounding', 'landscape', 'and', 'serves', 'as', 'a', 'tranquil', 'retreat', 'for', 'weary', 'travelers', '.'], 'labels': [0, 0, 0, 0, 0, 0, 0, 0, 0, 0, 1, 0, 0, 0, 0, 0, 0, 0, 0, 0, 0, 0, 0, 0, 0, 0, 0, 0, 0]}\n",
      "{'sentence': 'Gangapurna, the 24th highest mountain in the world, is located in the Himalayas and was first ascended by a German expedition in 1960.', 'tokens': ['Gangapurna', ',', 'the', '24th', 'highest', 'mountain', 'in', 'the', 'world', ',', 'is', 'located', 'in', 'the', 'Himalayas', 'and', 'was', 'first', 'ascended', 'by', 'a', 'German', 'expedition', 'in', '1960', '.'], 'labels': [1, 0, 0, 0, 0, 0, 0, 0, 0, 0, 0, 0, 0, 0, 0, 0, 0, 0, 0, 0, 0, 0, 0, 0, 0, 0]}\n",
      "{'sentence': 'During my trek through the Annapurna Circuit, I caught a glimpse of the majestic Gangapurna glistening in the morning sunlight.', 'tokens': ['During', 'my', 'trek', 'through', 'the', 'Annapurna', 'Circuit', ',', 'I', 'caught', 'a', 'glimpse', 'of', 'the', 'majestic', 'Gangapurna', 'glistening', 'in', 'the', 'morning', 'sunlight', '.'], 'labels': [0, 0, 0, 0, 0, 0, 0, 0, 0, 0, 0, 0, 0, 0, 0, 1, 0, 0, 0, 0, 0, 0]}\n",
      "{'sentence': \"As I stood at the base of Muchu Chhish (Batura V), I couldn't help but feel a sense of awe at the towering peak that loomed above me, its snow-capped summit glistening in the sunlight. Muchu Chhish (Batura V) was the site of a recent climbing expedition that made headlines when the team successfully reached the summit via a previously unattempted route. Located in the Batura Muztagh range of the Karakoram mountain range, Muchu Chhish (Batura V) is a formidable mountain that attracts experienced climbers and adventure seekers from around the world.\", 'tokens': ['As', 'I', 'stood', 'at', 'the', 'base', 'of', 'Muchu', 'Chhish', '(', 'Batura', 'V', ')', ',', 'I', 'couldn', \"'\", 't', 'help', 'but', 'feel', 'a', 'sense', 'of', 'awe', 'at', 'the', 'towering', 'peak', 'that', 'loomed', 'above', 'me', ',', 'its', 'snow', '-', 'capped', 'summit', 'glistening', 'in', 'the', 'sunlight', '.', 'Muchu', 'Chhish', '(', 'Batura', 'V', ')', 'was', 'the', 'site', 'of', 'a', 'recent', 'climbing', 'expedition', 'that', 'made', 'headlines', 'when', 'the', 'team', 'successfully', 'reached', 'the', 'summit', 'via', 'a', 'previously', 'unattempted', 'route', '.', 'Located', 'in', 'the', 'Batura', 'Muztagh', 'range', 'of', 'the', 'Karakoram', 'mountain', 'range', ',', 'Muchu', 'Chhish', '(', 'Batura', 'V', ')', 'is', 'a', 'formidable', 'mountain', 'that', 'attracts', 'experienced', 'climbers', 'and', 'adventure', 'seekers', 'from', 'around', 'the', 'world', '.'], 'labels': [0, 0, 0, 0, 0, 0, 0, 1, 2, 2, 2, 2, 2, 0, 0, 0, 0, 0, 0, 0, 0, 0, 0, 0, 0, 0, 0, 0, 0, 0, 0, 0, 0, 0, 0, 0, 0, 0, 0, 0, 0, 0, 0, 0, 1, 2, 2, 2, 2, 2, 0, 0, 0, 0, 0, 0, 0, 0, 0, 0, 0, 0, 0, 0, 0, 0, 0, 0, 0, 0, 0, 0, 0, 0, 0, 0, 0, 0, 0, 0, 0, 0, 0, 0, 0, 0, 1, 2, 2, 2, 2, 2, 0, 0, 0, 0, 0, 0, 0, 0, 0, 0, 0, 0, 0, 0, 0, 0]}\n",
      "{'sentence': 'After months of planning, I finally stood at the summit of Jengish Chokusu, feeling an overwhelming sense of accomplishment and awe at the breathtaking view.', 'tokens': ['After', 'months', 'of', 'planning', ',', 'I', 'finally', 'stood', 'at', 'the', 'summit', 'of', 'Jengish', 'Chokusu', ',', 'feeling', 'an', 'overwhelming', 'sense', 'of', 'accomplishment', 'and', 'awe', 'at', 'the', 'breathtaking', 'view', '.'], 'labels': [0, 0, 0, 0, 0, 0, 0, 0, 0, 0, 0, 0, 1, 2, 0, 0, 0, 0, 0, 0, 0, 0, 0, 0, 0, 0, 0, 0]}\n",
      "{'sentence': \"As I stood at the base of K12, the second-highest peak in the Saltoro Range, I couldn't help but feel a mix of awe and trepidation at the daunting climb ahead.\", 'tokens': ['As', 'I', 'stood', 'at', 'the', 'base', 'of', 'K12', ',', 'the', 'second', '-', 'highest', 'peak', 'in', 'the', 'Saltoro', 'Range', ',', 'I', 'couldn', \"'\", 't', 'help', 'but', 'feel', 'a', 'mix', 'of', 'awe', 'and', 'trepidation', 'at', 'the', 'daunting', 'climb', 'ahead', '.'], 'labels': [0, 0, 0, 0, 0, 0, 0, 1, 0, 0, 0, 0, 0, 0, 0, 0, 0, 0, 0, 0, 0, 0, 0, 0, 0, 0, 0, 0, 0, 0, 0, 0, 0, 0, 0, 0, 0, 0]}\n",
      "{'sentence': 'K12 is notable for being one of the highest peaks in the Karakoram mountain range, with an elevation that draws experienced mountaineers from around the globe.', 'tokens': ['K12', 'is', 'notable', 'for', 'being', 'one', 'of', 'the', 'highest', 'peaks', 'in', 'the', 'Karakoram', 'mountain', 'range', ',', 'with', 'an', 'elevation', 'that', 'draws', 'experienced', 'mountaineers', 'from', 'around', 'the', 'globe', '.'], 'labels': [1, 0, 0, 0, 0, 0, 0, 0, 0, 0, 0, 0, 0, 0, 0, 0, 0, 0, 0, 0, 0, 0, 0, 0, 0, 0, 0, 0]}\n",
      "{'sentence': 'Recent news reports highlighted the extreme weather conditions on K12, where a team of climbers narrowly escaped an avalanche by making a quick descent down the treacherous slope.', 'tokens': ['Recent', 'news', 'reports', 'highlighted', 'the', 'extreme', 'weather', 'conditions', 'on', 'K12', ',', 'where', 'a', 'team', 'of', 'climbers', 'narrowly', 'escaped', 'an', 'avalanche', 'by', 'making', 'a', 'quick', 'descent', 'down', 'the', 'treacherous', 'slope', '.'], 'labels': [0, 0, 0, 0, 0, 0, 0, 0, 0, 1, 0, 0, 0, 0, 0, 0, 0, 0, 0, 0, 0, 0, 0, 0, 0, 0, 0, 0, 0, 0]}\n",
      "{'sentence': 'Sia Kangri, a majestic peak in the Karakoram range, beckons adventurers to embark on an unforgettable expedition to its snow-capped summit.', 'tokens': ['Sia', 'Kangri', ',', 'a', 'majestic', 'peak', 'in', 'the', 'Karakoram', 'range', ',', 'beckons', 'adventurers', 'to', 'embark', 'on', 'an', 'unforgettable', 'expedition', 'to', 'its', 'snow', '-', 'capped', 'summit', '.'], 'labels': [1, 2, 0, 0, 0, 0, 0, 0, 0, 0, 0, 0, 0, 0, 0, 0, 0, 0, 0, 0, 0, 0, 0, 0, 0, 0]}\n",
      "{'sentence': 'Geologists are fascinated by the unique rock formations found on Sia Kangri, which provide valuable insights into the tectonic history of the region.', 'tokens': ['Geologists', 'are', 'fascinated', 'by', 'the', 'unique', 'rock', 'formations', 'found', 'on', 'Sia', 'Kangri', ',', 'which', 'provide', 'valuable', 'insights', 'into', 'the', 'tectonic', 'history', 'of', 'the', 'region', '.'], 'labels': [0, 0, 0, 0, 0, 0, 0, 0, 0, 0, 1, 2, 0, 0, 0, 0, 0, 0, 0, 0, 0, 0, 0, 0, 0]}\n",
      "{'sentence': 'Last summer, I had the privilege of witnessing a breathtaking sunrise over Sia Kangri, a moment that left an indelible mark on my soul.', 'tokens': ['Last', 'summer', ',', 'I', 'had', 'the', 'privilege', 'of', 'witnessing', 'a', 'breathtaking', 'sunrise', 'over', 'Sia', 'Kangri', ',', 'a', 'moment', 'that', 'left', 'an', 'indelible', 'mark', 'on', 'my', 'soul', '.'], 'labels': [0, 0, 0, 0, 0, 0, 0, 0, 0, 0, 0, 0, 0, 1, 2, 0, 0, 0, 0, 0, 0, 0, 0, 0, 0, 0, 0]}\n",
      "{'sentence': 'After weeks of planning, I finally stood at the summit of Momhil Sar, feeling a mix of exhaustion and exhilaration as I gazed out at the breathtaking panorama below.', 'tokens': ['After', 'weeks', 'of', 'planning', ',', 'I', 'finally', 'stood', 'at', 'the', 'summit', 'of', 'Momhil', 'Sar', ',', 'feeling', 'a', 'mix', 'of', 'exhaustion', 'and', 'exhilaration', 'as', 'I', 'gazed', 'out', 'at', 'the', 'breathtaking', 'panorama', 'below', '.'], 'labels': [0, 0, 0, 0, 0, 0, 0, 0, 0, 0, 0, 0, 1, 2, 0, 0, 0, 0, 0, 0, 0, 0, 0, 0, 0, 0, 0, 0, 0, 0, 0, 0]}\n",
      "{'sentence': 'As I stood at the summit of Istor-o-Nal, the second-highest peak in the Hindu Kush range, I felt an overwhelming sense of accomplishment and awe at the breathtaking vista below.', 'tokens': ['As', 'I', 'stood', 'at', 'the', 'summit', 'of', 'Istor', '-', 'o', '-', 'Nal', ',', 'the', 'second', '-', 'highest', 'peak', 'in', 'the', 'Hindu', 'Kush', 'range', ',', 'I', 'felt', 'an', 'overwhelming', 'sense', 'of', 'accomplishment', 'and', 'awe', 'at', 'the', 'breathtaking', 'vista', 'below', '.'], 'labels': [0, 0, 0, 0, 0, 0, 0, 1, 2, 2, 2, 2, 0, 0, 0, 0, 0, 0, 0, 0, 0, 0, 0, 0, 0, 0, 0, 0, 0, 0, 0, 0, 0, 0, 0, 0, 0, 0, 0]}\n",
      "{'sentence': 'Ghent Kangri, located in the remote Ladakh region of India, is a formidable trekking destination for adventurers seeking breathtaking Himalayan vistas.', 'tokens': ['Ghent', 'Kangri', ',', 'located', 'in', 'the', 'remote', 'Ladakh', 'region', 'of', 'India', ',', 'is', 'a', 'formidable', 'trekking', 'destination', 'for', 'adventurers', 'seeking', 'breathtaking', 'Himalayan', 'vistas', '.'], 'labels': [1, 2, 0, 0, 0, 0, 0, 0, 0, 0, 0, 0, 0, 0, 0, 0, 0, 0, 0, 0, 0, 0, 0, 0]}\n",
      "{'sentence': \"The team of geologists conducting research on Ghent Kangri discovered unique mineral deposits that shed new light on the mountain's geological history.\", 'tokens': ['The', 'team', 'of', 'geologists', 'conducting', 'research', 'on', 'Ghent', 'Kangri', 'discovered', 'unique', 'mineral', 'deposits', 'that', 'shed', 'new', 'light', 'on', 'the', 'mountain', \"'\", 's', 'geological', 'history', '.'], 'labels': [0, 0, 0, 0, 0, 0, 0, 1, 2, 0, 0, 0, 0, 0, 0, 0, 0, 0, 0, 0, 0, 0, 0, 0, 0]}\n",
      "{'sentence': \"As she stood at the summit of Ghent Kangri, Maria felt an overwhelming sense of accomplishment, having overcome personal fears to reach the top of one of the world's most challenging mountains.\", 'tokens': ['As', 'she', 'stood', 'at', 'the', 'summit', 'of', 'Ghent', 'Kangri', ',', 'Maria', 'felt', 'an', 'overwhelming', 'sense', 'of', 'accomplishment', ',', 'having', 'overcome', 'personal', 'fears', 'to', 'reach', 'the', 'top', 'of', 'one', 'of', 'the', 'world', \"'\", 's', 'most', 'challenging', 'mountains', '.'], 'labels': [0, 0, 0, 0, 0, 0, 0, 1, 2, 0, 0, 0, 0, 0, 0, 0, 0, 0, 0, 0, 0, 0, 0, 0, 0, 0, 0, 0, 0, 0, 0, 0, 0, 0, 0, 0, 0]}\n",
      "{'sentence': 'Haramosh Peak, the 24th highest peak in the world, is a majestic sight for trekkers, offering breathtaking views and challenging trails that test even the most seasoned adventurers.', 'tokens': ['Haramosh', 'Peak', ',', 'the', '24th', 'highest', 'peak', 'in', 'the', 'world', ',', 'is', 'a', 'majestic', 'sight', 'for', 'trekkers', ',', 'offering', 'breathtaking', 'views', 'and', 'challenging', 'trails', 'that', 'test', 'even', 'the', 'most', 'seasoned', 'adventurers', '.'], 'labels': [1, 2, 0, 0, 0, 0, 0, 0, 0, 0, 0, 0, 0, 0, 0, 0, 0, 0, 0, 0, 0, 0, 0, 0, 0, 0, 0, 0, 0, 0, 0, 0]}\n",
      "{'sentence': \"Geologists have long been fascinated by Haramosh Peak's unique rock formations, which provide valuable insights into the region's tectonic history and the processes that shaped its dramatic landscape.\", 'tokens': ['Geologists', 'have', 'long', 'been', 'fascinated', 'by', 'Haramosh', 'Peak', \"'\", 's', 'unique', 'rock', 'formations', ',', 'which', 'provide', 'valuable', 'insights', 'into', 'the', 'region', \"'\", 's', 'tectonic', 'history', 'and', 'the', 'processes', 'that', 'shaped', 'its', 'dramatic', 'landscape', '.'], 'labels': [0, 0, 0, 0, 0, 0, 1, 2, 0, 0, 0, 0, 0, 0, 0, 0, 0, 0, 0, 0, 0, 0, 0, 0, 0, 0, 0, 0, 0, 0, 0, 0, 0, 0]}\n",
      "{'sentence': 'In a tragic incident last week, a group of experienced climbers attempting to scale Haramosh Peak got stranded in inclement weather, prompting a daring rescue operation by local emergency services that thankfully resulted in no casualties.', 'tokens': ['In', 'a', 'tragic', 'incident', 'last', 'week', ',', 'a', 'group', 'of', 'experienced', 'climbers', 'attempting', 'to', 'scale', 'Haramosh', 'Peak', 'got', 'stranded', 'in', 'inclement', 'weather', ',', 'prompting', 'a', 'daring', 'rescue', 'operation', 'by', 'local', 'emergency', 'services', 'that', 'thankfully', 'resulted', 'in', 'no', 'casualties', '.'], 'labels': [0, 0, 0, 0, 0, 0, 0, 0, 0, 0, 0, 0, 0, 0, 0, 1, 2, 0, 0, 0, 0, 0, 0, 0, 0, 0, 0, 0, 0, 0, 0, 0, 0, 0, 0, 0, 0, 0, 0]}\n",
      "{'sentence': \"As I stood at the base of Kabru, the early morning sunlight casting a golden glow on its snow-capped peaks, I felt a sense of awe and reverence for nature's majesty.\", 'tokens': ['As', 'I', 'stood', 'at', 'the', 'base', 'of', 'Kabru', ',', 'the', 'early', 'morning', 'sunlight', 'casting', 'a', 'golden', 'glow', 'on', 'its', 'snow', '-', 'capped', 'peaks', ',', 'I', 'felt', 'a', 'sense', 'of', 'awe', 'and', 'reverence', 'for', 'nature', \"'\", 's', 'majesty', '.'], 'labels': [0, 0, 0, 0, 0, 0, 0, 1, 0, 0, 0, 0, 0, 0, 0, 0, 0, 0, 0, 0, 0, 0, 0, 0, 0, 0, 0, 0, 0, 0, 0, 0, 0, 0, 0, 0, 0, 0]}\n",
      "{'sentence': 'As I stood at the base of Rimo I, I felt a mix of awe and trepidation, knowing the challenging climb that lay ahead would push me to my limits.', 'tokens': ['As', 'I', 'stood', 'at', 'the', 'base', 'of', 'Rimo', 'I', ',', 'I', 'felt', 'a', 'mix', 'of', 'awe', 'and', 'trepidation', ',', 'knowing', 'the', 'challenging', 'climb', 'that', 'lay', 'ahead', 'would', 'push', 'me', 'to', 'my', 'limits', '.'], 'labels': [0, 0, 0, 0, 0, 0, 0, 1, 2, 0, 0, 0, 0, 0, 0, 0, 0, 0, 0, 0, 0, 0, 0, 0, 0, 0, 0, 0, 0, 0, 0, 0, 0]}\n",
      "{'sentence': \"As I stood at the base of Sherpi Kangri, the sheer scale of the mountain left me awestruck and humbled by nature's majesty.\", 'tokens': ['As', 'I', 'stood', 'at', 'the', 'base', 'of', 'Sherpi', 'Kangri', ',', 'the', 'sheer', 'scale', 'of', 'the', 'mountain', 'left', 'me', 'awestruck', 'and', 'humbled', 'by', 'nature', \"'\", 's', 'majesty', '.'], 'labels': [0, 0, 0, 0, 0, 0, 0, 1, 2, 0, 0, 0, 0, 0, 0, 0, 0, 0, 0, 0, 0, 0, 0, 0, 0, 0, 0]}\n",
      "{'sentence': 'Churen Himal, a lesser-known peak in the Nepalese Himalayas, offers adventurers a trekking route that leads through lush forests, over ancient glaciers, and to viewpoints offering breathtaking vistas of the surrounding landscape.', 'tokens': ['Churen', 'Himal', ',', 'a', 'lesser', '-', 'known', 'peak', 'in', 'the', 'Nepalese', 'Himalayas', ',', 'offers', 'adventurers', 'a', 'trekking', 'route', 'that', 'leads', 'through', 'lush', 'forests', ',', 'over', 'ancient', 'glaciers', ',', 'and', 'to', 'viewpoints', 'offering', 'breathtaking', 'vistas', 'of', 'the', 'surrounding', 'landscape', '.'], 'labels': [1, 2, 0, 0, 0, 0, 0, 0, 0, 0, 0, 0, 0, 0, 0, 0, 0, 0, 0, 0, 0, 0, 0, 0, 0, 0, 0, 0, 0, 0, 0, 0, 0, 0, 0, 0, 0, 0, 0]}\n",
      "{'sentence': 'Geological surveys have indicated that Churen Himal, unlike its granite counterparts in other parts of the Himalayan range, is primarily composed of gneiss and schist, suggesting a complex tectonic history.', 'tokens': ['Geological', 'surveys', 'have', 'indicated', 'that', 'Churen', 'Himal', ',', 'unlike', 'its', 'granite', 'counterparts', 'in', 'other', 'parts', 'of', 'the', 'Himalayan', 'range', ',', 'is', 'primarily', 'composed', 'of', 'gneiss', 'and', 'schist', ',', 'suggesting', 'a', 'complex', 'tectonic', 'history', '.'], 'labels': [0, 0, 0, 0, 0, 1, 2, 0, 0, 0, 0, 0, 0, 0, 0, 0, 0, 0, 0, 0, 0, 0, 0, 0, 0, 0, 0, 0, 0, 0, 0, 0, 0, 0]}\n",
      "{'sentence': 'During my expedition to Churen Himal, a sudden snowstorm struck just as we were ascending the final ridge, reducing visibility to almost zero and forcing us to navigate solely by compass and intuition.', 'tokens': ['During', 'my', 'expedition', 'to', 'Churen', 'Himal', ',', 'a', 'sudden', 'snowstorm', 'struck', 'just', 'as', 'we', 'were', 'ascending', 'the', 'final', 'ridge', ',', 'reducing', 'visibility', 'to', 'almost', 'zero', 'and', 'forcing', 'us', 'to', 'navigate', 'solely', 'by', 'compass', 'and', 'intuition', '.'], 'labels': [0, 0, 0, 0, 1, 2, 0, 0, 0, 0, 0, 0, 0, 0, 0, 0, 0, 0, 0, 0, 0, 0, 0, 0, 0, 0, 0, 0, 0, 0, 0, 0, 0, 0, 0, 0]}\n",
      "{'sentence': 'Labuche Kang, a majestic mountain in the Himalayas, stands tall at an elevation of 7,367 meters above sea level, drawing adventure seekers and nature enthusiasts from around the world to its snow-capped peaks and untouched beauty.', 'tokens': ['Labuche', 'Kang', ',', 'a', 'majestic', 'mountain', 'in', 'the', 'Himalayas', ',', 'stands', 'tall', 'at', 'an', 'elevation', 'of', '7', ',', '367', 'meters', 'above', 'sea', 'level', ',', 'drawing', 'adventure', 'seekers', 'and', 'nature', 'enthusiasts', 'from', 'around', 'the', 'world', 'to', 'its', 'snow', '-', 'capped', 'peaks', 'and', 'untouched', 'beauty', '.'], 'labels': [1, 2, 0, 0, 0, 0, 0, 0, 0, 0, 0, 0, 0, 0, 0, 0, 0, 0, 0, 0, 0, 0, 0, 0, 0, 0, 0, 0, 0, 0, 0, 0, 0, 0, 0, 0, 0, 0, 0, 0, 0, 0, 0, 0]}\n",
      "{'sentence': 'After months of preparation, Maria, an experienced mountaineer, embarked on the challenge of her lifetime: to conquer the mighty Labuche Kang, a feat only a handful of climbers have achieved due to its treacherous terrain and unpredictable weather conditions.', 'tokens': ['After', 'months', 'of', 'preparation', ',', 'Maria', ',', 'an', 'experienced', 'mountaineer', ',', 'embarked', 'on', 'the', 'challenge', 'of', 'her', 'lifetime', ':', 'to', 'conquer', 'the', 'mighty', 'Labuche', 'Kang', ',', 'a', 'feat', 'only', 'a', 'handful', 'of', 'climbers', 'have', 'achieved', 'due', 'to', 'its', 'treacherous', 'terrain', 'and', 'unpredictable', 'weather', 'conditions', '.'], 'labels': [0, 0, 0, 0, 0, 0, 0, 0, 0, 0, 0, 0, 0, 0, 0, 0, 0, 0, 0, 0, 0, 0, 0, 1, 2, 0, 0, 0, 0, 0, 0, 0, 0, 0, 0, 0, 0, 0, 0, 0, 0, 0, 0, 0, 0]}\n",
      "{'sentence': 'Kirat Chuli, a majestic peak in the Himalayas, beckons adventure-seekers from around the world with its breathtaking vistas and challenging climbs. The recent snowfall on Kirat Chuli has caused a surge in avalanches, prompting local authorities to issue warnings to trekkers planning to ascend the mountain.', 'tokens': ['Kirat', 'Chuli', ',', 'a', 'majestic', 'peak', 'in', 'the', 'Himalayas', ',', 'beckons', 'adventure', '-', 'seekers', 'from', 'around', 'the', 'world', 'with', 'its', 'breathtaking', 'vistas', 'and', 'challenging', 'climbs', '.', 'The', 'recent', 'snowfall', 'on', 'Kirat', 'Chuli', 'has', 'caused', 'a', 'surge', 'in', 'avalanches', ',', 'prompting', 'local', 'authorities', 'to', 'issue', 'warnings', 'to', 'trekkers', 'planning', 'to', 'ascend', 'the', 'mountain', '.'], 'labels': [1, 2, 0, 0, 0, 0, 0, 0, 0, 0, 0, 0, 0, 0, 0, 0, 0, 0, 0, 0, 0, 0, 0, 0, 0, 0, 0, 0, 0, 0, 1, 2, 0, 0, 0, 0, 0, 0, 0, 0, 0, 0, 0, 0, 0, 0, 0, 0, 0, 0, 0, 0, 0]}\n",
      "{'sentence': \"As I stood at the base of Skil Brum, the majestic mountain's snow-capped peak seemed to touch the sky, its rugged beauty taking my breath away. Recent satellite images have revealed significant glacier melting on Skil Brum, a concerning trend that scientists attribute to climate change.\", 'tokens': ['As', 'I', 'stood', 'at', 'the', 'base', 'of', 'Skil', 'Brum', ',', 'the', 'majestic', 'mountain', \"'\", 's', 'snow', '-', 'capped', 'peak', 'seemed', 'to', 'touch', 'the', 'sky', ',', 'its', 'rugged', 'beauty', 'taking', 'my', 'breath', 'away', '.', 'Recent', 'satellite', 'images', 'have', 'revealed', 'significant', 'glacier', 'melting', 'on', 'Skil', 'Brum', ',', 'a', 'concerning', 'trend', 'that', 'scientists', 'attribute', 'to', 'climate', 'change', '.'], 'labels': [0, 0, 0, 0, 0, 0, 0, 1, 2, 0, 0, 0, 0, 0, 0, 0, 0, 0, 0, 0, 0, 0, 0, 0, 0, 0, 0, 0, 0, 0, 0, 0, 0, 0, 0, 0, 0, 0, 0, 0, 0, 0, 1, 2, 0, 0, 0, 0, 0, 0, 0, 0, 0, 0, 0]}\n",
      "{'sentence': 'As I stood at the summit of Abi Gamin, I felt a deep sense of accomplishment and awe at the breathtaking view of the Himalayas unfolding before me.', 'tokens': ['As', 'I', 'stood', 'at', 'the', 'summit', 'of', 'Abi', 'Gamin', ',', 'I', 'felt', 'a', 'deep', 'sense', 'of', 'accomplishment', 'and', 'awe', 'at', 'the', 'breathtaking', 'view', 'of', 'the', 'Himalayas', 'unfolding', 'before', 'me', '.'], 'labels': [0, 0, 0, 0, 0, 0, 0, 1, 2, 0, 0, 0, 0, 0, 0, 0, 0, 0, 0, 0, 0, 0, 0, 0, 0, 0, 0, 0, 0, 0]}\n",
      "{'sentence': \"As I stood at the base of Gimmigela Chuli, I couldn't help but feel a sense of awe at the towering mountain's snow-capped peak glistening in the early morning sunlight. The recent discovery of a hidden glacial lake on Gimmigela Chuli has drawn international attention from geologists and climate scientists, who are eager to study the lake's unique ecosystem and potential implications for climate change research.\", 'tokens': ['As', 'I', 'stood', 'at', 'the', 'base', 'of', 'Gimmigela', 'Chuli', ',', 'I', 'couldn', \"'\", 't', 'help', 'but', 'feel', 'a', 'sense', 'of', 'awe', 'at', 'the', 'towering', 'mountain', \"'\", 's', 'snow', '-', 'capped', 'peak', 'glistening', 'in', 'the', 'early', 'morning', 'sunlight', '.', 'The', 'recent', 'discovery', 'of', 'a', 'hidden', 'glacial', 'lake', 'on', 'Gimmigela', 'Chuli', 'has', 'drawn', 'international', 'attention', 'from', 'geologists', 'and', 'climate', 'scientists', ',', 'who', 'are', 'eager', 'to', 'study', 'the', 'lake', \"'\", 's', 'unique', 'ecosystem', 'and', 'potential', 'implications', 'for', 'climate', 'change', 'research', '.'], 'labels': [0, 0, 0, 0, 0, 0, 0, 1, 2, 0, 0, 0, 0, 0, 0, 0, 0, 0, 0, 0, 0, 0, 0, 0, 0, 0, 0, 0, 0, 0, 0, 0, 0, 0, 0, 0, 0, 0, 0, 0, 0, 0, 0, 0, 0, 0, 0, 1, 2, 0, 0, 0, 0, 0, 0, 0, 0, 0, 0, 0, 0, 0, 0, 0, 0, 0, 0, 0, 0, 0, 0, 0, 0, 0, 0, 0, 0, 0]}\n",
      "{'sentence': \"As I stood at the base of Saraghrar, the rugged landscape and snow-capped peak left me in awe of nature's beauty and power.\", 'tokens': ['As', 'I', 'stood', 'at', 'the', 'base', 'of', 'Saraghrar', ',', 'the', 'rugged', 'landscape', 'and', 'snow', '-', 'capped', 'peak', 'left', 'me', 'in', 'awe', 'of', 'nature', \"'\", 's', 'beauty', 'and', 'power', '.'], 'labels': [0, 0, 0, 0, 0, 0, 0, 1, 0, 0, 0, 0, 0, 0, 0, 0, 0, 0, 0, 0, 0, 0, 0, 0, 0, 0, 0, 0, 0]}\n",
      "{'sentence': 'The recent rockslide on Saraghrar has raised concerns among local authorities and trekking groups about the safety of routes leading to the summit.', 'tokens': ['The', 'recent', 'rockslide', 'on', 'Saraghrar', 'has', 'raised', 'concerns', 'among', 'local', 'authorities', 'and', 'trekking', 'groups', 'about', 'the', 'safety', 'of', 'routes', 'leading', 'to', 'the', 'summit', '.'], 'labels': [0, 0, 0, 0, 1, 0, 0, 0, 0, 0, 0, 0, 0, 0, 0, 0, 0, 0, 0, 0, 0, 0, 0, 0]}\n",
      "{'sentence': 'Saraghrar, located in the remote regions of the Hindu Kush mountain range, is one of the lesser-known peaks that offers breathtaking views and unique climbing challenges to adventurers seeking uncharted territories.', 'tokens': ['Saraghrar', ',', 'located', 'in', 'the', 'remote', 'regions', 'of', 'the', 'Hindu', 'Kush', 'mountain', 'range', ',', 'is', 'one', 'of', 'the', 'lesser', '-', 'known', 'peaks', 'that', 'offers', 'breathtaking', 'views', 'and', 'unique', 'climbing', 'challenges', 'to', 'adventurers', 'seeking', 'uncharted', 'territories', '.'], 'labels': [1, 0, 0, 0, 0, 0, 0, 0, 0, 0, 0, 0, 0, 0, 0, 0, 0, 0, 0, 0, 0, 0, 0, 0, 0, 0, 0, 0, 0, 0, 0, 0, 0, 0, 0, 0]}\n",
      "{'sentence': \"Bojohagur Duanasir, with its impressive snow-capped peak, has drawn many professional climbers who seek to conquer the majestic Karakoram range in the Gilgit-Baltistan region of Pakistan. Researchers from the University of Lahore have been conducting studies on the glacial region of Bojohagur Duanasir to understand the impacts of climate change on Pakistan's water supply.\", 'tokens': ['Bojohagur', 'Duanasir', ',', 'with', 'its', 'impressive', 'snow', '-', 'capped', 'peak', ',', 'has', 'drawn', 'many', 'professional', 'climbers', 'who', 'seek', 'to', 'conquer', 'the', 'majestic', 'Karakoram', 'range', 'in', 'the', 'Gilgit', '-', 'Baltistan', 'region', 'of', 'Pakistan', '.', 'Researchers', 'from', 'the', 'University', 'of', 'Lahore', 'have', 'been', 'conducting', 'studies', 'on', 'the', 'glacial', 'region', 'of', 'Bojohagur', 'Duanasir', 'to', 'understand', 'the', 'impacts', 'of', 'climate', 'change', 'on', 'Pakistan', \"'\", 's', 'water', 'supply', '.'], 'labels': [1, 2, 0, 0, 0, 0, 0, 0, 0, 0, 0, 0, 0, 0, 0, 0, 0, 0, 0, 0, 0, 0, 0, 0, 0, 0, 0, 0, 0, 0, 0, 0, 0, 0, 0, 0, 0, 0, 0, 0, 0, 0, 0, 0, 0, 0, 0, 0, 1, 2, 0, 0, 0, 0, 0, 0, 0, 0, 0, 0, 0, 0, 0, 0]}\n",
      "{'sentence': 'Chamlang, a lesser-known mountain in the Everest region of Nepal, offers breathtaking views of its towering summit for seasoned trekkers. The geographical uniqueness of Chamlang includes its isolated location, which distinguishes it from the more popular trekking routes in the Himalayas. A recent expedition attempting to ascend Chamlang made international news when the team successfully navigated its previously uncharted northern face.', 'tokens': ['Chamlang', ',', 'a', 'lesser', '-', 'known', 'mountain', 'in', 'the', 'Everest', 'region', 'of', 'Nepal', ',', 'offers', 'breathtaking', 'views', 'of', 'its', 'towering', 'summit', 'for', 'seasoned', 'trekkers', '.', 'The', 'geographical', 'uniqueness', 'of', 'Chamlang', 'includes', 'its', 'isolated', 'location', ',', 'which', 'distinguishes', 'it', 'from', 'the', 'more', 'popular', 'trekking', 'routes', 'in', 'the', 'Himalayas', '.', 'A', 'recent', 'expedition', 'attempting', 'to', 'ascend', 'Chamlang', 'made', 'international', 'news', 'when', 'the', 'team', 'successfully', 'navigated', 'its', 'previously', 'uncharted', 'northern', 'face', '.'], 'labels': [1, 0, 0, 0, 0, 0, 0, 0, 0, 0, 0, 0, 0, 0, 0, 0, 0, 0, 0, 0, 0, 0, 0, 0, 0, 0, 0, 0, 0, 1, 0, 0, 0, 0, 0, 0, 0, 0, 0, 0, 0, 0, 0, 0, 0, 0, 0, 0, 0, 0, 0, 0, 0, 0, 1, 0, 0, 0, 0, 0, 0, 0, 0, 0, 0, 0, 0, 0, 0]}\n",
      "{'sentence': 'The trek to Chongtar Kangri was a transformative experience for me, as I marveled at the vast expanse of the Karakoram range and reflected on the awe-inspiring power of nature.', 'tokens': ['The', 'trek', 'to', 'Chongtar', 'Kangri', 'was', 'a', 'transformative', 'experience', 'for', 'me', ',', 'as', 'I', 'marveled', 'at', 'the', 'vast', 'expanse', 'of', 'the', 'Karakoram', 'range', 'and', 'reflected', 'on', 'the', 'awe', '-', 'inspiring', 'power', 'of', 'nature', '.'], 'labels': [0, 0, 0, 1, 2, 0, 0, 0, 0, 0, 0, 0, 0, 0, 0, 0, 0, 0, 0, 0, 0, 0, 0, 0, 0, 0, 0, 0, 0, 0, 0, 0, 0, 0]}\n",
      "{'sentence': 'Chongtar Kangri, with its imposing peak and rugged terrain, poses significant technical challenges for even the most seasoned climbers, making it a formidable expedition for those seeking adventure.', 'tokens': ['Chongtar', 'Kangri', ',', 'with', 'its', 'imposing', 'peak', 'and', 'rugged', 'terrain', ',', 'poses', 'significant', 'technical', 'challenges', 'for', 'even', 'the', 'most', 'seasoned', 'climbers', ',', 'making', 'it', 'a', 'formidable', 'expedition', 'for', 'those', 'seeking', 'adventure', '.'], 'labels': [1, 2, 0, 0, 0, 0, 0, 0, 0, 0, 0, 0, 0, 0, 0, 0, 0, 0, 0, 0, 0, 0, 0, 0, 0, 0, 0, 0, 0, 0, 0, 0]}\n",
      "{'sentence': 'According to recent satellite imagery, Chongtar Kangri has shown signs of significant glacial melting due to climate change, sparking concerns about the long-term impacts on local ecosystems and global sea levels.', 'tokens': ['According', 'to', 'recent', 'satellite', 'imagery', ',', 'Chongtar', 'Kangri', 'has', 'shown', 'signs', 'of', 'significant', 'glacial', 'melting', 'due', 'to', 'climate', 'change', ',', 'sparking', 'concerns', 'about', 'the', 'long', '-', 'term', 'impacts', 'on', 'local', 'ecosystems', 'and', 'global', 'sea', 'levels', '.'], 'labels': [0, 0, 0, 0, 0, 0, 1, 2, 0, 0, 0, 0, 0, 0, 0, 0, 0, 0, 0, 0, 0, 0, 0, 0, 0, 0, 0, 0, 0, 0, 0, 0, 0, 0, 0, 0]}\n",
      "{'sentence': \"As I stood at the base of Jomolhari, also known as Chomolhari, I couldn't help but feel a sense of awe at the majestic mountain's snow-capped peak towering above me.\", 'tokens': ['As', 'I', 'stood', 'at', 'the', 'base', 'of', 'Jomolhari', ',', 'also', 'known', 'as', 'Chomolhari', ',', 'I', 'couldn', \"'\", 't', 'help', 'but', 'feel', 'a', 'sense', 'of', 'awe', 'at', 'the', 'majestic', 'mountain', \"'\", 's', 'snow', '-', 'capped', 'peak', 'towering', 'above', 'me', '.'], 'labels': [0, 0, 0, 0, 0, 0, 0, 0, 0, 0, 0, 0, 0, 0, 0, 0, 0, 0, 0, 0, 0, 0, 0, 0, 0, 0, 0, 0, 0, 0, 0, 0, 0, 0, 0, 0, 0, 0, 0]}\n",
      "{'sentence': 'Located on the border between Bhutan and Tibet, Jomolhari has been a source of fascination for geologists due to its unique granite composition.', 'tokens': ['Located', 'on', 'the', 'border', 'between', 'Bhutan', 'and', 'Tibet', ',', 'Jomolhari', 'has', 'been', 'a', 'source', 'of', 'fascination', 'for', 'geologists', 'due', 'to', 'its', 'unique', 'granite', 'composition', '.'], 'labels': [0, 0, 0, 0, 0, 0, 0, 0, 0, 0, 0, 0, 0, 0, 0, 0, 0, 0, 0, 0, 0, 0, 0, 0, 0]}\n",
      "{'sentence': \"As I stood at the base of Baltoro Kangri, the rugged landscape and majestic peaks left me awestruck and humbled by nature's grandeur. Baltoro Kangri, located in the Karakoram range of the Himalayas, is known for its challenging trekking routes and picturesque valleys. The recent expedition to Baltoro Kangri has sparked controversy over environmental concerns and the impact of tourism on the fragile ecosystem of the region.\", 'tokens': ['As', 'I', 'stood', 'at', 'the', 'base', 'of', 'Baltoro', 'Kangri', ',', 'the', 'rugged', 'landscape', 'and', 'majestic', 'peaks', 'left', 'me', 'awestruck', 'and', 'humbled', 'by', 'nature', \"'\", 's', 'grandeur', '.', 'Baltoro', 'Kangri', ',', 'located', 'in', 'the', 'Karakoram', 'range', 'of', 'the', 'Himalayas', ',', 'is', 'known', 'for', 'its', 'challenging', 'trekking', 'routes', 'and', 'picturesque', 'valleys', '.', 'The', 'recent', 'expedition', 'to', 'Baltoro', 'Kangri', 'has', 'sparked', 'controversy', 'over', 'environmental', 'concerns', 'and', 'the', 'impact', 'of', 'tourism', 'on', 'the', 'fragile', 'ecosystem', 'of', 'the', 'region', '.'], 'labels': [0, 0, 0, 0, 0, 0, 0, 1, 2, 0, 0, 0, 0, 0, 0, 0, 0, 0, 0, 0, 0, 0, 0, 0, 0, 0, 0, 1, 2, 0, 0, 0, 0, 0, 0, 0, 0, 0, 0, 0, 0, 0, 0, 0, 0, 0, 0, 0, 0, 0, 0, 0, 0, 0, 1, 2, 0, 0, 0, 0, 0, 0, 0, 0, 0, 0, 0, 0, 0, 0, 0, 0, 0, 0, 0]}\n",
      "{'sentence': \"Siguang Ri, a majestic mountain in the Himalayas, is a popular destination for adventure seekers and trekking enthusiasts. The snow-capped peak of Siguang Ri is a breathtaking sight to behold, especially during sunrise when the golden light casts a warm glow on the surrounding landscape. Having spent a week trekking to the base camp of Siguang Ri, I can attest to the mountain's sheer grandeur and the sense of accomplishment that comes with conquering its challenging terrain.\", 'tokens': ['Siguang', 'Ri', ',', 'a', 'majestic', 'mountain', 'in', 'the', 'Himalayas', ',', 'is', 'a', 'popular', 'destination', 'for', 'adventure', 'seekers', 'and', 'trekking', 'enthusiasts', '.', 'The', 'snow', '-', 'capped', 'peak', 'of', 'Siguang', 'Ri', 'is', 'a', 'breathtaking', 'sight', 'to', 'behold', ',', 'especially', 'during', 'sunrise', 'when', 'the', 'golden', 'light', 'casts', 'a', 'warm', 'glow', 'on', 'the', 'surrounding', 'landscape', '.', 'Having', 'spent', 'a', 'week', 'trekking', 'to', 'the', 'base', 'camp', 'of', 'Siguang', 'Ri', ',', 'I', 'can', 'attest', 'to', 'the', 'mountain', \"'\", 's', 'sheer', 'grandeur', 'and', 'the', 'sense', 'of', 'accomplishment', 'that', 'comes', 'with', 'conquering', 'its', 'challenging', 'terrain', '.'], 'labels': [1, 2, 0, 0, 0, 0, 0, 0, 0, 0, 0, 0, 0, 0, 0, 0, 0, 0, 0, 0, 0, 0, 0, 0, 0, 0, 0, 1, 2, 0, 0, 0, 0, 0, 0, 0, 0, 0, 0, 0, 0, 0, 0, 0, 0, 0, 0, 0, 0, 0, 0, 0, 0, 0, 0, 0, 0, 0, 0, 0, 0, 0, 1, 2, 0, 0, 0, 0, 0, 0, 0, 0, 0, 0, 0, 0, 0, 0, 0, 0, 0, 0, 0, 0, 0, 0, 0, 0]}\n",
      "{'sentence': \"Summa Ri, located in the remote Karakoram range of Pakistan, is a trekker's paradise offering breathtaking vistas and challenging routes that push even the most seasoned adventurers to their limits.\", 'tokens': ['Summa', 'Ri', ',', 'located', 'in', 'the', 'remote', 'Karakoram', 'range', 'of', 'Pakistan', ',', 'is', 'a', 'trekker', \"'\", 's', 'paradise', 'offering', 'breathtaking', 'vistas', 'and', 'challenging', 'routes', 'that', 'push', 'even', 'the', 'most', 'seasoned', 'adventurers', 'to', 'their', 'limits', '.'], 'labels': [1, 2, 0, 0, 0, 0, 0, 0, 0, 0, 0, 0, 0, 0, 0, 0, 0, 0, 0, 0, 0, 0, 0, 0, 0, 0, 0, 0, 0, 0, 0, 0, 0, 0, 0]}\n",
      "{'sentence': \"While trekking through the rugged terrain, we finally caught a breathtaking glimpse of The Crown's snow-capped summit.\", 'tokens': ['While', 'trekking', 'through', 'the', 'rugged', 'terrain', ',', 'we', 'finally', 'caught', 'a', 'breathtaking', 'glimpse', 'of', 'The', 'Crown', \"'\", 's', 'snow', '-', 'capped', 'summit', '.'], 'labels': [0, 0, 0, 0, 0, 0, 0, 0, 0, 0, 0, 0, 0, 0, 1, 2, 0, 0, 0, 0, 0, 0, 0]}\n",
      "{'sentence': 'Gyala Peri, a majestic mountain in the Himalayan range, offers breathtaking views and diverse wildlife to adventure-seeking travelers.', 'tokens': ['Gyala', 'Peri', ',', 'a', 'majestic', 'mountain', 'in', 'the', 'Himalayan', 'range', ',', 'offers', 'breathtaking', 'views', 'and', 'diverse', 'wildlife', 'to', 'adventure', '-', 'seeking', 'travelers', '.'], 'labels': [1, 2, 0, 0, 0, 0, 0, 0, 0, 0, 0, 0, 0, 0, 0, 0, 0, 0, 0, 0, 0, 0, 0]}\n",
      "{'sentence': 'Rising 7,294 meters above sea level, Gyala Peri is an attractive peak for mountaineers and trekkers, but its challenging terrains and unpredictable weather make the journey arduous.', 'tokens': ['Rising', '7', ',', '294', 'meters', 'above', 'sea', 'level', ',', 'Gyala', 'Peri', 'is', 'an', 'attractive', 'peak', 'for', 'mountaineers', 'and', 'trekkers', ',', 'but', 'its', 'challenging', 'terrains', 'and', 'unpredictable', 'weather', 'make', 'the', 'journey', 'arduous', '.'], 'labels': [0, 0, 0, 0, 0, 0, 0, 0, 0, 1, 2, 0, 0, 0, 0, 0, 0, 0, 0, 0, 0, 0, 0, 0, 0, 0, 0, 0, 0, 0, 0, 0]}\n",
      "{'sentence': 'Porong Ri, a majestic mountain in the Himalayas, attracts adventurers from around the world with its breathtaking vistas and thrilling trekking trails.', 'tokens': ['Porong', 'Ri', ',', 'a', 'majestic', 'mountain', 'in', 'the', 'Himalayas', ',', 'attracts', 'adventurers', 'from', 'around', 'the', 'world', 'with', 'its', 'breathtaking', 'vistas', 'and', 'thrilling', 'trekking', 'trails', '.'], 'labels': [1, 2, 0, 0, 0, 0, 0, 0, 0, 0, 0, 0, 0, 0, 0, 0, 0, 0, 0, 0, 0, 0, 0, 0, 0]}\n",
      "{'sentence': 'Located in the Langtang region of Nepal, Porong Ri offers a challenging ascent to its summit, which rewards climbers with an unforgettable panoramic view of surrounding peaks.', 'tokens': ['Located', 'in', 'the', 'Langtang', 'region', 'of', 'Nepal', ',', 'Porong', 'Ri', 'offers', 'a', 'challenging', 'ascent', 'to', 'its', 'summit', ',', 'which', 'rewards', 'climbers', 'with', 'an', 'unforgettable', 'panoramic', 'view', 'of', 'surrounding', 'peaks', '.'], 'labels': [0, 0, 0, 0, 0, 0, 0, 0, 1, 2, 0, 0, 0, 0, 0, 0, 0, 0, 0, 0, 0, 0, 0, 0, 0, 0, 0, 0, 0, 0]}\n",
      "{'sentence': \"During my trek to Porong Ri, I witnessed a breathtaking sunrise that illuminated the snow-capped peaks and left me with an indelible memory of the mountain's serene beauty.\", 'tokens': ['During', 'my', 'trek', 'to', 'Porong', 'Ri', ',', 'I', 'witnessed', 'a', 'breathtaking', 'sunrise', 'that', 'illuminated', 'the', 'snow', '-', 'capped', 'peaks', 'and', 'left', 'me', 'with', 'an', 'indelible', 'memory', 'of', 'the', 'mountain', \"'\", 's', 'serene', 'beauty', '.'], 'labels': [0, 0, 0, 0, 1, 2, 0, 0, 0, 0, 0, 0, 0, 0, 0, 0, 0, 0, 0, 0, 0, 0, 0, 0, 0, 0, 0, 0, 0, 0, 0, 0, 0, 0]}\n",
      "{'sentence': 'As I stood at the base of Baintha Brakk, also known as the Ogre, I felt a sense of trepidation wash over me as I gazed up at its towering peak.', 'tokens': ['As', 'I', 'stood', 'at', 'the', 'base', 'of', 'Baintha', 'Brakk', ',', 'also', 'known', 'as', 'the', 'Ogre', ',', 'I', 'felt', 'a', 'sense', 'of', 'trepidation', 'wash', 'over', 'me', 'as', 'I', 'gazed', 'up', 'at', 'its', 'towering', 'peak', '.'], 'labels': [0, 0, 0, 0, 0, 0, 0, 1, 2, 0, 0, 0, 0, 0, 0, 0, 0, 0, 0, 0, 0, 0, 0, 0, 0, 0, 0, 0, 0, 0, 0, 0, 0, 0]}\n",
      "{'sentence': 'The snow-capped summit of Baintha Brakk, located in the Karakoram range, beckons adventure-seekers from around the world to attempt its technically challenging climb.', 'tokens': ['The', 'snow', '-', 'capped', 'summit', 'of', 'Baintha', 'Brakk', ',', 'located', 'in', 'the', 'Karakoram', 'range', ',', 'beckons', 'adventure', '-', 'seekers', 'from', 'around', 'the', 'world', 'to', 'attempt', 'its', 'technically', 'challenging', 'climb', '.'], 'labels': [0, 0, 0, 0, 0, 0, 1, 2, 0, 0, 0, 0, 0, 0, 0, 0, 0, 0, 0, 0, 0, 0, 0, 0, 0, 0, 0, 0, 0, 0]}\n",
      "{'sentence': 'In a recent expedition to Baintha Brakk, a team of climbers from the UK successfully navigated the notoriously steep and exposed West Ridge route, marking a notable achievement in the mountaineering community.', 'tokens': ['In', 'a', 'recent', 'expedition', 'to', 'Baintha', 'Brakk', ',', 'a', 'team', 'of', 'climbers', 'from', 'the', 'UK', 'successfully', 'navigated', 'the', 'notoriously', 'steep', 'and', 'exposed', 'West', 'Ridge', 'route', ',', 'marking', 'a', 'notable', 'achievement', 'in', 'the', 'mountaineering', 'community', '.'], 'labels': [0, 0, 0, 0, 0, 1, 2, 0, 0, 0, 0, 0, 0, 0, 0, 0, 0, 0, 0, 0, 0, 0, 0, 0, 0, 0, 0, 0, 0, 0, 0, 0, 0, 0, 0]}\n",
      "{'sentence': 'Yutmaru Sar, located in the Karakoram mountain range, is a remote and unexplored peak attracting experienced mountaineers seeking a unique adventure.', 'tokens': ['Yutmaru', 'Sar', ',', 'located', 'in', 'the', 'Karakoram', 'mountain', 'range', ',', 'is', 'a', 'remote', 'and', 'unexplored', 'peak', 'attracting', 'experienced', 'mountaineers', 'seeking', 'a', 'unique', 'adventure', '.'], 'labels': [1, 2, 0, 0, 0, 0, 0, 0, 0, 0, 0, 0, 0, 0, 0, 0, 0, 0, 0, 0, 0, 0, 0, 0]}\n",
      "{'sentence': 'This July, a team of geologists will be surveying the base of Yutmaru Sar for unique rock formations dating back millions of years.', 'tokens': ['This', 'July', ',', 'a', 'team', 'of', 'geologists', 'will', 'be', 'surveying', 'the', 'base', 'of', 'Yutmaru', 'Sar', 'for', 'unique', 'rock', 'formations', 'dating', 'back', 'millions', 'of', 'years', '.'], 'labels': [0, 0, 0, 0, 0, 0, 0, 0, 0, 0, 0, 0, 0, 1, 2, 0, 0, 0, 0, 0, 0, 0, 0, 0, 0]}\n",
      "{'sentence': 'It took me three days to reach the summit of Yutmaru Sar, but the breathtaking sunrise made every moment of the grueling climb worth it.', 'tokens': ['It', 'took', 'me', 'three', 'days', 'to', 'reach', 'the', 'summit', 'of', 'Yutmaru', 'Sar', ',', 'but', 'the', 'breathtaking', 'sunrise', 'made', 'every', 'moment', 'of', 'the', 'grueling', 'climb', 'worth', 'it', '.'], 'labels': [0, 0, 0, 0, 0, 0, 0, 0, 0, 0, 1, 2, 0, 0, 0, 0, 0, 0, 0, 0, 0, 0, 0, 0, 0, 0, 0]}\n",
      "{'sentence': 'K6, the second-highest peak in the Karakoram range, poses a significant challenge for even the most seasoned climbers due to its steep and exposed routes.', 'tokens': ['K6', ',', 'the', 'second', '-', 'highest', 'peak', 'in', 'the', 'Karakoram', 'range', ',', 'poses', 'a', 'significant', 'challenge', 'for', 'even', 'the', 'most', 'seasoned', 'climbers', 'due', 'to', 'its', 'steep', 'and', 'exposed', 'routes', '.'], 'labels': [1, 0, 0, 0, 0, 0, 0, 0, 0, 0, 0, 0, 0, 0, 0, 0, 0, 0, 0, 0, 0, 0, 0, 0, 0, 0, 0, 0, 0, 0]}\n",
      "{'sentence': \"Pakistani authorities announced the closure of K6 due to environmental concerns and the need to protect the region's fragile ecosystem, impacting the plans of adventurers around the world.\", 'tokens': ['Pakistani', 'authorities', 'announced', 'the', 'closure', 'of', 'K6', 'due', 'to', 'environmental', 'concerns', 'and', 'the', 'need', 'to', 'protect', 'the', 'region', \"'\", 's', 'fragile', 'ecosystem', ',', 'impacting', 'the', 'plans', 'of', 'adventurers', 'around', 'the', 'world', '.'], 'labels': [0, 0, 0, 0, 0, 0, 1, 0, 0, 0, 0, 0, 0, 0, 0, 0, 0, 0, 0, 0, 0, 0, 0, 0, 0, 0, 0, 0, 0, 0, 0, 0]}\n",
      "{'sentence': 'Kangpenqing, a majestic mountain in the Tibetan Plateau, attracts adventurers and spiritual seekers from around the world, offering breathtaking views and profound experiences.', 'tokens': ['Kangpenqing', ',', 'a', 'majestic', 'mountain', 'in', 'the', 'Tibetan', 'Plateau', ',', 'attracts', 'adventurers', 'and', 'spiritual', 'seekers', 'from', 'around', 'the', 'world', ',', 'offering', 'breathtaking', 'views', 'and', 'profound', 'experiences', '.'], 'labels': [1, 0, 0, 0, 0, 0, 0, 0, 0, 0, 0, 0, 0, 0, 0, 0, 0, 0, 0, 0, 0, 0, 0, 0, 0, 0, 0]}\n",
      "{'sentence': \"Geologists are fascinated by Kangpenqing's unique rock formations and glaciers, which provide valuable insights into the region's tectonic evolution and climate change.\", 'tokens': ['Geologists', 'are', 'fascinated', 'by', 'Kangpenqing', \"'\", 's', 'unique', 'rock', 'formations', 'and', 'glaciers', ',', 'which', 'provide', 'valuable', 'insights', 'into', 'the', 'region', \"'\", 's', 'tectonic', 'evolution', 'and', 'climate', 'change', '.'], 'labels': [0, 0, 0, 0, 1, 0, 0, 0, 0, 0, 0, 0, 0, 0, 0, 0, 0, 0, 0, 0, 0, 0, 0, 0, 0, 0, 0, 0]}\n",
      "{'sentence': 'For generations, local communities have revered Kangpenqing as a sacred site, where they believe deities reside and bless the land with fertility and prosperity.', 'tokens': ['For', 'generations', ',', 'local', 'communities', 'have', 'revered', 'Kangpenqing', 'as', 'a', 'sacred', 'site', ',', 'where', 'they', 'believe', 'deities', 'reside', 'and', 'bless', 'the', 'land', 'with', 'fertility', 'and', 'prosperity', '.'], 'labels': [0, 0, 0, 0, 0, 0, 0, 1, 0, 0, 0, 0, 0, 0, 0, 0, 0, 0, 0, 0, 0, 0, 0, 0, 0, 0, 0]}\n",
      "{'sentence': 'As I stood at the summit of Mana Peak, I felt an overwhelming sense of accomplishment and awe at the breathtaking view that stretched out before me.', 'tokens': ['As', 'I', 'stood', 'at', 'the', 'summit', 'of', 'Mana', 'Peak', ',', 'I', 'felt', 'an', 'overwhelming', 'sense', 'of', 'accomplishment', 'and', 'awe', 'at', 'the', 'breathtaking', 'view', 'that', 'stretched', 'out', 'before', 'me', '.'], 'labels': [0, 0, 0, 0, 0, 0, 0, 1, 2, 0, 0, 0, 0, 0, 0, 0, 0, 0, 0, 0, 0, 0, 0, 0, 0, 0, 0, 0, 0]}\n",
      "{'sentence': 'The recent snowstorm in the Himalayas has made climbing conditions on Mana Peak treacherous, prompting local authorities to issue a warning to trekkers and mountaineers.', 'tokens': ['The', 'recent', 'snowstorm', 'in', 'the', 'Himalayas', 'has', 'made', 'climbing', 'conditions', 'on', 'Mana', 'Peak', 'treacherous', ',', 'prompting', 'local', 'authorities', 'to', 'issue', 'a', 'warning', 'to', 'trekkers', 'and', 'mountaineers', '.'], 'labels': [0, 0, 0, 0, 0, 0, 0, 0, 0, 0, 0, 1, 2, 0, 0, 0, 0, 0, 0, 0, 0, 0, 0, 0, 0, 0, 0]}\n",
      "{'sentence': \"As I stood at the base of Muztagh Tower, I couldn't help but feel a sense of awe and reverence for the sheer scale and majesty of this mountain, its rugged peaks stretching towards the sky like a challenge to the heavens themselves.\", 'tokens': ['As', 'I', 'stood', 'at', 'the', 'base', 'of', 'Muztagh', 'Tower', ',', 'I', 'couldn', \"'\", 't', 'help', 'but', 'feel', 'a', 'sense', 'of', 'awe', 'and', 'reverence', 'for', 'the', 'sheer', 'scale', 'and', 'majesty', 'of', 'this', 'mountain', ',', 'its', 'rugged', 'peaks', 'stretching', 'towards', 'the', 'sky', 'like', 'a', 'challenge', 'to', 'the', 'heavens', 'themselves', '.'], 'labels': [0, 0, 0, 0, 0, 0, 0, 1, 2, 0, 0, 0, 0, 0, 0, 0, 0, 0, 0, 0, 0, 0, 0, 0, 0, 0, 0, 0, 0, 0, 0, 0, 0, 0, 0, 0, 0, 0, 0, 0, 0, 0, 0, 0, 0, 0, 0, 0]}\n",
      "{'sentence': 'As I stood at the base of Diran, the majestic peak towered above me, its rugged beauty both humbling and awe-inspiring.', 'tokens': ['As', 'I', 'stood', 'at', 'the', 'base', 'of', 'Diran', ',', 'the', 'majestic', 'peak', 'towered', 'above', 'me', ',', 'its', 'rugged', 'beauty', 'both', 'humbling', 'and', 'awe', '-', 'inspiring', '.'], 'labels': [0, 0, 0, 0, 0, 0, 0, 1, 0, 0, 0, 0, 0, 0, 0, 0, 0, 0, 0, 0, 0, 0, 0, 0, 0, 0]}\n",
      "{'sentence': 'A recent expedition to Diran, the second-highest peak in the Rakaposhi-Haramosh range, revealed a previously unexplored route, offering new opportunities for intrepid climbers.', 'tokens': ['A', 'recent', 'expedition', 'to', 'Diran', ',', 'the', 'second', '-', 'highest', 'peak', 'in', 'the', 'Rakaposhi', '-', 'Haramosh', 'range', ',', 'revealed', 'a', 'previously', 'unexplored', 'route', ',', 'offering', 'new', 'opportunities', 'for', 'intrepid', 'climbers', '.'], 'labels': [0, 0, 0, 0, 1, 0, 0, 0, 0, 0, 0, 0, 0, 0, 0, 0, 0, 0, 0, 0, 0, 0, 0, 0, 0, 0, 0, 0, 0, 0, 0]}\n",
      "{'sentence': 'As I stood at the base of Apsarasas Kangri, I felt a mix of trepidation and exhilaration at the thought of scaling its towering peak.', 'tokens': ['As', 'I', 'stood', 'at', 'the', 'base', 'of', 'Apsarasas', 'Kangri', ',', 'I', 'felt', 'a', 'mix', 'of', 'trepidation', 'and', 'exhilaration', 'at', 'the', 'thought', 'of', 'scaling', 'its', 'towering', 'peak', '.'], 'labels': [0, 0, 0, 0, 0, 0, 0, 1, 2, 0, 0, 0, 0, 0, 0, 0, 0, 0, 0, 0, 0, 0, 0, 0, 0, 0, 0]}\n",
      "{'sentence': \"The unique rock formations on Apsarasas Kangri have been the subject of extensive geological study, providing valuable insights into the region's tectonic history.\", 'tokens': ['The', 'unique', 'rock', 'formations', 'on', 'Apsarasas', 'Kangri', 'have', 'been', 'the', 'subject', 'of', 'extensive', 'geological', 'study', ',', 'providing', 'valuable', 'insights', 'into', 'the', 'region', \"'\", 's', 'tectonic', 'history', '.'], 'labels': [0, 0, 0, 0, 0, 1, 2, 0, 0, 0, 0, 0, 0, 0, 0, 0, 0, 0, 0, 0, 0, 0, 0, 0, 0, 0, 0]}\n",
      "{'sentence': 'A group of seasoned mountaineers recently made headlines with their record-breaking ascent of Apsarasas Kangri, completing the challenging climb in just three days.', 'tokens': ['A', 'group', 'of', 'seasoned', 'mountaineers', 'recently', 'made', 'headlines', 'with', 'their', 'record', '-', 'breaking', 'ascent', 'of', 'Apsarasas', 'Kangri', ',', 'completing', 'the', 'challenging', 'climb', 'in', 'just', 'three', 'days', '.'], 'labels': [0, 0, 0, 0, 0, 0, 0, 0, 0, 0, 0, 0, 0, 0, 0, 1, 2, 0, 0, 0, 0, 0, 0, 0, 0, 0, 0]}\n",
      "{'sentence': \"As I trekked through the Langtang Valley, I couldn't help but feel a sense of awe at the towering peak of Langtang Lirung, its snow-capped summit glistening in the morning light.\", 'tokens': ['As', 'I', 'trekked', 'through', 'the', 'Langtang', 'Valley', ',', 'I', 'couldn', \"'\", 't', 'help', 'but', 'feel', 'a', 'sense', 'of', 'awe', 'at', 'the', 'towering', 'peak', 'of', 'Langtang', 'Lirung', ',', 'its', 'snow', '-', 'capped', 'summit', 'glistening', 'in', 'the', 'morning', 'light', '.'], 'labels': [0, 0, 0, 0, 0, 0, 0, 0, 0, 0, 0, 0, 0, 0, 0, 0, 0, 0, 0, 0, 0, 0, 0, 0, 1, 2, 0, 0, 0, 0, 0, 0, 0, 0, 0, 0, 0, 0]}\n",
      "{'sentence': \"As I stood at the base of Karjiang, the majestic Himalayan peak towering above me, I felt an overwhelming sense of awe and respect for nature's grandeur.\", 'tokens': ['As', 'I', 'stood', 'at', 'the', 'base', 'of', 'Karjiang', ',', 'the', 'majestic', 'Himalayan', 'peak', 'towering', 'above', 'me', ',', 'I', 'felt', 'an', 'overwhelming', 'sense', 'of', 'awe', 'and', 'respect', 'for', 'nature', \"'\", 's', 'grandeur', '.'], 'labels': [0, 0, 0, 0, 0, 0, 0, 1, 0, 0, 0, 0, 0, 0, 0, 0, 0, 0, 0, 0, 0, 0, 0, 0, 0, 0, 0, 0, 0, 0, 0, 0]}\n",
      "{'sentence': 'The snow-capped peak of Annapurna South glistened in the morning sun as hikers ascended its rugged trails.', 'tokens': ['The', 'snow', '-', 'capped', 'peak', 'of', 'Annapurna', 'South', 'glistened', 'in', 'the', 'morning', 'sun', 'as', 'hikers', 'ascended', 'its', 'rugged', 'trails', '.'], 'labels': [0, 0, 0, 0, 0, 0, 1, 2, 0, 0, 0, 0, 0, 0, 0, 0, 0, 0, 0, 0]}\n",
      "{'sentence': \"As I stood at the summit of Khartaphu, I couldn't help but feel a deep connection to the countless adventurers who had made this same journey before me, all drawn by the allure of this majestic mountain's awe-inspiring beauty and formidable challenge.\", 'tokens': ['As', 'I', 'stood', 'at', 'the', 'summit', 'of', 'Khartaphu', ',', 'I', 'couldn', \"'\", 't', 'help', 'but', 'feel', 'a', 'deep', 'connection', 'to', 'the', 'countless', 'adventurers', 'who', 'had', 'made', 'this', 'same', 'journey', 'before', 'me', ',', 'all', 'drawn', 'by', 'the', 'allure', 'of', 'this', 'majestic', 'mountain', \"'\", 's', 'awe', '-', 'inspiring', 'beauty', 'and', 'formidable', 'challenge', '.'], 'labels': [0, 0, 0, 0, 0, 0, 0, 1, 0, 0, 0, 0, 0, 0, 0, 0, 0, 0, 0, 0, 0, 0, 0, 0, 0, 0, 0, 0, 0, 0, 0, 0, 0, 0, 0, 0, 0, 0, 0, 0, 0, 0, 0, 0, 0, 0, 0, 0, 0, 0, 0]}\n",
      "{'sentence': \"The team of scientists conducting a field study on the unique biodiversity of the Khartaphu region noted that this mountain's varied ecosystems support a wide range of plant and animal species that are found nowhere else on Earth, highlighting its crucial role in global conservation efforts.\", 'tokens': ['The', 'team', 'of', 'scientists', 'conducting', 'a', 'field', 'study', 'on', 'the', 'unique', 'biodiversity', 'of', 'the', 'Khartaphu', 'region', 'noted', 'that', 'this', 'mountain', \"'\", 's', 'varied', 'ecosystems', 'support', 'a', 'wide', 'range', 'of', 'plant', 'and', 'animal', 'species', 'that', 'are', 'found', 'nowhere', 'else', 'on', 'Earth', ',', 'highlighting', 'its', 'crucial', 'role', 'in', 'global', 'conservation', 'efforts', '.'], 'labels': [0, 0, 0, 0, 0, 0, 0, 0, 0, 0, 0, 0, 0, 0, 1, 0, 0, 0, 0, 0, 0, 0, 0, 0, 0, 0, 0, 0, 0, 0, 0, 0, 0, 0, 0, 0, 0, 0, 0, 0, 0, 0, 0, 0, 0, 0, 0, 0, 0, 0]}\n",
      "{'sentence': 'The snow-capped peak of Tongshanjiabu rose majestically in the distance as our group of hikers trudged through the rugged terrain, our spirits lifted by the promise of breathtaking views from the summit.', 'tokens': ['The', 'snow', '-', 'capped', 'peak', 'of', 'Tongshanjiabu', 'rose', 'majestically', 'in', 'the', 'distance', 'as', 'our', 'group', 'of', 'hikers', 'trudged', 'through', 'the', 'rugged', 'terrain', ',', 'our', 'spirits', 'lifted', 'by', 'the', 'promise', 'of', 'breathtaking', 'views', 'from', 'the', 'summit', '.'], 'labels': [0, 0, 0, 0, 0, 0, 1, 0, 0, 0, 0, 0, 0, 0, 0, 0, 0, 0, 0, 0, 0, 0, 0, 0, 0, 0, 0, 0, 0, 0, 0, 0, 0, 0, 0, 0]}\n",
      "{'sentence': \"Geologists have long been fascinated by the unique rock formations found on Tongshanjiabu, which provide valuable insights into the region's complex tectonic history and the processes that shaped this majestic mountain.\", 'tokens': ['Geologists', 'have', 'long', 'been', 'fascinated', 'by', 'the', 'unique', 'rock', 'formations', 'found', 'on', 'Tongshanjiabu', ',', 'which', 'provide', 'valuable', 'insights', 'into', 'the', 'region', \"'\", 's', 'complex', 'tectonic', 'history', 'and', 'the', 'processes', 'that', 'shaped', 'this', 'majestic', 'mountain', '.'], 'labels': [0, 0, 0, 0, 0, 0, 0, 0, 0, 0, 0, 0, 1, 0, 0, 0, 0, 0, 0, 0, 0, 0, 0, 0, 0, 0, 0, 0, 0, 0, 0, 0, 0, 0, 0]}\n",
      "{'sentence': \"As I stood at the base of Tongshanjiabu, the stillness of the mountain's rugged landscape enveloped me, a poignant reminder of the serenity and awe-inspiring beauty that awaits those willing to venture into the wilderness.\", 'tokens': ['As', 'I', 'stood', 'at', 'the', 'base', 'of', 'Tongshanjiabu', ',', 'the', 'stillness', 'of', 'the', 'mountain', \"'\", 's', 'rugged', 'landscape', 'enveloped', 'me', ',', 'a', 'poignant', 'reminder', 'of', 'the', 'serenity', 'and', 'awe', '-', 'inspiring', 'beauty', 'that', 'awaits', 'those', 'willing', 'to', 'venture', 'into', 'the', 'wilderness', '.'], 'labels': [0, 0, 0, 0, 0, 0, 0, 1, 0, 0, 0, 0, 0, 0, 0, 0, 0, 0, 0, 0, 0, 0, 0, 0, 0, 0, 0, 0, 0, 0, 0, 0, 0, 0, 0, 0, 0, 0, 0, 0, 0, 0]}\n",
      "{'sentence': \"As I stood at the summit of Langtang Ri, I couldn't help but feel a deep connection to the untouched wilderness that surrounded me.\", 'tokens': ['As', 'I', 'stood', 'at', 'the', 'summit', 'of', 'Langtang', 'Ri', ',', 'I', 'couldn', \"'\", 't', 'help', 'but', 'feel', 'a', 'deep', 'connection', 'to', 'the', 'untouched', 'wilderness', 'that', 'surrounded', 'me', '.'], 'labels': [0, 0, 0, 0, 0, 0, 0, 1, 2, 0, 0, 0, 0, 0, 0, 0, 0, 0, 0, 0, 0, 0, 0, 0, 0, 0, 0, 0]}\n",
      "{'sentence': \"According to recent reports, a team of scientists has been studying the effects of climate change on the Langtang Ri glacier, providing valuable insights into the region's fragile ecosystem.\", 'tokens': ['According', 'to', 'recent', 'reports', ',', 'a', 'team', 'of', 'scientists', 'has', 'been', 'studying', 'the', 'effects', 'of', 'climate', 'change', 'on', 'the', 'Langtang', 'Ri', 'glacier', ',', 'providing', 'valuable', 'insights', 'into', 'the', 'region', \"'\", 's', 'fragile', 'ecosystem', '.'], 'labels': [0, 0, 0, 0, 0, 0, 0, 0, 0, 0, 0, 0, 0, 0, 0, 0, 0, 0, 0, 1, 2, 0, 0, 0, 0, 0, 0, 0, 0, 0, 0, 0, 0, 0]}\n",
      "{'sentence': 'Kangphu Kang, a majestic mountain in the Himalayas, was the highlight of our trekking adventure, as we marveled at its breathtaking views and majestic snow-capped peaks.', 'tokens': ['Kangphu', 'Kang', ',', 'a', 'majestic', 'mountain', 'in', 'the', 'Himalayas', ',', 'was', 'the', 'highlight', 'of', 'our', 'trekking', 'adventure', ',', 'as', 'we', 'marveled', 'at', 'its', 'breathtaking', 'views', 'and', 'majestic', 'snow', '-', 'capped', 'peaks', '.'], 'labels': [1, 2, 0, 0, 0, 0, 0, 0, 0, 0, 0, 0, 0, 0, 0, 0, 0, 0, 0, 0, 0, 0, 0, 0, 0, 0, 0, 0, 0, 0, 0, 0]}\n",
      "{'sentence': 'Kangphu Kang has a unique geography, with its north face featuring a steep and rocky cliff, while its south face offers a more gradual and accessible slope, making it a popular destination for mountaineers.', 'tokens': ['Kangphu', 'Kang', 'has', 'a', 'unique', 'geography', ',', 'with', 'its', 'north', 'face', 'featuring', 'a', 'steep', 'and', 'rocky', 'cliff', ',', 'while', 'its', 'south', 'face', 'offers', 'a', 'more', 'gradual', 'and', 'accessible', 'slope', ',', 'making', 'it', 'a', 'popular', 'destination', 'for', 'mountaineers', '.'], 'labels': [1, 2, 0, 0, 0, 0, 0, 0, 0, 0, 0, 0, 0, 0, 0, 0, 0, 0, 0, 0, 0, 0, 0, 0, 0, 0, 0, 0, 0, 0, 0, 0, 0, 0, 0, 0, 0, 0]}\n",
      "{'sentence': \"Recent news reports indicate that a team of scientists has embarked on an expedition to study the effects of climate change on Kangphu Kang, with the goal of understanding the impact of global warming on the region's fragile ecosystem.\", 'tokens': ['Recent', 'news', 'reports', 'indicate', 'that', 'a', 'team', 'of', 'scientists', 'has', 'embarked', 'on', 'an', 'expedition', 'to', 'study', 'the', 'effects', 'of', 'climate', 'change', 'on', 'Kangphu', 'Kang', ',', 'with', 'the', 'goal', 'of', 'understanding', 'the', 'impact', 'of', 'global', 'warming', 'on', 'the', 'region', \"'\", 's', 'fragile', 'ecosystem', '.'], 'labels': [0, 0, 0, 0, 0, 0, 0, 0, 0, 0, 0, 0, 0, 0, 0, 0, 0, 0, 0, 0, 0, 0, 1, 2, 0, 0, 0, 0, 0, 0, 0, 0, 0, 0, 0, 0, 0, 0, 0, 0, 0, 0, 0]}\n",
      "{'sentence': \"As I stood at the base of Lupghar Sar, the sheer scale of the mountain left me awestruck and humbled by nature's majesty.\", 'tokens': ['As', 'I', 'stood', 'at', 'the', 'base', 'of', 'Lupghar', 'Sar', ',', 'the', 'sheer', 'scale', 'of', 'the', 'mountain', 'left', 'me', 'awestruck', 'and', 'humbled', 'by', 'nature', \"'\", 's', 'majesty', '.'], 'labels': [0, 0, 0, 0, 0, 0, 0, 1, 2, 0, 0, 0, 0, 0, 0, 0, 0, 0, 0, 0, 0, 0, 0, 0, 0, 0, 0]}\n",
      "{'sentence': 'Lupghar Sar, the 109th highest peak in the world, is located in the Karakoram range on the border between Pakistan and China, a region known for its dramatic and rugged landscape.', 'tokens': ['Lupghar', 'Sar', ',', 'the', '109th', 'highest', 'peak', 'in', 'the', 'world', ',', 'is', 'located', 'in', 'the', 'Karakoram', 'range', 'on', 'the', 'border', 'between', 'Pakistan', 'and', 'China', ',', 'a', 'region', 'known', 'for', 'its', 'dramatic', 'and', 'rugged', 'landscape', '.'], 'labels': [1, 2, 0, 0, 0, 0, 0, 0, 0, 0, 0, 0, 0, 0, 0, 0, 0, 0, 0, 0, 0, 0, 0, 0, 0, 0, 0, 0, 0, 0, 0, 0, 0, 0, 0]}\n",
      "{'sentence': \"A recent expedition to Lupghar Sar highlighted the impact of climate change on the world's highest peaks, with evidence of significant glacial retreat in the past decade.\", 'tokens': ['A', 'recent', 'expedition', 'to', 'Lupghar', 'Sar', 'highlighted', 'the', 'impact', 'of', 'climate', 'change', 'on', 'the', 'world', \"'\", 's', 'highest', 'peaks', ',', 'with', 'evidence', 'of', 'significant', 'glacial', 'retreat', 'in', 'the', 'past', 'decade', '.'], 'labels': [0, 0, 0, 0, 1, 2, 0, 0, 0, 0, 0, 0, 0, 0, 0, 0, 0, 0, 0, 0, 0, 0, 0, 0, 0, 0, 0, 0, 0, 0, 0]}\n",
      "{'sentence': 'Gurja Himal, located in the Dhaulagiri Range of the Himalayas, is one of the most difficult mountains to climb in the world due to its steep rock and ice walls.', 'tokens': ['Gurja', 'Himal', ',', 'located', 'in', 'the', 'Dhaulagiri', 'Range', 'of', 'the', 'Himalayas', ',', 'is', 'one', 'of', 'the', 'most', 'difficult', 'mountains', 'to', 'climb', 'in', 'the', 'world', 'due', 'to', 'its', 'steep', 'rock', 'and', 'ice', 'walls', '.'], 'labels': [1, 2, 0, 0, 0, 0, 0, 0, 0, 0, 0, 0, 0, 0, 0, 0, 0, 0, 0, 0, 0, 0, 0, 0, 0, 0, 0, 0, 0, 0, 0, 0, 0]}\n",
      "{'sentence': 'My attempt to climb Gurja Himal was cut short when a sudden snowstorm hit, forcing my team to descend to base camp to wait for better weather.', 'tokens': ['My', 'attempt', 'to', 'climb', 'Gurja', 'Himal', 'was', 'cut', 'short', 'when', 'a', 'sudden', 'snowstorm', 'hit', ',', 'forcing', 'my', 'team', 'to', 'descend', 'to', 'base', 'camp', 'to', 'wait', 'for', 'better', 'weather', '.'], 'labels': [0, 0, 0, 0, 1, 2, 0, 0, 0, 0, 0, 0, 0, 0, 0, 0, 0, 0, 0, 0, 0, 0, 0, 0, 0, 0, 0, 0, 0]}\n",
      "{'sentence': \"A South Korean climber and his Nepali guide went missing on Gurja Himal in 2018 after they were last spotted climbing up the mountain's north face.\", 'tokens': ['A', 'South', 'Korean', 'climber', 'and', 'his', 'Nepali', 'guide', 'went', 'missing', 'on', 'Gurja', 'Himal', 'in', '2018', 'after', 'they', 'were', 'last', 'spotted', 'climbing', 'up', 'the', 'mountain', \"'\", 's', 'north', 'face', '.'], 'labels': [0, 0, 0, 0, 0, 0, 0, 0, 0, 0, 0, 1, 2, 0, 0, 0, 0, 0, 0, 0, 0, 0, 0, 0, 0, 0, 0, 0, 0]}\n",
      "{'sentence': 'Melungtse, located in the Himalayas on the border between Tibet and Nepal, is one of the highest unclimbed mountains in the world, standing at over 7,000 meters tall.', 'tokens': ['Melungtse', ',', 'located', 'in', 'the', 'Himalayas', 'on', 'the', 'border', 'between', 'Tibet', 'and', 'Nepal', ',', 'is', 'one', 'of', 'the', 'highest', 'unclimbed', 'mountains', 'in', 'the', 'world', ',', 'standing', 'at', 'over', '7', ',', '000', 'meters', 'tall', '.'], 'labels': [1, 0, 0, 0, 0, 0, 0, 0, 0, 0, 0, 0, 0, 0, 0, 0, 0, 0, 0, 0, 0, 0, 0, 0, 0, 0, 0, 0, 0, 0, 0, 0, 0, 0]}\n",
      "{'sentence': 'As I stood at the summit of Liushi Shan, the sunrise cast a golden glow over the mist-shrouded landscape, a breathtaking moment that etched itself into my memory forever.', 'tokens': ['As', 'I', 'stood', 'at', 'the', 'summit', 'of', 'Liushi', 'Shan', ',', 'the', 'sunrise', 'cast', 'a', 'golden', 'glow', 'over', 'the', 'mist', '-', 'shrouded', 'landscape', ',', 'a', 'breathtaking', 'moment', 'that', 'etched', 'itself', 'into', 'my', 'memory', 'forever', '.'], 'labels': [0, 0, 0, 0, 0, 0, 0, 1, 2, 0, 0, 0, 0, 0, 0, 0, 0, 0, 0, 0, 0, 0, 0, 0, 0, 0, 0, 0, 0, 0, 0, 0, 0, 0]}\n",
      "{'sentence': 'Liushi Shan, a mountain that has been a source of inspiration for many artists throughout history, continues to captivate visitors with its stunning beauty and rich cultural heritage.', 'tokens': ['Liushi', 'Shan', ',', 'a', 'mountain', 'that', 'has', 'been', 'a', 'source', 'of', 'inspiration', 'for', 'many', 'artists', 'throughout', 'history', ',', 'continues', 'to', 'captivate', 'visitors', 'with', 'its', 'stunning', 'beauty', 'and', 'rich', 'cultural', 'heritage', '.'], 'labels': [1, 2, 0, 0, 0, 0, 0, 0, 0, 0, 0, 0, 0, 0, 0, 0, 0, 0, 0, 0, 0, 0, 0, 0, 0, 0, 0, 0, 0, 0, 0]}\n",
      "{'sentence': \"As I stood at the base of Pumori, I felt a mix of awe and intimidation by the majestic mountain's towering presence.\", 'tokens': ['As', 'I', 'stood', 'at', 'the', 'base', 'of', 'Pumori', ',', 'I', 'felt', 'a', 'mix', 'of', 'awe', 'and', 'intimidation', 'by', 'the', 'majestic', 'mountain', \"'\", 's', 'towering', 'presence', '.'], 'labels': [0, 0, 0, 0, 0, 0, 0, 1, 0, 0, 0, 0, 0, 0, 0, 0, 0, 0, 0, 0, 0, 0, 0, 0, 0, 0]}\n",
      "{'sentence': 'The Nepal government has recently implemented stricter climbing regulations for Pumori due to concerns about environmental degradation and climber safety.', 'tokens': ['The', 'Nepal', 'government', 'has', 'recently', 'implemented', 'stricter', 'climbing', 'regulations', 'for', 'Pumori', 'due', 'to', 'concerns', 'about', 'environmental', 'degradation', 'and', 'climber', 'safety', '.'], 'labels': [0, 0, 0, 0, 0, 0, 0, 0, 0, 0, 1, 0, 0, 0, 0, 0, 0, 0, 0, 0, 0]}\n",
      "{'sentence': \"Geologists have been studying Pumori's unique rock formations, which provide valuable insights into the geological history of the Himalayan range.\", 'tokens': ['Geologists', 'have', 'been', 'studying', 'Pumori', \"'\", 's', 'unique', 'rock', 'formations', ',', 'which', 'provide', 'valuable', 'insights', 'into', 'the', 'geological', 'history', 'of', 'the', 'Himalayan', 'range', '.'], 'labels': [0, 0, 0, 0, 1, 0, 0, 0, 0, 0, 0, 0, 0, 0, 0, 0, 0, 0, 0, 0, 0, 0, 0, 0]}\n",
      "{'sentence': \"As I stood at the summit of Hardeol, the panoramic view of the surrounding Himalayan ranges left me awestruck and humbled by nature's majesty. Researchers have been studying the unique ecosystem of Hardeol, which is home to several endangered species of flora and fauna found only in this region.\", 'tokens': ['As', 'I', 'stood', 'at', 'the', 'summit', 'of', 'Hardeol', ',', 'the', 'panoramic', 'view', 'of', 'the', 'surrounding', 'Himalayan', 'ranges', 'left', 'me', 'awestruck', 'and', 'humbled', 'by', 'nature', \"'\", 's', 'majesty', '.', 'Researchers', 'have', 'been', 'studying', 'the', 'unique', 'ecosystem', 'of', 'Hardeol', ',', 'which', 'is', 'home', 'to', 'several', 'endangered', 'species', 'of', 'flora', 'and', 'fauna', 'found', 'only', 'in', 'this', 'region', '.'], 'labels': [0, 0, 0, 0, 0, 0, 0, 1, 0, 0, 0, 0, 0, 0, 0, 0, 0, 0, 0, 0, 0, 0, 0, 0, 0, 0, 0, 0, 0, 0, 0, 0, 0, 0, 0, 0, 1, 0, 0, 0, 0, 0, 0, 0, 0, 0, 0, 0, 0, 0, 0, 0, 0, 0, 0]}\n",
      "{'sentence': \"As I stood at the base of Gasherbrum V, I couldn't help but feel a sense of awe and wonder at the majestic beauty of this towering mountain.\", 'tokens': ['As', 'I', 'stood', 'at', 'the', 'base', 'of', 'Gasherbrum', 'V', ',', 'I', 'couldn', \"'\", 't', 'help', 'but', 'feel', 'a', 'sense', 'of', 'awe', 'and', 'wonder', 'at', 'the', 'majestic', 'beauty', 'of', 'this', 'towering', 'mountain', '.'], 'labels': [0, 0, 0, 0, 0, 0, 0, 1, 2, 0, 0, 0, 0, 0, 0, 0, 0, 0, 0, 0, 0, 0, 0, 0, 0, 0, 0, 0, 0, 0, 0, 0]}\n",
      "{'sentence': 'The trek to Latok I base camp was a challenging but breathtaking experience, with the majestic mountain towering above us like a giant sentinel.', 'tokens': ['The', 'trek', 'to', 'Latok', 'I', 'base', 'camp', 'was', 'a', 'challenging', 'but', 'breathtaking', 'experience', ',', 'with', 'the', 'majestic', 'mountain', 'towering', 'above', 'us', 'like', 'a', 'giant', 'sentinel', '.'], 'labels': [0, 0, 0, 1, 2, 0, 0, 0, 0, 0, 0, 0, 0, 0, 0, 0, 0, 0, 0, 0, 0, 0, 0, 0, 0, 0]}\n",
      "{'sentence': \"I couldn't find any information on a mountain called 'Kampire Dior', so I assume it's a fictional mountain. Here are two unique sentences:\", 'tokens': ['I', 'couldn', \"'\", 't', 'find', 'any', 'information', 'on', 'a', 'mountain', 'called', \"'\", 'Kampire', 'Dior', \"'\", ',', 'so', 'I', 'assume', 'it', \"'\", 's', 'a', 'fictional', 'mountain', '.', 'Here', 'are', 'two', 'unique', 'sentences', ':'], 'labels': [0, 0, 0, 0, 0, 0, 0, 0, 0, 0, 0, 0, 1, 2, 0, 0, 0, 0, 0, 0, 0, 0, 0, 0, 0, 0, 0, 0, 0, 0, 0, 0]}\n",
      "{'sentence': 'The rugged terrain of Kampire Dior makes it a challenging but breathtakingly beautiful destination for experienced hikers and adventure-seekers. Researchers studying the unique ecosystem of Kampire Dior have discovered several new species of plants and animals that are found nowhere else on Earth.', 'tokens': ['The', 'rugged', 'terrain', 'of', 'Kampire', 'Dior', 'makes', 'it', 'a', 'challenging', 'but', 'breathtakingly', 'beautiful', 'destination', 'for', 'experienced', 'hikers', 'and', 'adventure', '-', 'seekers', '.', 'Researchers', 'studying', 'the', 'unique', 'ecosystem', 'of', 'Kampire', 'Dior', 'have', 'discovered', 'several', 'new', 'species', 'of', 'plants', 'and', 'animals', 'that', 'are', 'found', 'nowhere', 'else', 'on', 'Earth', '.'], 'labels': [0, 0, 0, 0, 1, 2, 0, 0, 0, 0, 0, 0, 0, 0, 0, 0, 0, 0, 0, 0, 0, 0, 0, 0, 0, 0, 0, 0, 1, 2, 0, 0, 0, 0, 0, 0, 0, 0, 0, 0, 0, 0, 0, 0, 0, 0, 0]}\n",
      "{'sentence': 'Nemjung, a lesser-known Himalayan peak, remains a formidable challenge for seasoned climbers, with few attempting the ascent each year due to its remote location and unpredictable weather patterns.', 'tokens': ['Nemjung', ',', 'a', 'lesser', '-', 'known', 'Himalayan', 'peak', ',', 'remains', 'a', 'formidable', 'challenge', 'for', 'seasoned', 'climbers', ',', 'with', 'few', 'attempting', 'the', 'ascent', 'each', 'year', 'due', 'to', 'its', 'remote', 'location', 'and', 'unpredictable', 'weather', 'patterns', '.'], 'labels': [1, 0, 0, 0, 0, 0, 0, 0, 0, 0, 0, 0, 0, 0, 0, 0, 0, 0, 0, 0, 0, 0, 0, 0, 0, 0, 0, 0, 0, 0, 0, 0, 0, 0]}\n",
      "{'sentence': 'As I stood at the base of Udren Zom, the sheer scale of the mountain left me awestruck and humbled, its rugged beauty a testament to the incredible forces that shaped our planet.', 'tokens': ['As', 'I', 'stood', 'at', 'the', 'base', 'of', 'Udren', 'Zom', ',', 'the', 'sheer', 'scale', 'of', 'the', 'mountain', 'left', 'me', 'awestruck', 'and', 'humbled', ',', 'its', 'rugged', 'beauty', 'a', 'testament', 'to', 'the', 'incredible', 'forces', 'that', 'shaped', 'our', 'planet', '.'], 'labels': [0, 0, 0, 0, 0, 0, 0, 1, 2, 0, 0, 0, 0, 0, 0, 0, 0, 0, 0, 0, 0, 0, 0, 0, 0, 0, 0, 0, 0, 0, 0, 0, 0, 0, 0, 0]}\n",
      "{'sentence': 'According to local trekking guides, the best time to attempt a climb of Udren Zom is in late spring, when the weather is generally clearer and the risks of avalanches and rockfall are significantly reduced.', 'tokens': ['According', 'to', 'local', 'trekking', 'guides', ',', 'the', 'best', 'time', 'to', 'attempt', 'a', 'climb', 'of', 'Udren', 'Zom', 'is', 'in', 'late', 'spring', ',', 'when', 'the', 'weather', 'is', 'generally', 'clearer', 'and', 'the', 'risks', 'of', 'avalanches', 'and', 'rockfall', 'are', 'significantly', 'reduced', '.'], 'labels': [0, 0, 0, 0, 0, 0, 0, 0, 0, 0, 0, 0, 0, 0, 1, 2, 0, 0, 0, 0, 0, 0, 0, 0, 0, 0, 0, 0, 0, 0, 0, 0, 0, 0, 0, 0, 0, 0]}\n",
      "{'sentence': 'The snow-capped peak of Chaukhamba glistens in the morning sunlight, a breathtaking sight for trekkers making their way to the nearby village.', 'tokens': ['The', 'snow', '-', 'capped', 'peak', 'of', 'Chaukhamba', 'glistens', 'in', 'the', 'morning', 'sunlight', ',', 'a', 'breathtaking', 'sight', 'for', 'trekkers', 'making', 'their', 'way', 'to', 'the', 'nearby', 'village', '.'], 'labels': [0, 0, 0, 0, 0, 0, 1, 0, 0, 0, 0, 0, 0, 0, 0, 0, 0, 0, 0, 0, 0, 0, 0, 0, 0, 0]}\n",
      "{'sentence': \"As I stood at the summit of Tilicho Peak, the world's highest lake, Tilicho Lake, shone like a sapphire beneath me, its tranquil waters reflecting the majesty of the Himalayas.\", 'tokens': ['As', 'I', 'stood', 'at', 'the', 'summit', 'of', 'Tilicho', 'Peak', ',', 'the', 'world', \"'\", 's', 'highest', 'lake', ',', 'Tilicho', 'Lake', ',', 'shone', 'like', 'a', 'sapphire', 'beneath', 'me', ',', 'its', 'tranquil', 'waters', 'reflecting', 'the', 'majesty', 'of', 'the', 'Himalayas', '.'], 'labels': [0, 0, 0, 0, 0, 0, 0, 1, 2, 0, 0, 0, 0, 0, 0, 0, 0, 0, 0, 0, 0, 0, 0, 0, 0, 0, 0, 0, 0, 0, 0, 0, 0, 0, 0, 0, 0]}\n",
      "{'sentence': \"The team of researchers from the University of Colorado successfully completed their expedition to Tilicho Peak, collecting valuable data on the region's unique geology and biodiversity, which will contribute significantly to the field of high-altitude research.\", 'tokens': ['The', 'team', 'of', 'researchers', 'from', 'the', 'University', 'of', 'Colorado', 'successfully', 'completed', 'their', 'expedition', 'to', 'Tilicho', 'Peak', ',', 'collecting', 'valuable', 'data', 'on', 'the', 'region', \"'\", 's', 'unique', 'geology', 'and', 'biodiversity', ',', 'which', 'will', 'contribute', 'significantly', 'to', 'the', 'field', 'of', 'high', '-', 'altitude', 'research', '.'], 'labels': [0, 0, 0, 0, 0, 0, 0, 0, 0, 0, 0, 0, 0, 0, 1, 2, 0, 0, 0, 0, 0, 0, 0, 0, 0, 0, 0, 0, 0, 0, 0, 0, 0, 0, 0, 0, 0, 0, 0, 0, 0, 0, 0]}\n",
      "{'sentence': 'As I stood at the base of Gauri Sankar, I felt a deep sense of reverence for the climbers who had attempted to conquer its towering peak. The villagers warned us that the trail to Gauri Sankar was treacherous, but the promise of breathtaking views from the summit kept us going. The recent snowstorm on Gauri Sankar has made the already challenging ascent nearly impossible, forcing several expeditions to turn back.', 'tokens': ['As', 'I', 'stood', 'at', 'the', 'base', 'of', 'Gauri', 'Sankar', ',', 'I', 'felt', 'a', 'deep', 'sense', 'of', 'reverence', 'for', 'the', 'climbers', 'who', 'had', 'attempted', 'to', 'conquer', 'its', 'towering', 'peak', '.', 'The', 'villagers', 'warned', 'us', 'that', 'the', 'trail', 'to', 'Gauri', 'Sankar', 'was', 'treacherous', ',', 'but', 'the', 'promise', 'of', 'breathtaking', 'views', 'from', 'the', 'summit', 'kept', 'us', 'going', '.', 'The', 'recent', 'snowstorm', 'on', 'Gauri', 'Sankar', 'has', 'made', 'the', 'already', 'challenging', 'ascent', 'nearly', 'impossible', ',', 'forcing', 'several', 'expeditions', 'to', 'turn', 'back', '.'], 'labels': [0, 0, 0, 0, 0, 0, 0, 1, 2, 0, 0, 0, 0, 0, 0, 0, 0, 0, 0, 0, 0, 0, 0, 0, 0, 0, 0, 0, 0, 0, 0, 0, 0, 0, 0, 0, 0, 1, 2, 0, 0, 0, 0, 0, 0, 0, 0, 0, 0, 0, 0, 0, 0, 0, 0, 0, 0, 0, 0, 1, 2, 0, 0, 0, 0, 0, 0, 0, 0, 0, 0, 0, 0, 0, 0, 0, 0]}\n",
      "{'sentence': 'Lenin Peak, located in the Tian Shan mountain range, stands as a formidable challenge for even the most seasoned climbers. The breathtaking view of Lenin Peak from our campsite on the shores of Lake Issyk-Kul remains an unforgettable memory from our trek through Kyrgyzstan.', 'tokens': ['Lenin', 'Peak', ',', 'located', 'in', 'the', 'Tian', 'Shan', 'mountain', 'range', ',', 'stands', 'as', 'a', 'formidable', 'challenge', 'for', 'even', 'the', 'most', 'seasoned', 'climbers', '.', 'The', 'breathtaking', 'view', 'of', 'Lenin', 'Peak', 'from', 'our', 'campsite', 'on', 'the', 'shores', 'of', 'Lake', 'Issyk', '-', 'Kul', 'remains', 'an', 'unforgettable', 'memory', 'from', 'our', 'trek', 'through', 'Kyrgyzstan', '.'], 'labels': [1, 2, 0, 0, 0, 0, 0, 0, 0, 0, 0, 0, 0, 0, 0, 0, 0, 0, 0, 0, 0, 0, 0, 0, 0, 0, 0, 1, 2, 0, 0, 0, 0, 0, 0, 0, 0, 0, 0, 0, 0, 0, 0, 0, 0, 0, 0, 0, 0, 0]}\n",
      "{'sentence': 'As I stood at the summit of Bularung Sar, I felt an overwhelming sense of accomplishment wash over me, the breathtaking view a reminder of the long journey that had brought me to this moment.', 'tokens': ['As', 'I', 'stood', 'at', 'the', 'summit', 'of', 'Bularung', 'Sar', ',', 'I', 'felt', 'an', 'overwhelming', 'sense', 'of', 'accomplishment', 'wash', 'over', 'me', ',', 'the', 'breathtaking', 'view', 'a', 'reminder', 'of', 'the', 'long', 'journey', 'that', 'had', 'brought', 'me', 'to', 'this', 'moment', '.'], 'labels': [0, 0, 0, 0, 0, 0, 0, 1, 2, 0, 0, 0, 0, 0, 0, 0, 0, 0, 0, 0, 0, 0, 0, 0, 0, 0, 0, 0, 0, 0, 0, 0, 0, 0, 0, 0, 0, 0]}\n",
      "{'sentence': 'In a recent report, geologists revealed that Bularung Sar, located in the remote region of the Karakoram range, has been experiencing increased seismic activity, raising concerns about the potential for future landslides.', 'tokens': ['In', 'a', 'recent', 'report', ',', 'geologists', 'revealed', 'that', 'Bularung', 'Sar', ',', 'located', 'in', 'the', 'remote', 'region', 'of', 'the', 'Karakoram', 'range', ',', 'has', 'been', 'experiencing', 'increased', 'seismic', 'activity', ',', 'raising', 'concerns', 'about', 'the', 'potential', 'for', 'future', 'landslides', '.'], 'labels': [0, 0, 0, 0, 0, 0, 0, 0, 1, 2, 0, 0, 0, 0, 0, 0, 0, 0, 0, 0, 0, 0, 0, 0, 0, 0, 0, 0, 0, 0, 0, 0, 0, 0, 0, 0, 0]}\n",
      "{'sentence': \"For adventure-seekers looking to tackle one of the world's most formidable climbs, Bularung Sar offers a thrilling challenge, with steep rock faces and unpredictable weather conditions that demand skill, endurance, and a healthy dose of luck.\", 'tokens': ['For', 'adventure', '-', 'seekers', 'looking', 'to', 'tackle', 'one', 'of', 'the', 'world', \"'\", 's', 'most', 'formidable', 'climbs', ',', 'Bularung', 'Sar', 'offers', 'a', 'thrilling', 'challenge', ',', 'with', 'steep', 'rock', 'faces', 'and', 'unpredictable', 'weather', 'conditions', 'that', 'demand', 'skill', ',', 'endurance', ',', 'and', 'a', 'healthy', 'dose', 'of', 'luck', '.'], 'labels': [0, 0, 0, 0, 0, 0, 0, 0, 0, 0, 0, 0, 0, 0, 0, 0, 0, 1, 2, 0, 0, 0, 0, 0, 0, 0, 0, 0, 0, 0, 0, 0, 0, 0, 0, 0, 0, 0, 0, 0, 0, 0, 0, 0, 0]}\n",
      "{'sentence': 'As I stood at the summit of Api, the misty morning air veiled the breathtaking vista before me, an endless expanse of emerald hills stretching towards the horizon like an unfurled green carpet.', 'tokens': ['As', 'I', 'stood', 'at', 'the', 'summit', 'of', 'Api', ',', 'the', 'misty', 'morning', 'air', 'veiled', 'the', 'breathtaking', 'vista', 'before', 'me', ',', 'an', 'endless', 'expanse', 'of', 'emerald', 'hills', 'stretching', 'towards', 'the', 'horizon', 'like', 'an', 'unfurled', 'green', 'carpet', '.'], 'labels': [0, 0, 0, 0, 0, 0, 0, 1, 0, 0, 0, 0, 0, 0, 0, 0, 0, 0, 0, 0, 0, 0, 0, 0, 0, 0, 0, 0, 0, 0, 0, 0, 0, 0, 0, 0]}\n",
      "{'sentence': 'As I stood at the summit of Teri Kang, the early morning sunlight cast a golden glow over the breathtaking landscape of the Himalayas.', 'tokens': ['As', 'I', 'stood', 'at', 'the', 'summit', 'of', 'Teri', 'Kang', ',', 'the', 'early', 'morning', 'sunlight', 'cast', 'a', 'golden', 'glow', 'over', 'the', 'breathtaking', 'landscape', 'of', 'the', 'Himalayas', '.'], 'labels': [0, 0, 0, 0, 0, 0, 0, 1, 2, 0, 0, 0, 0, 0, 0, 0, 0, 0, 0, 0, 0, 0, 0, 0, 0, 0]}\n",
      "{'sentence': 'Teri Kang, a lesser-known mountain in the Langtang range, offers adventure-seekers a thrilling trekking experience through its rugged terrain and awe-inspiring vistas.', 'tokens': ['Teri', 'Kang', ',', 'a', 'lesser', '-', 'known', 'mountain', 'in', 'the', 'Langtang', 'range', ',', 'offers', 'adventure', '-', 'seekers', 'a', 'thrilling', 'trekking', 'experience', 'through', 'its', 'rugged', 'terrain', 'and', 'awe', '-', 'inspiring', 'vistas', '.'], 'labels': [1, 2, 0, 0, 0, 0, 0, 0, 0, 0, 0, 0, 0, 0, 0, 0, 0, 0, 0, 0, 0, 0, 0, 0, 0, 0, 0, 0, 0, 0, 0]}\n",
      "{'sentence': 'Pauhunri, the highest peak in the state of Sikkim, India, towers above the surrounding landscape at an impressive elevation of 7,128 meters.', 'tokens': ['Pauhunri', ',', 'the', 'highest', 'peak', 'in', 'the', 'state', 'of', 'Sikkim', ',', 'India', ',', 'towers', 'above', 'the', 'surrounding', 'landscape', 'at', 'an', 'impressive', 'elevation', 'of', '7', ',', '128', 'meters', '.'], 'labels': [1, 0, 0, 0, 0, 0, 0, 0, 0, 0, 0, 0, 0, 0, 0, 0, 0, 0, 0, 0, 0, 0, 0, 0, 0, 0, 0, 0]}\n",
      "{'sentence': 'After months of planning, our team of experienced mountaineers finally embarked on the challenging expedition to conquer the majestic Pauhunri, a lesser-known gem in the Himalayan range.', 'tokens': ['After', 'months', 'of', 'planning', ',', 'our', 'team', 'of', 'experienced', 'mountaineers', 'finally', 'embarked', 'on', 'the', 'challenging', 'expedition', 'to', 'conquer', 'the', 'majestic', 'Pauhunri', ',', 'a', 'lesser', '-', 'known', 'gem', 'in', 'the', 'Himalayan', 'range', '.'], 'labels': [0, 0, 0, 0, 0, 0, 0, 0, 0, 0, 0, 0, 0, 0, 0, 0, 0, 0, 0, 0, 1, 0, 0, 0, 0, 0, 0, 0, 0, 0, 0, 0]}\n"
     ]
    }
   ],
   "source": [
    "ner_formatted_data = preprocess_for_ner(dataset)\n",
    "\n",
    "with open(DATAGEN_CONFIG['SAVE_PROCESSED_PATH'], 'w') as f:\n",
    "    json.dump(ner_formatted_data, f, indent=2)\n",
    "\n",
    "for entry in ner_formatted_data:\n",
    "    print(entry)"
   ]
  },
  {
   "cell_type": "code",
   "execution_count": 54,
   "metadata": {},
   "outputs": [
    {
     "name": "stdout",
     "output_type": "stream",
     "text": [
      "196 synthetic generated sentences\n"
     ]
    }
   ],
   "source": [
    "print(f\"{len(ner_formatted_data)} synthetic generated sentences\")"
   ]
  },
  {
   "cell_type": "code",
   "execution_count": 55,
   "metadata": {},
   "outputs": [
    {
     "data": {
      "text/plain": [
       "{'sentence': 'Mount Everest, the highest peak in the world, was formed approximately 60 million years ago when India collided with Eurasia.',\n",
       " 'tokens': ['Mount',\n",
       "  'Everest',\n",
       "  ',',\n",
       "  'the',\n",
       "  'highest',\n",
       "  'peak',\n",
       "  'in',\n",
       "  'the',\n",
       "  'world',\n",
       "  ',',\n",
       "  'was',\n",
       "  'formed',\n",
       "  'approximately',\n",
       "  '60',\n",
       "  'million',\n",
       "  'years',\n",
       "  'ago',\n",
       "  'when',\n",
       "  'India',\n",
       "  'collided',\n",
       "  'with',\n",
       "  'Eurasia',\n",
       "  '.'],\n",
       " 'labels': [1,\n",
       "  2,\n",
       "  0,\n",
       "  0,\n",
       "  0,\n",
       "  0,\n",
       "  0,\n",
       "  0,\n",
       "  0,\n",
       "  0,\n",
       "  0,\n",
       "  0,\n",
       "  0,\n",
       "  0,\n",
       "  0,\n",
       "  0,\n",
       "  0,\n",
       "  0,\n",
       "  0,\n",
       "  0,\n",
       "  0,\n",
       "  0,\n",
       "  0]}"
      ]
     },
     "execution_count": 55,
     "metadata": {},
     "output_type": "execute_result"
    }
   ],
   "source": [
    "ner_formatted_data[0]"
   ]
  },
  {
   "cell_type": "code",
   "execution_count": 56,
   "metadata": {},
   "outputs": [
    {
     "name": "stdout",
     "output_type": "stream",
     "text": [
      "True\n"
     ]
    }
   ],
   "source": [
    "print(len(ner_formatted_data[0]['labels'])==len(ner_formatted_data[0]['tokens']))"
   ]
  },
  {
   "cell_type": "markdown",
   "metadata": {},
   "source": [
    "## Out-of domain datasets for NER"
   ]
  },
  {
   "cell_type": "markdown",
   "metadata": {},
   "source": [
    "### WNUT 16\n",
    "\n",
    "WNUT 2016 Dataset is annotated with 10 fine-grained NER categories: person, geo-location, company, facility, product,music artist, movie, sports team, tv show and other. Dataset was extracted from tweets and is structured in CoNLL format., in English language. Containing 5,63 in Text file format.\n",
    "https://autonlp.ai/datasets/wnut-2016\n",
    "\n",
    "#### Hope to extract some info about mountains from this dataset but it can be helpful even without vast amount of data related to our problem - can use it for balancing our synthetic dataset."
   ]
  },
  {
   "cell_type": "code",
   "execution_count": 57,
   "metadata": {},
   "outputs": [],
   "source": [
    "import pandas as pd\n",
    "import numpy as np"
   ]
  },
  {
   "cell_type": "code",
   "execution_count": 58,
   "metadata": {},
   "outputs": [],
   "source": [
    "with open(DATAGEN_CONFIG['WNUT_DATA_PATH'], 'r') as file:\n",
    "    data = file.read()\n",
    "\n",
    "# Parse the dataset into tokens and labels\n",
    "lines = data.split('\\n')\n",
    "tokens = []\n",
    "labels = []\n",
    "sentence_tokens = []\n",
    "sentence_labels = []\n",
    "\n",
    "for line in lines:\n",
    "    if line.strip():\n",
    "        token, label = line.split('\\t')\n",
    "        sentence_tokens.append(token)\n",
    "        sentence_labels.append(label)\n",
    "    else:\n",
    "        if sentence_tokens:\n",
    "            tokens.append(sentence_tokens)\n",
    "            labels.append(sentence_labels)\n",
    "            sentence_tokens = []\n",
    "            sentence_labels = []\n",
    "\n",
    "# Ensure the last sentence is added\n",
    "if sentence_tokens:\n",
    "    tokens.append(sentence_tokens)\n",
    "    labels.append(sentence_labels)\n",
    "\n",
    "data_dict = {'tokens': tokens, 'labels': labels}\n",
    "data_df = pd.DataFrame(data_dict)"
   ]
  },
  {
   "cell_type": "code",
   "execution_count": 59,
   "metadata": {},
   "outputs": [
    {
     "data": {
      "text/html": [
       "<div>\n",
       "<style scoped>\n",
       "    .dataframe tbody tr th:only-of-type {\n",
       "        vertical-align: middle;\n",
       "    }\n",
       "\n",
       "    .dataframe tbody tr th {\n",
       "        vertical-align: top;\n",
       "    }\n",
       "\n",
       "    .dataframe thead th {\n",
       "        text-align: right;\n",
       "    }\n",
       "</style>\n",
       "<table border=\"1\" class=\"dataframe\">\n",
       "  <thead>\n",
       "    <tr style=\"text-align: right;\">\n",
       "      <th></th>\n",
       "      <th>tokens</th>\n",
       "      <th>labels</th>\n",
       "    </tr>\n",
       "  </thead>\n",
       "  <tbody>\n",
       "    <tr>\n",
       "      <th>0</th>\n",
       "      <td>[@SammieLynnsMom, @tg10781, they, will, be, al...</td>\n",
       "      <td>[O, O, O, O, O, O, O, O, O, O, O, O]</td>\n",
       "    </tr>\n",
       "    <tr>\n",
       "      <th>1</th>\n",
       "      <td>[Made, it, back, home, to, GA, ., It, sucks, n...</td>\n",
       "      <td>[O, O, O, O, O, B-geo-loc, O, O, O, O, O, O, O...</td>\n",
       "    </tr>\n",
       "    <tr>\n",
       "      <th>2</th>\n",
       "      <td>[', Breaking, Dawn, ', Returns, to, Vancouver,...</td>\n",
       "      <td>[O, B-movie, I-movie, O, O, O, B-geo-loc, O, O...</td>\n",
       "    </tr>\n",
       "    <tr>\n",
       "      <th>3</th>\n",
       "      <td>[@ls_n, perhaps, ,, but, folks, may, find, som...</td>\n",
       "      <td>[O, O, O, O, O, O, O, O, O, O, O, O, O, O, O, ...</td>\n",
       "    </tr>\n",
       "    <tr>\n",
       "      <th>4</th>\n",
       "      <td>[@Carr0t, aye, been, tonight, -, excellent]</td>\n",
       "      <td>[O, O, O, O, O, O]</td>\n",
       "    </tr>\n",
       "  </tbody>\n",
       "</table>\n",
       "</div>"
      ],
      "text/plain": [
       "                                              tokens  \\\n",
       "0  [@SammieLynnsMom, @tg10781, they, will, be, al...   \n",
       "1  [Made, it, back, home, to, GA, ., It, sucks, n...   \n",
       "2  [', Breaking, Dawn, ', Returns, to, Vancouver,...   \n",
       "3  [@ls_n, perhaps, ,, but, folks, may, find, som...   \n",
       "4        [@Carr0t, aye, been, tonight, -, excellent]   \n",
       "\n",
       "                                              labels  \n",
       "0               [O, O, O, O, O, O, O, O, O, O, O, O]  \n",
       "1  [O, O, O, O, O, B-geo-loc, O, O, O, O, O, O, O...  \n",
       "2  [O, B-movie, I-movie, O, O, O, B-geo-loc, O, O...  \n",
       "3  [O, O, O, O, O, O, O, O, O, O, O, O, O, O, O, ...  \n",
       "4                                 [O, O, O, O, O, O]  "
      ]
     },
     "execution_count": 59,
     "metadata": {},
     "output_type": "execute_result"
    }
   ],
   "source": [
    "data_df.head()"
   ]
  },
  {
   "cell_type": "code",
   "execution_count": 60,
   "metadata": {},
   "outputs": [
    {
     "name": "stdout",
     "output_type": "stream",
     "text": [
      "Count the row that included null column 0\n"
     ]
    }
   ],
   "source": [
    "data_df = data_df.dropna()\n",
    "\n",
    "any_null_count = data_df.isnull().any(axis=1).sum()\n",
    "print(f'Count the row that included null column', any_null_count)\n",
    "\n",
    "def is_english(sentence):\n",
    "    return re.match(r'^[a-zA-Z0-9\\s,.\\'!?-]+$', ' '.join(sentence))\n",
    "\n",
    "# Filter out non-English sentences\n",
    "data_df = data_df[data_df['tokens'].apply(lambda x: bool(is_english(x)))]"
   ]
  },
  {
   "cell_type": "code",
   "execution_count": 61,
   "metadata": {},
   "outputs": [
    {
     "name": "stdout",
     "output_type": "stream",
     "text": [
      "Unique tags: {'I-product', 'B-musicartist', 'B-tvshow', 'B-other', 'I-company', 'I-sportsteam', 'B-company', 'I-geo-loc', 'B-person', 'I-tvshow', 'B-geo-loc', 'I-facility', 'B-sportsteam', 'I-other', 'I-musicartist', 'B-facility', 'I-movie', 'B-product', 'I-person', 'B-movie', 'O'}\n"
     ]
    }
   ],
   "source": [
    "# unique tags from the dataset\n",
    "unique_tags = set()\n",
    "\n",
    "for label_list in labels:\n",
    "    for label in label_list:\n",
    "        unique_tags.add(label)\n",
    "\n",
    "print(\"Unique tags:\", unique_tags)"
   ]
  },
  {
   "cell_type": "code",
   "execution_count": 62,
   "metadata": {},
   "outputs": [
    {
     "name": "stdout",
     "output_type": "stream",
     "text": [
      "Empty DataFrame\n",
      "Columns: [tokens, labels, contains_mountain]\n",
      "Index: []\n"
     ]
    }
   ],
   "source": [
    "# rows that contain 'B-geo-loc' \n",
    "geo_df = data_df[data_df['labels'].apply(lambda x: 'B-geo-loc' in x)]\n",
    "geo_df.shape\n",
    "\n",
    "mountains_df = pd.read_csv(os.path.join('..', DATAGEN_CONFIG['MOUNTAINS_NAMES_PATH']))  \n",
    "mountain_names = mountains_df['Mountain'].tolist()  \n",
    "\n",
    "mountain_names = [name.lower() for name in mountain_names]\n",
    "def detect_mountains(tokens, mountain_names):\n",
    "    tokens_lower = [token.lower() for token in tokens]  # convert tokens to lowercase for comparison\n",
    "    return any(mountain in tokens_lower for mountain in mountain_names)\n",
    "\n",
    "nomountain = geo_df.copy()\n",
    "nomountain['contains_mountain'] = geo_df['tokens'].apply(lambda x: detect_mountains(x, mountain_names))\n",
    "\n",
    "mountain_rows = nomountain[nomountain['contains_mountain'] == True]\n",
    "print(mountain_rows)"
   ]
  },
  {
   "cell_type": "markdown",
   "metadata": {},
   "source": [
    "As we do not have the entries about related to mountains let's just sample 196 samples without mountains to balance synthetic dataset"
   ]
  },
  {
   "cell_type": "code",
   "execution_count": 63,
   "metadata": {},
   "outputs": [],
   "source": [
    "# Remove special symbols as this data is parsed from twitter, so may contain unuseful for language understanding info\n",
    "# Remain commas\n",
    "\n",
    "def preprocess_tokens(tokens):\n",
    "    # Join tokens into a single string for processing\n",
    "    text = ' '.join(tokens)\n",
    "    \n",
    "    # Remove URLs\n",
    "    text = re.sub(r'http\\S+|www\\S+|https\\S+', '', text, flags=re.MULTILINE)\n",
    "    \n",
    "    # Remove mentions and hashtags\n",
    "    text = re.sub(r'@\\w+|#\\w+', '', text)\n",
    "    \n",
    "    # Remove special characters and punctuation except commas\n",
    "    text = re.sub(r'[^a-zA-Z0-9,\\s]', '', text)\n",
    "    \n",
    "    # Remove extra whitespace\n",
    "    text = re.sub(r'\\s+', ' ', text).strip()\n",
    "    \n",
    "    # Split the processed text back into tokens\n",
    "    return text.split()"
   ]
  },
  {
   "cell_type": "code",
   "execution_count": 64,
   "metadata": {},
   "outputs": [
    {
     "data": {
      "text/html": [
       "<div>\n",
       "<style scoped>\n",
       "    .dataframe tbody tr th:only-of-type {\n",
       "        vertical-align: middle;\n",
       "    }\n",
       "\n",
       "    .dataframe tbody tr th {\n",
       "        vertical-align: top;\n",
       "    }\n",
       "\n",
       "    .dataframe thead th {\n",
       "        text-align: right;\n",
       "    }\n",
       "</style>\n",
       "<table border=\"1\" class=\"dataframe\">\n",
       "  <thead>\n",
       "    <tr style=\"text-align: right;\">\n",
       "      <th></th>\n",
       "      <th>tokens</th>\n",
       "      <th>labels</th>\n",
       "    </tr>\n",
       "  </thead>\n",
       "  <tbody>\n",
       "    <tr>\n",
       "      <th>1093</th>\n",
       "      <td>[before, the, season, even, starts, i, will, n...</td>\n",
       "      <td>[0, 0, 0, 0, 0, 0, 0, 0, 0, 0, 0, 0, 0, 0, 0, 0]</td>\n",
       "    </tr>\n",
       "    <tr>\n",
       "      <th>2373</th>\n",
       "      <td>[Have, a, feeling, my, phone, bill, will, be, ...</td>\n",
       "      <td>[0, 0, 0, 0, 0, 0, 0, 0, 0, 0, 0]</td>\n",
       "    </tr>\n",
       "    <tr>\n",
       "      <th>2004</th>\n",
       "      <td>[looks, like, its, my, byzabedtime, hope, to, ...</td>\n",
       "      <td>[0, 0, 0, 0, 0, 0, 0, 0, 0, 0, 0, 0, 0]</td>\n",
       "    </tr>\n",
       "    <tr>\n",
       "      <th>427</th>\n",
       "      <td>[Spent, all, of, last, night, puking, ,, and, ...</td>\n",
       "      <td>[0, 0, 0, 0, 0, 0, 0, 0, 0, 0, 0, 0, 0, 0, 0, ...</td>\n",
       "    </tr>\n",
       "    <tr>\n",
       "      <th>2324</th>\n",
       "      <td>[Im, trying, to, figure, out, if, I, wanna, do...</td>\n",
       "      <td>[0, 0, 0, 0, 0, 0, 0, 0, 0, 0, 0]</td>\n",
       "    </tr>\n",
       "    <tr>\n",
       "      <th>...</th>\n",
       "      <td>...</td>\n",
       "      <td>...</td>\n",
       "    </tr>\n",
       "    <tr>\n",
       "      <th>614</th>\n",
       "      <td>[Tonight, Homemade, ice, cream, flights, try, ...</td>\n",
       "      <td>[0, 0, 0, 0, 0, 0, 0, 0, 0, 0, 0, 0, 0, 0, 0]</td>\n",
       "    </tr>\n",
       "    <tr>\n",
       "      <th>2243</th>\n",
       "      <td>[Love, me, when, I, least, deserve, it, ,, bec...</td>\n",
       "      <td>[0, 0, 0, 0, 0, 0, 0, 0, 0, 0, 0, 0, 0, 0, 0, ...</td>\n",
       "    </tr>\n",
       "    <tr>\n",
       "      <th>31</th>\n",
       "      <td>[he, likes, prince, ,, paul, simon, ,, and, od...</td>\n",
       "      <td>[0, 0, 0, 0, 0, 0, 0, 0, 0, 0, 0, 0, 0, 0, 0, 0]</td>\n",
       "    </tr>\n",
       "    <tr>\n",
       "      <th>2308</th>\n",
       "      <td>[my, past, was, the, reason, i, tried, to, kil...</td>\n",
       "      <td>[0, 0, 0, 0, 0, 0, 0, 0, 0, 0, 0, 0, 0, 0, 0, ...</td>\n",
       "    </tr>\n",
       "    <tr>\n",
       "      <th>78</th>\n",
       "      <td>[today, just, doesnt, feel, like, a, Friday]</td>\n",
       "      <td>[0, 0, 0, 0, 0, 0, 0]</td>\n",
       "    </tr>\n",
       "  </tbody>\n",
       "</table>\n",
       "<p>196 rows × 2 columns</p>\n",
       "</div>"
      ],
      "text/plain": [
       "                                                 tokens  \\\n",
       "1093  [before, the, season, even, starts, i, will, n...   \n",
       "2373  [Have, a, feeling, my, phone, bill, will, be, ...   \n",
       "2004  [looks, like, its, my, byzabedtime, hope, to, ...   \n",
       "427   [Spent, all, of, last, night, puking, ,, and, ...   \n",
       "2324  [Im, trying, to, figure, out, if, I, wanna, do...   \n",
       "...                                                 ...   \n",
       "614   [Tonight, Homemade, ice, cream, flights, try, ...   \n",
       "2243  [Love, me, when, I, least, deserve, it, ,, bec...   \n",
       "31    [he, likes, prince, ,, paul, simon, ,, and, od...   \n",
       "2308  [my, past, was, the, reason, i, tried, to, kil...   \n",
       "78         [today, just, doesnt, feel, like, a, Friday]   \n",
       "\n",
       "                                                 labels  \n",
       "1093   [0, 0, 0, 0, 0, 0, 0, 0, 0, 0, 0, 0, 0, 0, 0, 0]  \n",
       "2373                  [0, 0, 0, 0, 0, 0, 0, 0, 0, 0, 0]  \n",
       "2004            [0, 0, 0, 0, 0, 0, 0, 0, 0, 0, 0, 0, 0]  \n",
       "427   [0, 0, 0, 0, 0, 0, 0, 0, 0, 0, 0, 0, 0, 0, 0, ...  \n",
       "2324                  [0, 0, 0, 0, 0, 0, 0, 0, 0, 0, 0]  \n",
       "...                                                 ...  \n",
       "614       [0, 0, 0, 0, 0, 0, 0, 0, 0, 0, 0, 0, 0, 0, 0]  \n",
       "2243  [0, 0, 0, 0, 0, 0, 0, 0, 0, 0, 0, 0, 0, 0, 0, ...  \n",
       "31     [0, 0, 0, 0, 0, 0, 0, 0, 0, 0, 0, 0, 0, 0, 0, 0]  \n",
       "2308  [0, 0, 0, 0, 0, 0, 0, 0, 0, 0, 0, 0, 0, 0, 0, ...  \n",
       "78                                [0, 0, 0, 0, 0, 0, 0]  \n",
       "\n",
       "[196 rows x 2 columns]"
      ]
     },
     "execution_count": 64,
     "metadata": {},
     "output_type": "execute_result"
    }
   ],
   "source": [
    "# sample 196 examples\n",
    "sampled_mountain_rows = data_df.sample(n=196, random_state=42)\n",
    "sampled_mountain_rows['tokens'] = sampled_mountain_rows['tokens'].apply(preprocess_tokens)\n",
    "sampled_mountain_rows['labels'] = [[0] * len(tokens) for tokens in sampled_mountain_rows['tokens']]\n",
    "sampled_mountain_rows"
   ]
  },
  {
   "cell_type": "code",
   "execution_count": 65,
   "metadata": {},
   "outputs": [
    {
     "data": {
      "text/plain": [
       "True"
      ]
     },
     "execution_count": 65,
     "metadata": {},
     "output_type": "execute_result"
    }
   ],
   "source": [
    "len(sampled_mountain_rows.iloc[0]['tokens']) == len(sampled_mountain_rows.iloc[0]['labels'])"
   ]
  },
  {
   "cell_type": "code",
   "execution_count": 66,
   "metadata": {},
   "outputs": [
    {
     "data": {
      "text/plain": [
       "['before',\n",
       " 'the',\n",
       " 'season',\n",
       " 'even',\n",
       " 'starts',\n",
       " 'i',\n",
       " 'will',\n",
       " 'not',\n",
       " 'respond',\n",
       " 'to',\n",
       " 'any',\n",
       " 'new',\n",
       " 'found',\n",
       " 'miami',\n",
       " 'heat',\n",
       " 'fans']"
      ]
     },
     "execution_count": 66,
     "metadata": {},
     "output_type": "execute_result"
    }
   ],
   "source": [
    "sampled_mountain_rows.iloc[0]['tokens']"
   ]
  },
  {
   "cell_type": "code",
   "execution_count": 67,
   "metadata": {},
   "outputs": [
    {
     "data": {
      "text/plain": [
       "[0, 0, 0, 0, 0, 0, 0, 0, 0, 0, 0, 0, 0, 0, 0, 0]"
      ]
     },
     "execution_count": 67,
     "metadata": {},
     "output_type": "execute_result"
    }
   ],
   "source": [
    "sampled_mountain_rows.iloc[0]['labels']"
   ]
  },
  {
   "cell_type": "code",
   "execution_count": 68,
   "metadata": {},
   "outputs": [],
   "source": [
    "sampled_mountain_rows.to_csv(DATAGEN_CONFIG['PROCESSED_WNUT_PATH'])"
   ]
  },
  {
   "cell_type": "markdown",
   "metadata": {},
   "source": [
    "### Few-NERD\n",
    "Few-NERD is a large-scale, fine-grained manually annotated named entity recognition dataset, which contains 8 coarse-grained types, 66 fine-grained types, 188,200 sentences, 491,711 entities, and 4,601,223 tokens.\n",
    "\n",
    "https://huggingface.co/datasets/DFKI-SLT/few-nerd#dataset-summary"
   ]
  },
  {
   "cell_type": "code",
   "execution_count": 69,
   "metadata": {},
   "outputs": [],
   "source": [
    "from datasets import load_dataset\n",
    "from tqdm import tqdm  "
   ]
  },
  {
   "cell_type": "code",
   "execution_count": 70,
   "metadata": {},
   "outputs": [],
   "source": [
    "ds = load_dataset(\"DFKI-SLT/few-nerd\", \"supervised\")"
   ]
  },
  {
   "cell_type": "code",
   "execution_count": 71,
   "metadata": {},
   "outputs": [],
   "source": [
    "ds_train = ds[\"train\"]\n",
    "ds_val = ds[\"validation\"]\n",
    "ds_test = ds[\"test\"]"
   ]
  },
  {
   "cell_type": "code",
   "execution_count": 72,
   "metadata": {},
   "outputs": [
    {
     "name": "stdout",
     "output_type": "stream",
     "text": [
      "Dataset({\n",
      "    features: ['id', 'tokens', 'ner_tags', 'fine_ner_tags'],\n",
      "    num_rows: 131767\n",
      "})\n",
      "Dataset({\n",
      "    features: ['id', 'tokens', 'ner_tags', 'fine_ner_tags'],\n",
      "    num_rows: 18824\n",
      "})\n",
      "Dataset({\n",
      "    features: ['id', 'tokens', 'ner_tags', 'fine_ner_tags'],\n",
      "    num_rows: 37648\n",
      "})\n"
     ]
    }
   ],
   "source": [
    "print(ds_train)\n",
    "print(ds_val)\n",
    "print(ds_test)"
   ]
  },
  {
   "cell_type": "code",
   "execution_count": 73,
   "metadata": {},
   "outputs": [
    {
     "data": {
      "text/plain": [
       "{'id': '1',\n",
       " 'tokens': ['It',\n",
       "  'starred',\n",
       "  'Hicks',\n",
       "  \"'s\",\n",
       "  'wife',\n",
       "  ',',\n",
       "  'Ellaline',\n",
       "  'Terriss',\n",
       "  'and',\n",
       "  'Edmund',\n",
       "  'Payne',\n",
       "  '.'],\n",
       " 'ner_tags': [0, 0, 7, 0, 0, 0, 7, 7, 0, 7, 7, 0],\n",
       " 'fine_ner_tags': [0, 0, 51, 0, 0, 0, 50, 50, 0, 50, 50, 0]}"
      ]
     },
     "execution_count": 73,
     "metadata": {},
     "output_type": "execute_result"
    }
   ],
   "source": [
    "ds_train[1]"
   ]
  },
  {
   "cell_type": "code",
   "execution_count": 74,
   "metadata": {},
   "outputs": [
    {
     "data": {
      "text/plain": [
       "{'id': Value(dtype='string', id=None),\n",
       " 'tokens': Sequence(feature=Value(dtype='string', id=None), length=-1, id=None),\n",
       " 'ner_tags': Sequence(feature=ClassLabel(names=['O', 'art', 'building', 'event', 'location', 'organization', 'other', 'person', 'product'], id=None), length=-1, id=None),\n",
       " 'fine_ner_tags': Sequence(feature=ClassLabel(names=['O', 'art-broadcastprogram', 'art-film', 'art-music', 'art-other', 'art-painting', 'art-writtenart', 'building-airport', 'building-hospital', 'building-hotel', 'building-library', 'building-other', 'building-restaurant', 'building-sportsfacility', 'building-theater', 'event-attack/battle/war/militaryconflict', 'event-disaster', 'event-election', 'event-other', 'event-protest', 'event-sportsevent', 'location-GPE', 'location-bodiesofwater', 'location-island', 'location-mountain', 'location-other', 'location-park', 'location-road/railway/highway/transit', 'organization-company', 'organization-education', 'organization-government/governmentagency', 'organization-media/newspaper', 'organization-other', 'organization-politicalparty', 'organization-religion', 'organization-showorganization', 'organization-sportsleague', 'organization-sportsteam', 'other-astronomything', 'other-award', 'other-biologything', 'other-chemicalthing', 'other-currency', 'other-disease', 'other-educationaldegree', 'other-god', 'other-language', 'other-law', 'other-livingthing', 'other-medical', 'person-actor', 'person-artist/author', 'person-athlete', 'person-director', 'person-other', 'person-politician', 'person-scholar', 'person-soldier', 'product-airplane', 'product-car', 'product-food', 'product-game', 'product-other', 'product-ship', 'product-software', 'product-train', 'product-weapon'], id=None), length=-1, id=None)}"
      ]
     },
     "execution_count": 74,
     "metadata": {},
     "output_type": "execute_result"
    }
   ],
   "source": [
    "ds_train.features"
   ]
  },
  {
   "cell_type": "markdown",
   "metadata": {},
   "source": [
    "We see the 'location-mountain' label, which might be useful to us."
   ]
  },
  {
   "cell_type": "code",
   "execution_count": 75,
   "metadata": {},
   "outputs": [],
   "source": [
    "MOUNTAIN_INDEX = 24"
   ]
  },
  {
   "cell_type": "code",
   "execution_count": 76,
   "metadata": {},
   "outputs": [],
   "source": [
    "def display_mountain_stats(dataset, mountain_tag=[MOUNTAIN_INDEX]):\n",
    "    \"\"\"\n",
    "    Displays statistics related to mountain tags in the dataset.\n",
    "    :param dataset: The dataset to analyze\n",
    "    :param mountain_tag: The tag representing mountains in the dataset\n",
    "    \"\"\"\n",
    "    mountain_count = sum(\n",
    "        tag in mountain_tag for line in tqdm(dataset) for tag in line['fine_ner_tags']\n",
    "    )\n",
    "\n",
    "    unique_mountains = {\n",
    "        line['tokens'][i] for line in dataset for i, tag in enumerate(line['fine_ner_tags'])\n",
    "        if tag in mountain_tag\n",
    "    }\n",
    "\n",
    "    samples_with_mountains = sum(\n",
    "        any(tag in mountain_tag for tag in line['fine_ner_tags']) for line in dataset\n",
    "    )\n",
    "\n",
    "    print(f\"Number of mountains = {mountain_count}\")\n",
    "    print(f\"Number of distinct mountains = {len(unique_mountains)}\")\n",
    "    print(f\"Number of samples with mountains = {samples_with_mountains}\")\n",
    "\n",
    "    stats = []\n",
    "    stats.append(mountain_count)\n",
    "    stats.append(len(unique_mountains))\n",
    "    stats.append(samples_with_mountains)\n",
    "\n",
    "    return stats"
   ]
  },
  {
   "cell_type": "code",
   "execution_count": 77,
   "metadata": {},
   "outputs": [
    {
     "name": "stdout",
     "output_type": "stream",
     "text": [
      "Train set stats:\n"
     ]
    },
    {
     "name": "stderr",
     "output_type": "stream",
     "text": [
      "100%|██████████| 131767/131767 [00:04<00:00, 27248.01it/s]\n"
     ]
    },
    {
     "name": "stdout",
     "output_type": "stream",
     "text": [
      "Number of mountains = 4500\n",
      "Number of distinct mountains = 1871\n",
      "Number of samples with mountains = 1502\n",
      "##############################\n",
      "Val set stats:\n"
     ]
    },
    {
     "name": "stderr",
     "output_type": "stream",
     "text": [
      "100%|██████████| 18824/18824 [00:00<00:00, 28052.06it/s]\n"
     ]
    },
    {
     "name": "stdout",
     "output_type": "stream",
     "text": [
      "Number of mountains = 734\n",
      "Number of distinct mountains = 474\n",
      "Number of samples with mountains = 218\n",
      "##############################\n",
      "Test set stats:\n"
     ]
    },
    {
     "name": "stderr",
     "output_type": "stream",
     "text": [
      "100%|██████████| 37648/37648 [00:01<00:00, 27912.24it/s]\n"
     ]
    },
    {
     "name": "stdout",
     "output_type": "stream",
     "text": [
      "Number of mountains = 1366\n",
      "Number of distinct mountains = 776\n",
      "Number of samples with mountains = 448\n",
      "##############################\n"
     ]
    }
   ],
   "source": [
    "print('Train set stats:')\n",
    "train_stats=display_mountain_stats(ds_train)\n",
    "print('###' * 10)\n",
    "\n",
    "print('Val set stats:')\n",
    "val_stats=display_mountain_stats(ds_val)\n",
    "print('###' * 10)\n",
    "\n",
    "print('Test set stats:')\n",
    "test_stats=display_mountain_stats(ds_test)\n",
    "print('###' * 10)"
   ]
  },
  {
   "cell_type": "code",
   "execution_count": 78,
   "metadata": {},
   "outputs": [],
   "source": [
    "# We’ll map B-Mountain to an integer (e.g., 1), I-Mountain to another integer (e.g., 2), and O to 0\n",
    "#  in line with how ClassLabel expects integer labels.\n",
    "\n",
    "def mapping_function(example):\n",
    "    \"\"\"\n",
    "    A helper function that changes the tags like this:\n",
    "    Tokens labeled with 24 will be transformed to B-Mountain (1) or I-Mountain (2) based on their position.\n",
    "    All other tokens will remain the same.\n",
    "    :param example: a dataset sample\n",
    "    :return: the example with tags modified\n",
    "    \"\"\"\n",
    "    old_tags = example[\"fine_ner_tags\"]\n",
    "    new_tags = []\n",
    "\n",
    "    found_mountain = False  # Flag to track if a mountain label (24) is found\n",
    "\n",
    "    for tag in old_tags:\n",
    "        if tag == 24:\n",
    "            if not found_mountain:  # First occurrence of a mountain (B-Mountain)\n",
    "                new_tags.append(1)  # B-Mountain -> 1\n",
    "                found_mountain = True\n",
    "            else:  # Subsequent tokens of the same mountain (I-Mountain)\n",
    "                new_tags.append(2)  # I-Mountain -> 2\n",
    "        else:\n",
    "            new_tags.append(0)  # 'O' for all other tokens (unchanged)\n",
    "            found_mountain = False  # Reset the flag when it's not a mountain token\n",
    "\n",
    "    example['fine_ner_tags'] = new_tags\n",
    "    return example\n",
    "\n",
    "def modify_dataset(dataset):\n",
    "    \"\"\"\n",
    "    Change the tags for every sample in the dataset by applying BIO labeling for mountains.\n",
    "    :param dataset: the dataset\n",
    "    :return: a modified dataset\n",
    "    \"\"\"\n",
    "    # Apply the mapping function to each sample in the dataset\n",
    "    dataset = dataset.map(mapping_function, batched=False)\n",
    "    return dataset"
   ]
  },
  {
   "cell_type": "code",
   "execution_count": 79,
   "metadata": {},
   "outputs": [],
   "source": [
    "train_relabeled = modify_dataset(ds_train)\n",
    "val_relabeled = modify_dataset(ds_val)\n",
    "test_relabeled = modify_dataset(ds_test)"
   ]
  },
  {
   "cell_type": "code",
   "execution_count": 80,
   "metadata": {},
   "outputs": [],
   "source": [
    "def balance_dataset(dataset, p):\n",
    "    \"\"\"\n",
    "    Reduce the dataset by keeping only a fraction of the samples that do not contain mountains.\n",
    "    If a sample contains 'B-Mountain' or 'I-Mountain', it will always be retained.\n",
    "    \n",
    "    :param dataset: the dataset\n",
    "    :param p: the fraction, 0<=p<=1\n",
    "    :return: the reduced dataset\n",
    "    \"\"\"\n",
    "    def keep_or_discard(example):\n",
    "        \"\"\"\n",
    "        Helper function to decide whether to keep or discard a sample.\n",
    "        :param example: the sample\n",
    "        :return: True if keeping the sample, False otherwise\n",
    "        \"\"\"\n",
    "        mountain_tags = {1, 2}\n",
    "        has_mountain = any(tag in mountain_tags for tag in example['fine_ner_tags'])\n",
    "        return has_mountain or np.random.rand() < p\n",
    "\n",
    "    return dataset.filter(keep_or_discard)"
   ]
  },
  {
   "cell_type": "code",
   "execution_count": 81,
   "metadata": {},
   "outputs": [],
   "source": [
    "balanced_train = balance_dataset(train_relabeled, train_stats[-1] / (ds_train.shape[0] - train_stats[-1]))\n",
    "balanced_val = balance_dataset(val_relabeled, val_stats[-1] / (ds_val.shape[0] - val_stats[-1]))\n",
    "balanced_test = balance_dataset(test_relabeled, test_stats[-1] / (ds_test.shape[0] - test_stats[-1]))"
   ]
  },
  {
   "cell_type": "code",
   "execution_count": 82,
   "metadata": {},
   "outputs": [
    {
     "data": {
      "text/plain": [
       "Dataset({\n",
       "    features: ['id', 'tokens', 'ner_tags', 'fine_ner_tags'],\n",
       "    num_rows: 3012\n",
       "})"
      ]
     },
     "execution_count": 82,
     "metadata": {},
     "output_type": "execute_result"
    }
   ],
   "source": [
    "balanced_train"
   ]
  },
  {
   "cell_type": "markdown",
   "metadata": {},
   "source": [
    "### Balanced dataset stats"
   ]
  },
  {
   "cell_type": "code",
   "execution_count": 83,
   "metadata": {},
   "outputs": [
    {
     "name": "stderr",
     "output_type": "stream",
     "text": [
      "100%|██████████| 3012/3012 [00:00<00:00, 17757.46it/s]\n"
     ]
    },
    {
     "name": "stdout",
     "output_type": "stream",
     "text": [
      "Number of mountains = 4500\n",
      "Number of distinct mountains = 1871\n",
      "Number of samples with mountains = 1502\n",
      "##############################\n",
      "Number of samples without mountains = 1510\n",
      "******************************\n",
      " \n"
     ]
    },
    {
     "name": "stderr",
     "output_type": "stream",
     "text": [
      "100%|██████████| 446/446 [00:00<00:00, 16732.94it/s]\n"
     ]
    },
    {
     "name": "stdout",
     "output_type": "stream",
     "text": [
      "Number of mountains = 734\n",
      "Number of distinct mountains = 474\n",
      "Number of samples with mountains = 218\n",
      "##############################\n",
      "Number of samples without mountains = 228\n",
      "******************************\n",
      " \n"
     ]
    },
    {
     "name": "stderr",
     "output_type": "stream",
     "text": [
      "100%|██████████| 934/934 [00:00<00:00, 17903.41it/s]\n"
     ]
    },
    {
     "name": "stdout",
     "output_type": "stream",
     "text": [
      "Number of mountains = 1366\n",
      "Number of distinct mountains = 776\n",
      "Number of samples with mountains = 448\n",
      "##############################\n",
      "Number of samples without mountains = 486\n",
      "******************************\n",
      " \n"
     ]
    }
   ],
   "source": [
    "balanced_train_stats = display_mountain_stats(balanced_train, mountain_tag=[1, 2])\n",
    "print(\"###\" * 10)\n",
    "print(f\"Number of samples without mountains = {balanced_train.shape[0] - balanced_train_stats[-1]}\")\n",
    "print(\"***\" * 10)\n",
    "print(\" \")\n",
    "\n",
    "balanced_val_stats = display_mountain_stats(balanced_val, mountain_tag=[1, 2])\n",
    "print(\"###\" * 10)\n",
    "print(f\"Number of samples without mountains = {balanced_val.shape[0] - balanced_val_stats[-1]}\")\n",
    "print(\"***\" * 10)\n",
    "print(\" \")\n",
    "\n",
    "balanced_test_stats = display_mountain_stats(balanced_test, mountain_tag=[1, 2])\n",
    "print(\"###\" * 10)\n",
    "print(f\"Number of samples without mountains = {balanced_test.shape[0] - balanced_test_stats[-1]}\")\n",
    "print(\"***\" * 10)\n",
    "print(\" \")"
   ]
  },
  {
   "cell_type": "code",
   "execution_count": 84,
   "metadata": {},
   "outputs": [
    {
     "data": {
      "text/plain": [
       "{'id': '385',\n",
       " 'tokens': ['The',\n",
       "  'Innuitian',\n",
       "  'Mountains',\n",
       "  \"'\",\n",
       "  'present',\n",
       "  'form',\n",
       "  'was',\n",
       "  'shaped',\n",
       "  'during',\n",
       "  'the',\n",
       "  'Innuitian',\n",
       "  'orogeny',\n",
       "  'in',\n",
       "  'the',\n",
       "  'middle',\n",
       "  'of',\n",
       "  'the',\n",
       "  'Mesozoic',\n",
       "  'Era',\n",
       "  'when',\n",
       "  'the',\n",
       "  'North',\n",
       "  'American',\n",
       "  'Plate',\n",
       "  'moved',\n",
       "  'northward',\n",
       "  '.'],\n",
       " 'ner_tags': [0,\n",
       "  4,\n",
       "  4,\n",
       "  0,\n",
       "  0,\n",
       "  0,\n",
       "  0,\n",
       "  0,\n",
       "  0,\n",
       "  0,\n",
       "  0,\n",
       "  0,\n",
       "  0,\n",
       "  0,\n",
       "  0,\n",
       "  0,\n",
       "  0,\n",
       "  0,\n",
       "  0,\n",
       "  0,\n",
       "  0,\n",
       "  4,\n",
       "  4,\n",
       "  0,\n",
       "  0,\n",
       "  0,\n",
       "  0],\n",
       " 'fine_ner_tags': [0,\n",
       "  1,\n",
       "  2,\n",
       "  0,\n",
       "  0,\n",
       "  0,\n",
       "  0,\n",
       "  0,\n",
       "  0,\n",
       "  0,\n",
       "  0,\n",
       "  0,\n",
       "  0,\n",
       "  0,\n",
       "  0,\n",
       "  0,\n",
       "  0,\n",
       "  0,\n",
       "  0,\n",
       "  0,\n",
       "  0,\n",
       "  0,\n",
       "  0,\n",
       "  0,\n",
       "  0,\n",
       "  0,\n",
       "  0]}"
      ]
     },
     "execution_count": 84,
     "metadata": {},
     "output_type": "execute_result"
    }
   ],
   "source": [
    "balanced_train[10]"
   ]
  },
  {
   "cell_type": "code",
   "execution_count": 85,
   "metadata": {},
   "outputs": [
    {
     "name": "stderr",
     "output_type": "stream",
     "text": [
      "Saving the dataset (1/1 shards): 100%|██████████| 3012/3012 [00:00<00:00, 159442.20 examples/s]\n",
      "Saving the dataset (1/1 shards): 100%|██████████| 446/446 [00:00<00:00, 92859.75 examples/s] \n",
      "Saving the dataset (1/1 shards): 100%|██████████| 934/934 [00:00<00:00, 128492.52 examples/s]\n"
     ]
    }
   ],
   "source": [
    "balanced_train.save_to_disk(DATAGEN_CONFIG['FEW-NERD_BALANCED_TRAIN_PATH'])\n",
    "balanced_val.save_to_disk(DATAGEN_CONFIG['FEW-NERD_BALANCED_VAL_PATH'])\n",
    "balanced_test.save_to_disk(DATAGEN_CONFIG['FEW-NERD_BALANCED_TEST_PATH'])"
   ]
  },
  {
   "cell_type": "markdown",
   "metadata": {},
   "source": [
    "# Resulting Dataset"
   ]
  },
  {
   "cell_type": "code",
   "execution_count": 86,
   "metadata": {},
   "outputs": [],
   "source": [
    "import json\n",
    "import pandas as pd\n",
    "from datasets import load_from_disk, Dataset, concatenate_datasets"
   ]
  },
  {
   "cell_type": "code",
   "execution_count": 87,
   "metadata": {},
   "outputs": [],
   "source": [
    "# Load the synthetic dataset\n",
    "with open(DATAGEN_CONFIG['SAVE_PROCESSED_PATH'], 'r') as f:\n",
    "    synthetic_data = json.load(f)\n",
    "\n",
    "# Load the WNUT dataset\n",
    "wnut_data = pd.read_csv(DATAGEN_CONFIG['PROCESSED_WNUT_PATH'])\n",
    "\n",
    "# Load the Few-NERD dataset\n",
    "few_nerd_data = load_from_disk(DATAGEN_CONFIG['FEW-NERD_BALANCED_TRAIN_PATH'])"
   ]
  },
  {
   "cell_type": "code",
   "execution_count": 88,
   "metadata": {},
   "outputs": [],
   "source": [
    "# Process the synthetic dataset into a DataFrame\n",
    "synthetic_df = pd.DataFrame(synthetic_data)\n",
    "\n",
    "# Ensure all tokens are strings and labels are integers\n",
    "synthetic_df['tokens'] = synthetic_df['tokens'].apply(lambda x: [str(token) for token in x])\n",
    "synthetic_df['labels'] = synthetic_df['labels'].apply(lambda x: [int(label) for label in x])\n",
    "\n",
    "# Process the WNUT dataset\n",
    "# Convert the strings to actual lists\n",
    "wnut_data['tokens'] = wnut_data['tokens'].apply(lambda x: eval(x))\n",
    "wnut_data['labels'] = wnut_data['labels'].apply(lambda x: eval(x))\n",
    "\n",
    "# Create a DataFrame for WNUT\n",
    "wnut_df = pd.DataFrame({\n",
    "    'sentence': wnut_data['tokens'].apply(lambda x: ' '.join(x)),  # Join tokens into a sentence\n",
    "    'tokens': wnut_data['tokens'],\n",
    "    'labels': wnut_data['labels']\n",
    "})\n",
    "\n",
    "# Ensure all tokens are strings and labels are integers\n",
    "wnut_df['tokens'] = wnut_df['tokens'].apply(lambda x: [str(token) for token in x])\n",
    "wnut_df['labels'] = wnut_df['labels'].apply(lambda x: [int(label) for label in x])\n",
    "\n",
    "# Combine the datasets into a single DataFrame\n",
    "combined_data = pd.concat([synthetic_df, wnut_df], ignore_index=True)\n",
    "\n",
    "# Convert combined DataFrame to Dataset\n",
    "combined_dataset = Dataset.from_pandas(combined_data)"
   ]
  },
  {
   "cell_type": "code",
   "execution_count": 89,
   "metadata": {},
   "outputs": [
    {
     "name": "stderr",
     "output_type": "stream",
     "text": [
      "Saving the dataset (1/1 shards): 100%|██████████| 3404/3404 [00:00<00:00, 894911.05 examples/s]\n"
     ]
    }
   ],
   "source": [
    "# Process the Few-NERD dataset\n",
    "# Convert the Few-NERD dataset to DataFrame\n",
    "few_nerd_df = pd.DataFrame({\n",
    "    'sentence': [\" \".join(tokens) for tokens in few_nerd_data['tokens']],\n",
    "    'tokens': few_nerd_data['tokens'],\n",
    "    'labels': few_nerd_data['fine_ner_tags']  # Use ner_tags for labels\n",
    "})\n",
    "\n",
    "# Ensure all tokens are strings and labels are integers\n",
    "few_nerd_df['tokens'] = few_nerd_df['tokens'].apply(lambda x: [str(token) for token in x])\n",
    "few_nerd_df['labels'] = few_nerd_df['labels'].apply(lambda x: [int(label) for label in x])\n",
    "\n",
    "# Convert Few-NERD DataFrame to Dataset\n",
    "few_nerd_dataset = Dataset.from_pandas(few_nerd_df)\n",
    "\n",
    "# Combine with Few-NERD dataset\n",
    "final_dataset = concatenate_datasets([combined_dataset, few_nerd_dataset])\n",
    "\n",
    "# Save the final dataset if needed\n",
    "final_dataset.save_to_disk(DATAGEN_CONFIG['FINAL_DATASET_PATH'])"
   ]
  },
  {
   "cell_type": "markdown",
   "metadata": {},
   "source": [
    "### Examples"
   ]
  },
  {
   "cell_type": "code",
   "execution_count": 90,
   "metadata": {},
   "outputs": [
    {
     "data": {
      "text/plain": [
       "{'sentence': 'Mount Everest, the highest peak in the world, was formed approximately 60 million years ago when India collided with Eurasia.',\n",
       " 'tokens': ['Mount',\n",
       "  'Everest',\n",
       "  ',',\n",
       "  'the',\n",
       "  'highest',\n",
       "  'peak',\n",
       "  'in',\n",
       "  'the',\n",
       "  'world',\n",
       "  ',',\n",
       "  'was',\n",
       "  'formed',\n",
       "  'approximately',\n",
       "  '60',\n",
       "  'million',\n",
       "  'years',\n",
       "  'ago',\n",
       "  'when',\n",
       "  'India',\n",
       "  'collided',\n",
       "  'with',\n",
       "  'Eurasia',\n",
       "  '.'],\n",
       " 'labels': [1,\n",
       "  2,\n",
       "  0,\n",
       "  0,\n",
       "  0,\n",
       "  0,\n",
       "  0,\n",
       "  0,\n",
       "  0,\n",
       "  0,\n",
       "  0,\n",
       "  0,\n",
       "  0,\n",
       "  0,\n",
       "  0,\n",
       "  0,\n",
       "  0,\n",
       "  0,\n",
       "  0,\n",
       "  0,\n",
       "  0,\n",
       "  0,\n",
       "  0]}"
      ]
     },
     "execution_count": 90,
     "metadata": {},
     "output_type": "execute_result"
    }
   ],
   "source": [
    "final_dataset[0]"
   ]
  },
  {
   "cell_type": "code",
   "execution_count": 91,
   "metadata": {},
   "outputs": [
    {
     "data": {
      "text/plain": [
       "{'sentence': 'You all need to know justin isnt the innocent 16 year old boy you think he is he has to be like that and love his fans so',\n",
       " 'tokens': ['You',\n",
       "  'all',\n",
       "  'need',\n",
       "  'to',\n",
       "  'know',\n",
       "  'justin',\n",
       "  'isnt',\n",
       "  'the',\n",
       "  'innocent',\n",
       "  '16',\n",
       "  'year',\n",
       "  'old',\n",
       "  'boy',\n",
       "  'you',\n",
       "  'think',\n",
       "  'he',\n",
       "  'is',\n",
       "  'he',\n",
       "  'has',\n",
       "  'to',\n",
       "  'be',\n",
       "  'like',\n",
       "  'that',\n",
       "  'and',\n",
       "  'love',\n",
       "  'his',\n",
       "  'fans',\n",
       "  'so'],\n",
       " 'labels': [0,\n",
       "  0,\n",
       "  0,\n",
       "  0,\n",
       "  0,\n",
       "  0,\n",
       "  0,\n",
       "  0,\n",
       "  0,\n",
       "  0,\n",
       "  0,\n",
       "  0,\n",
       "  0,\n",
       "  0,\n",
       "  0,\n",
       "  0,\n",
       "  0,\n",
       "  0,\n",
       "  0,\n",
       "  0,\n",
       "  0,\n",
       "  0,\n",
       "  0,\n",
       "  0,\n",
       "  0,\n",
       "  0,\n",
       "  0,\n",
       "  0]}"
      ]
     },
     "execution_count": 91,
     "metadata": {},
     "output_type": "execute_result"
    }
   ],
   "source": [
    "final_dataset[321]"
   ]
  },
  {
   "cell_type": "code",
   "execution_count": 92,
   "metadata": {},
   "outputs": [
    {
     "data": {
      "text/plain": [
       "{'sentence': 'Akhun Salak Baba is buried in Akhun Salak Baba Cemetery , about 0.5 miles south of lower Kabalgram village , on the west bank of Indus river and north bank of Itai Khwar ( River ) .',\n",
       " 'tokens': ['Akhun',\n",
       "  'Salak',\n",
       "  'Baba',\n",
       "  'is',\n",
       "  'buried',\n",
       "  'in',\n",
       "  'Akhun',\n",
       "  'Salak',\n",
       "  'Baba',\n",
       "  'Cemetery',\n",
       "  ',',\n",
       "  'about',\n",
       "  '0.5',\n",
       "  'miles',\n",
       "  'south',\n",
       "  'of',\n",
       "  'lower',\n",
       "  'Kabalgram',\n",
       "  'village',\n",
       "  ',',\n",
       "  'on',\n",
       "  'the',\n",
       "  'west',\n",
       "  'bank',\n",
       "  'of',\n",
       "  'Indus',\n",
       "  'river',\n",
       "  'and',\n",
       "  'north',\n",
       "  'bank',\n",
       "  'of',\n",
       "  'Itai',\n",
       "  'Khwar',\n",
       "  '(',\n",
       "  'River',\n",
       "  ')',\n",
       "  '.'],\n",
       " 'labels': [0,\n",
       "  0,\n",
       "  0,\n",
       "  0,\n",
       "  0,\n",
       "  0,\n",
       "  0,\n",
       "  0,\n",
       "  0,\n",
       "  0,\n",
       "  0,\n",
       "  0,\n",
       "  0,\n",
       "  0,\n",
       "  0,\n",
       "  0,\n",
       "  0,\n",
       "  0,\n",
       "  0,\n",
       "  0,\n",
       "  0,\n",
       "  0,\n",
       "  0,\n",
       "  0,\n",
       "  0,\n",
       "  0,\n",
       "  0,\n",
       "  0,\n",
       "  0,\n",
       "  0,\n",
       "  0,\n",
       "  0,\n",
       "  0,\n",
       "  0,\n",
       "  0,\n",
       "  0,\n",
       "  0]}"
      ]
     },
     "execution_count": 92,
     "metadata": {},
     "output_type": "execute_result"
    }
   ],
   "source": [
    "final_dataset[2900]"
   ]
  },
  {
   "cell_type": "code",
   "execution_count": null,
   "metadata": {},
   "outputs": [],
   "source": []
  },
  {
   "cell_type": "code",
   "execution_count": null,
   "metadata": {},
   "outputs": [],
   "source": []
  }
 ],
 "metadata": {
  "kernelspec": {
   "display_name": "ner_quant",
   "language": "python",
   "name": "python3"
  },
  "language_info": {
   "codemirror_mode": {
    "name": "ipython",
    "version": 3
   },
   "file_extension": ".py",
   "mimetype": "text/x-python",
   "name": "python",
   "nbconvert_exporter": "python",
   "pygments_lexer": "ipython3",
   "version": "3.10.15"
  }
 },
 "nbformat": 4,
 "nbformat_minor": 2
}
